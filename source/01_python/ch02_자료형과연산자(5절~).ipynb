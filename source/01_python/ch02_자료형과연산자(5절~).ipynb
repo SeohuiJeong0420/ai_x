{
 "cells": [
  {
   "cell_type": "code",
   "execution_count": 1,
   "id": "f4fdf881",
   "metadata": {},
   "outputs": [
    {
     "data": {
      "text/html": [
       "\n",
       "<style>\n",
       "div.container{width:86% !important;}\n",
       "div.cell.code_cell.rendered{width:100%;}\n",
       "div.CodeMirror {font-family:Consolas; font-size:15pt;}\n",
       "div.output {font-size:15pt; font-weight:bold;}\n",
       "div.input {font-family:Consolas; font-size:15pt;}\n",
       "div.prompt {min-width:70px;}\n",
       "div#toc-wrapper{padding-top:120px;}\n",
       "div.text_cell_render ul li{font-size:12pt;padding:5px;}\n",
       "table.dataframe{font-size:15px;}\n",
       "</style>\n"
      ],
      "text/plain": [
       "<IPython.core.display.HTML object>"
      ]
     },
     "metadata": {},
     "output_type": "display_data"
    }
   ],
   "source": [
    "from IPython.display import display, HTML\n",
    "display(HTML(\"\"\"\n",
    "<style>\n",
    "div.container{width:86% !important;}\n",
    "div.cell.code_cell.rendered{width:100%;}\n",
    "div.CodeMirror {font-family:Consolas; font-size:15pt;}\n",
    "div.output {font-size:15pt; font-weight:bold;}\n",
    "div.input {font-family:Consolas; font-size:15pt;}\n",
    "div.prompt {min-width:70px;}\n",
    "div#toc-wrapper{padding-top:120px;}\n",
    "div.text_cell_render ul li{font-size:12pt;padding:5px;}\n",
    "table.dataframe{font-size:15px;}\n",
    "</style>\n",
    "\"\"\"))"
   ]
  },
  {
   "cell_type": "markdown",
   "id": "88cc637f",
   "metadata": {},
   "source": [
    "<font size=\"5\" color=\"red\">ch02 자료형과연산자</font>\n",
    "# 5절. 연산자\n",
    "\n",
    "## 5.1 산술연산자: +,-,*,/,//,(몫연산자),%,**(제곱)"
   ]
  },
  {
   "cell_type": "code",
   "execution_count": 4,
   "id": "de3735ca",
   "metadata": {},
   "outputs": [
    {
     "name": "stdout",
     "output_type": "stream",
     "text": [
      "100000\n",
      "4/2의 결과:  2.0\n",
      "4//2의 몫:  2\n",
      "0\n"
     ]
    }
   ],
   "source": [
    "print(10**5)\n",
    "print(\"4/2의 결과: \", 4/2)\n",
    "print(\"4//2의 몫: \", 4//2)\n",
    "print(4%2)"
   ]
  },
  {
   "cell_type": "code",
   "execution_count": 5,
   "id": "9353688d",
   "metadata": {},
   "outputs": [
    {
     "name": "stdout",
     "output_type": "stream",
     "text": [
      "정수를 입력하세요: 9\n",
      "입력하신 수는 9, 2로 나눈 나머지는 1, 그래서 홀수를 입력하셨군요\n"
     ]
    }
   ],
   "source": [
    "# quiz: 1. 정수를 입력받아 짝수인지 홀수인지 여부 출력\n",
    "num = int(input('정수를 입력하세요: '))\n",
    "result = num%2\n",
    "if result:\n",
    "    temp = '홀수'\n",
    "else:\n",
    "    temp = '짝수'\n",
    "print(f'입력하신 수는 {num}, 2로 나눈 나머지는 {result}, 그래서 {temp}를 입력하셨군요')"
   ]
  },
  {
   "cell_type": "code",
   "execution_count": 7,
   "id": "39e2732b",
   "metadata": {},
   "outputs": [
    {
     "name": "stdout",
     "output_type": "stream",
     "text": [
      "정수를 입력하세요: 15\n",
      "입력하신 수는15, 나머지는 0이므로 5의 배수입니다\n"
     ]
    }
   ],
   "source": [
    "#quiz: 2. 정수를 입력받아 5의 배수인지 여부를 출력\n",
    "num = int(input('정수를 입력하세요: '))\n",
    "result = num%5\n",
    "if result == 0:\n",
    "    temp = '5의 배수입니다'\n",
    "else:\n",
    "    temp = '5의 배수가 아닙니다'\n",
    "print(f'입력하신 수는{num}, 나머지는 {result}이므로 {temp}')"
   ]
  },
  {
   "cell_type": "code",
   "execution_count": 24,
   "id": "0ea3ea88",
   "metadata": {},
   "outputs": [
    {
     "name": "stdout",
     "output_type": "stream",
     "text": [
      "국어: 90\n",
      "영어: 100\n",
      "수학: 80\n",
      "국어:  90\t영어: 100\t수학:  80\n",
      "총점: 270\t평균:  80.0\n"
     ]
    }
   ],
   "source": [
    "#quiz: 3. 국, 영, 수 점수를 입력받아 다음셀에서 다음과 같이 출력하도록 구현하시오\n",
    "#국어: 99, 영어: 98, 수학: 99, 총점: 296, 평균: 98.7\n",
    "kor = int(input('국어: '))\n",
    "eng = int(input('영어: '))\n",
    "mat = int(input('수학: '))\n",
    "sum = kor + eng + mat\n",
    "ave = all/3\n",
    "print(\"국어: {:3d}\\t영어: {:3d}\\t수학: {:3d}\\n총점: {:3d}\\t평균: {:5.1f}\".format(kor, eng, mat, sum, ave))"
   ]
  },
  {
   "cell_type": "markdown",
   "id": "f53fd163",
   "metadata": {},
   "source": [
    "## 5.2 할당연산자: =, +=, -=, *=, /=, //=, %="
   ]
  },
  {
   "cell_type": "code",
   "execution_count": 26,
   "id": "3b532be5",
   "metadata": {},
   "outputs": [
    {
     "name": "stdout",
     "output_type": "stream",
     "text": [
      "5더하기:  15\n"
     ]
    }
   ],
   "source": [
    "a=10\n",
    "a += 5 #a=a+5\n",
    "print('5더하기: ',a)"
   ]
  },
  {
   "cell_type": "markdown",
   "id": "96ed5ffa",
   "metadata": {},
   "source": [
    "## 5.3논리연산자: &, and,       |, or, not"
   ]
  },
  {
   "cell_type": "code",
   "execution_count": 28,
   "id": "732ede24",
   "metadata": {},
   "outputs": [
    {
     "name": "stdout",
     "output_type": "stream",
     "text": [
      "True\n",
      "0\n"
     ]
    }
   ],
   "source": [
    "# & 논리연산자, 비트연산자\n",
    "print((10>3)&(10>5))\n",
    "print(12&1) #비트연산 12: 0000 1100\n",
    "            #         1: 0000 0001\n",
    "            #      12&1: 0000 0000"
   ]
  },
  {
   "cell_type": "code",
   "execution_count": 32,
   "id": "b79a4c5e",
   "metadata": {},
   "outputs": [
    {
     "name": "stdout",
     "output_type": "stream",
     "text": [
      "3\n"
     ]
    }
   ],
   "source": [
    "#and: 논리연산만 가능. False로 판별되는  첫번째 항의 결과 반환. 모든 항이 참이면 마지막 항을 반환\n",
    "print(True and 1 and 3)"
   ]
  },
  {
   "cell_type": "code",
   "execution_count": 36,
   "id": "5c43dde7",
   "metadata": {},
   "outputs": [
    {
     "name": "stdout",
     "output_type": "stream",
     "text": [
      "논리연산(연산자 앞뒤에 논리형일때):  True\n",
      "비트연산(연산자 앞이나 뒤에 숫자일때):  3\n"
     ]
    }
   ],
   "source": [
    "# |: 논리연산, 비트연산\n",
    "result = False | True\n",
    "print('논리연산(연산자 앞뒤에 논리형일때): ', result)\n",
    "result = False | 3     # 0000 0000 (False)\n",
    "                       # 0000 0011(3)\n",
    "print('비트연산(연산자 앞이나 뒤에 숫자일때): ', result)"
   ]
  },
  {
   "cell_type": "code",
   "execution_count": 39,
   "id": "5b9198b4",
   "metadata": {},
   "outputs": [
    {
     "name": "stdout",
     "output_type": "stream",
     "text": [
      "None\n",
      "Hong\n",
      "False\n"
     ]
    }
   ],
   "source": [
    "# or: 논리연산만 가능. 참으로 판별되는 첫번째 항의 결과 반환. 모든 항이 거짓이면 마지막 항을 반환\n",
    "print(False or False or None)\n",
    "print('Hong' or ' ' or False)\n",
    "print(not True)"
   ]
  },
  {
   "cell_type": "markdown",
   "id": "f7aa7b18",
   "metadata": {},
   "source": [
    "## 5.4 비교연산자: >, <, >=, <=, ==, !="
   ]
  },
  {
   "cell_type": "code",
   "execution_count": 44,
   "id": "d8c3ac8c",
   "metadata": {},
   "outputs": [
    {
     "name": "stdout",
     "output_type": "stream",
     "text": [
      "True\n",
      "False\n",
      "True\n"
     ]
    }
   ],
   "source": [
    "#비교연산자는 이항, 삼항, 사항... 다항연산자\n",
    "#비교연산자(<)의 우선순위가 논리연산(&)의 우선순위보다 낮다\n",
    "print((10>5)&(10>7))\n",
    "print(10>5 & 10>7)\n",
    "print(10>5 and 10>7)"
   ]
  },
  {
   "cell_type": "code",
   "execution_count": 47,
   "id": "345718b5",
   "metadata": {},
   "outputs": [
    {
     "name": "stdout",
     "output_type": "stream",
     "text": [
      "False\n",
      "False\n"
     ]
    }
   ],
   "source": [
    "address = '서울'\n",
    "age = 29\n",
    "print((address == '서울') & (age>=30))\n",
    "print((address != '서울') & (age>=30))"
   ]
  },
  {
   "cell_type": "code",
   "execution_count": 50,
   "id": "4d9a552a",
   "metadata": {},
   "outputs": [
    {
     "data": {
      "text/plain": [
       "True"
      ]
     },
     "execution_count": 50,
     "metadata": {},
     "output_type": "execute_result"
    }
   ],
   "source": [
    "#문자 비교: 아스키 코드 순으로 비교 가능 : 특수문자 < 숫자 < 대문자 < 소문자\n",
    "'scott'<'tiger'"
   ]
  },
  {
   "cell_type": "code",
   "execution_count": 51,
   "id": "e4023917",
   "metadata": {},
   "outputs": [
    {
     "data": {
      "text/plain": [
       "True"
      ]
     },
     "execution_count": 51,
     "metadata": {},
     "output_type": "execute_result"
    }
   ],
   "source": [
    "'9' > '10'"
   ]
  },
  {
   "cell_type": "code",
   "execution_count": 52,
   "id": "1342c85a",
   "metadata": {},
   "outputs": [
    {
     "data": {
      "text/plain": [
       "True"
      ]
     },
     "execution_count": 52,
     "metadata": {},
     "output_type": "execute_result"
    }
   ],
   "source": [
    "'김길동' < '홍길동'"
   ]
  },
  {
   "cell_type": "markdown",
   "id": "0f4a8408",
   "metadata": {},
   "source": [
    "## 5.5 비트연산자 :&, |, ^(XOR), ~"
   ]
  },
  {
   "cell_type": "code",
   "execution_count": 53,
   "id": "003b455f",
   "metadata": {},
   "outputs": [
    {
     "name": "stdout",
     "output_type": "stream",
     "text": [
      "a = 15:1111\n",
      "a =  2:0010\n",
      "a^b = 13:1101\n"
     ]
    }
   ],
   "source": [
    "# ^ : 데이터가 같으면 0, 다르면 1\n",
    "a = 15 #1111\n",
    "b = 2  #0010\n",
    "print(\"a = {0:2}:{0:04b}\".format(a))\n",
    "print(\"a = {0:2}:{0:04b}\".format(b))\n",
    "print(\"a^b = {0:2}:{0:04b}\".format(a^b))"
   ]
  },
  {
   "cell_type": "markdown",
   "id": "a97ff415",
   "metadata": {},
   "source": [
    "- 연산자\n",
    " - 산술연산 : + - * / // % **\n",
    " - 할당연산 : = += -= *= /= //= %=\n",
    " - 논리연산 : & and | or not\n",
    " - 비교연산 : > >= < <= == !=\n",
    " - 비트연산 : & | ^ ~\n",
    " - &와 |은 비교연산자보다 우선순위가 높다.\n"
   ]
  },
  {
   "cell_type": "markdown",
   "id": "1f27cf2a",
   "metadata": {},
   "source": [
    "# 6절. 문자열 다루기\n",
    "- 문자열 슬라이싱 변수[from:stop:step]\n",
    "- len(문자열변수) :문자개수\n",
    "- upper() : 대문자로\n",
    "- lower() : 소문자로\n",
    "- title() : 각 어절의 첫글자만 대문자로\n",
    "- capitalize() : 첫문자만 대문자로\n",
    "- count('찾을문자열') : 찾을 문자열이 몇개 들어있는지 개수 변환\n",
    "- find('찾을문자열') : 찾을 문자열이 왼쪽부터 시작하여 몇번째에 있는지 인덱스 반환\n",
    "- rfind('찾을문자열') : 찾을문자열이 오른쪽부터 시작하여 몇번째에 있는지 인덱스를 반환\n",
    "       **찾을 문자열이 없으면 -1반환**\n",
    "       cf) index('찾을문자열'): 찾을문자열의 인덱스를 반환. 찾을 문자열이 없으면 오류\n",
    "- startswith('특정문자열') : 특정문자열로 시작하는지 여부\n",
    "- endwith('특정문자열')  :특정문자열로 끝나는지 여부\n",
    "- strip(): 좌우 공백 제거\n",
    "- rstrip() : 오른쪽 공백 제거\n",
    "- lstrip() : 왼쪽 공백 제거\n",
    "- isdigit(): 문자열이 숫자문자열인지 여부\n",
    "- islower(): 소문자 문자열인지 여부\n",
    "- isupper(): 대문자 문자열인지 여부\n",
    "- replace(oldStr, newStr) : oldStr을 newStr로 변경"
   ]
  },
  {
   "cell_type": "code",
   "execution_count": 65,
   "id": "78ab089f",
   "metadata": {},
   "outputs": [
    {
     "name": "stdout",
     "output_type": "stream",
     "text": [
      "1. 글자수 39\n",
      "2. 대문자로:  PYTHON IS EASY. PYTHON IS SMART. PYTHON\n",
      "3. 소문자로:  python is easy. python is smart. python\n",
      "4. title:  Python Is Easy. Python Is Smart. Python\n",
      "5. capitalize():  Python is easy. python is smart. python\n",
      "6. python이 몇번 나오는지:  3\n",
      "7. 대소문자구분없이 python이 몇번 나오는지:  3\n",
      "7. 대소문자구분없이 python이 몇번 나오는지:  3\n",
      "7. 대소문자구분없이 python이 몇번 나오는지:  3\n",
      "8. python이 나오는 첫 인덱스 위치:  0\n",
      "8. python이 나오는 마지막 인덱스 위치:  33\n",
      "8. java이 나오는 마지막 인덱스 위치:  -1\n",
      "8. python이 나오는 첫 인덱스 위치:  0\n",
      "9. python으로 시작하는지 여부:  True\n",
      "10. python으로 끝나는지 여부:  False\n",
      "10. 대소문자 구분없이 python으로 끝나는지 여부:  True\n"
     ]
    }
   ],
   "source": [
    "temp = 'python is easy. python is smart. python'\n",
    "print('1. 글자수', len(temp))\n",
    "print('2. 대문자로: ', temp.upper())\n",
    "print('3. 소문자로: ', temp.lower())\n",
    "print('4. title: ', temp.title())\n",
    "print('5. capitalize(): ', temp.capitalize())\n",
    "print('6. python이 몇번 나오는지: ', temp.count('python'))\n",
    "print('7. 대소문자구분없이 python이 몇번 나오는지: ', temp.lower().count('python'))\n",
    "print('7. 대소문자구분없이 python이 몇번 나오는지: ', temp.upper().count('PYTHON'))\n",
    "print('7. 대소문자구분없이 python이 몇번 나오는지: ', temp.title().count('Python'))\n",
    "print('8. python이 나오는 첫 인덱스 위치: ', temp.find('python'))\n",
    "print('8. python이 나오는 마지막 인덱스 위치: ', temp.rfind('python'))\n",
    "print('8. java이 나오는 마지막 인덱스 위치: ', temp.rfind('java'))\n",
    "print('8. python이 나오는 첫 인덱스 위치: ', temp.index('python'))\n",
    "# print('8. java이 나오는 첫 인덱스 위치: ', temp.index('java'))\n",
    "print('9. python으로 시작하는지 여부: ', temp.startswith('python'))\n",
    "print('10. python으로 끝나는지 여부: ', temp.endswith('PYTHON'))\n",
    "print('10. 대소문자 구분없이 python으로 끝나는지 여부: ', temp.upper().endswith('PYTHON'))"
   ]
  },
  {
   "cell_type": "code",
   "execution_count": 75,
   "id": "dab1dba7",
   "metadata": {},
   "outputs": [
    {
     "name": "stdout",
     "output_type": "stream",
     "text": [
      "11. 좌우공백제거: [python is easy.]\n",
      "11. 좌측공백제거: [python is easy.      ]\n",
      "11. 우측공백제거: [       python is easy.]\n",
      "12. 숫자문자열인지:  False\n",
      "13. 소문자문자열인지:  True\n",
      "13. 대문자문자열인지:  False\n",
      "14. ,제거:  1000000\n",
      "14. ,제거:  1000\n"
     ]
    }
   ],
   "source": [
    "temp = '       python is easy.      '\n",
    "notdisit = '1,000,000'\n",
    "num_str = '1000'\n",
    "print('11. 좌우공백제거: [{}]'.format(temp.strip()))\n",
    "print('11. 좌측공백제거: [{}]'.format(temp.lstrip()))\n",
    "print('11. 우측공백제거: [{}]'.format(temp.rstrip()))\n",
    "print('12. 숫자문자열인지: ', notdisit.isdigit())\n",
    "print('13. 소문자문자열인지: ', temp.islower())\n",
    "print('13. 대문자문자열인지: ', temp.isupper())\n",
    "print('14. ,제거: ', notdisit.replace(',',''))\n",
    "print('14. ,제거: ', num_str.replace(',',''))"
   ]
  },
  {
   "cell_type": "code",
   "execution_count": 79,
   "id": "9b1efa9c",
   "metadata": {},
   "outputs": [
    {
     "name": "stdout",
     "output_type": "stream",
     "text": [
      "space단위로 temp분리:  ['홍길동', '김길동', '신길동', '유길동']\n"
     ]
    }
   ],
   "source": [
    "temp = '홍길동 김길동 신길동 유길동'\n",
    "print('space단위로 temp분리: ', temp.split()) #기본이 space단위로 분리"
   ]
  },
  {
   "cell_type": "code",
   "execution_count": 84,
   "id": "11877ef5",
   "metadata": {},
   "outputs": [
    {
     "name": "stdout",
     "output_type": "stream",
     "text": [
      "-단위로 data분리(결과 : list)\n",
      "['2025', '04', '10']\n",
      "년:  2025\n",
      "월:  04\n",
      "일:  10\n"
     ]
    }
   ],
   "source": [
    "data = '2025-04-10'\n",
    "print('-단위로 data분리(결과 : list)')\n",
    "data_list = data.split('-')\n",
    "print(data_list)\n",
    "print(\"년: \", data_list[0])\n",
    "print(\"월: \", data_list[1])\n",
    "print(\"일: \", data_list[2])\n",
    "\n",
    "temp = \"Python - HTML/CSS - JavaScript - DBMS\""
   ]
  }
 ],
 "metadata": {
  "kernelspec": {
   "display_name": "Python 3 (ipykernel)",
   "language": "python",
   "name": "python3"
  },
  "language_info": {
   "codemirror_mode": {
    "name": "ipython",
    "version": 3
   },
   "file_extension": ".py",
   "mimetype": "text/x-python",
   "name": "python",
   "nbconvert_exporter": "python",
   "pygments_lexer": "ipython3",
   "version": "3.10.9"
  },
  "toc": {
   "base_numbering": 1,
   "nav_menu": {},
   "number_sections": false,
   "sideBar": true,
   "skip_h1_title": false,
   "title_cell": "Table of Contents",
   "title_sidebar": "Contents",
   "toc_cell": false,
   "toc_position": {},
   "toc_section_display": true,
   "toc_window_display": false
  }
 },
 "nbformat": 4,
 "nbformat_minor": 5
}
