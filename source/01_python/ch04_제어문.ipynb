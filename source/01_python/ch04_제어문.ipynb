{
 "cells": [
  {
   "cell_type": "code",
   "execution_count": 1,
   "id": "f9b0471f",
   "metadata": {},
   "outputs": [
    {
     "data": {
      "text/html": [
       "\n",
       "<style>\n",
       "div.container{width:86% !important;}\n",
       "div.cell.code_cell.rendered{width:100%;}\n",
       "div.CodeMirror {font-family:Consolas; font-size:15pt;}\n",
       "div.output {font-size:15pt; font-weight:bold;}\n",
       "div.input {font-family:Consolas; font-size:15pt;}\n",
       "div.prompt {min-width:70px;}\n",
       "div#toc-wrapper{padding-top:120px;}\n",
       "div.text_cell_render ul li{font-size:12pt;padding:5px;}\n",
       "table.dataframe{font-size:15px;}\n",
       "</style>\n"
      ],
      "text/plain": [
       "<IPython.core.display.HTML object>"
      ]
     },
     "metadata": {},
     "output_type": "display_data"
    }
   ],
   "source": [
    "from IPython.display import display, HTML\n",
    "display(HTML(\"\"\"\n",
    "<style>\n",
    "div.container{width:86% !important;}\n",
    "div.cell.code_cell.rendered{width:100%;}\n",
    "div.CodeMirror {font-family:Consolas; font-size:15pt;}\n",
    "div.output {font-size:15pt; font-weight:bold;}\n",
    "div.input {font-family:Consolas; font-size:15pt;}\n",
    "div.prompt {min-width:70px;}\n",
    "div#toc-wrapper{padding-top:120px;}\n",
    "div.text_cell_render ul li{font-size:12pt;padding:5px;}\n",
    "table.dataframe{font-size:15px;}\n",
    "</style>\n",
    "\"\"\"))"
   ]
  },
  {
   "cell_type": "markdown",
   "id": "224d0523",
   "metadata": {},
   "source": [
    "<font color=\"red\" size=\"5\">ch04 제어문</font>\n",
    "- 조건문: if문\n",
    "- 반복문: for문, while문, 중첩가능"
   ]
  },
  {
   "cell_type": "markdown",
   "id": "dbf3e48d",
   "metadata": {},
   "source": [
    "## 1절. 조건문(if)\n",
    "```\n",
    "if조건1:\n",
    "      조건1이 참일 경우 수행할 명령어들\n",
    "elif 조건2:\n",
    "      조건1이 거짓이고, 조건2가 참일 경우 수행할 명령어들\n",
    "else:\n",
    "      모든 조건을 만족하지 않을 때 수행할 명령어들\n",
    "```\n",
    "   "
   ]
  },
  {
   "cell_type": "code",
   "execution_count": 2,
   "id": "6ed81c1f",
   "metadata": {},
   "outputs": [
    {
     "name": "stdout",
     "output_type": "stream",
     "text": [
      "점수는:90\n",
      "참 잘했어요\n",
      "다음에도 기대할께요\n",
      "화이팅\n"
     ]
    }
   ],
   "source": [
    "score = int(input('점수는:'))\n",
    "if score>=90:\n",
    "    print('참 잘했어요')\n",
    "    print('다음에도 기대할께요')\n",
    "elif score>=60:\n",
    "    print('분발하세요')\n",
    "    print('그래도 고생하셨어요')\n",
    "else:\n",
    "    print('재시험 응시하셔야 합니다')\n",
    "print('화이팅')"
   ]
  },
  {
   "cell_type": "code",
   "execution_count": 4,
   "id": "10d61453",
   "metadata": {},
   "outputs": [
    {
     "name": "stdout",
     "output_type": "stream",
     "text": [
      "점수는>90\n",
      "입력하신 점수는 90점이고, A등급입니다\n"
     ]
    }
   ],
   "source": [
    "#점수(0~100점)을 입력받아 학점을 출력하시오(A, B, C, D, F, 유효하지 않은 점수)\n",
    "score = int(input('점수는>'))\n",
    "if 90<=score<=100:\n",
    "    grade = 'A'\n",
    "elif 80<=score<90:\n",
    "    grade = 'B'\n",
    "elif 70<=score<80:\n",
    "    grade = 'C'\n",
    "elif 60<=score<70:\n",
    "    grade = 'D'\n",
    "elif score<60:\n",
    "    grade = 'F'\n",
    "else:\n",
    "    grade = '유효하지 않은 점수'\n",
    "print('입력하신 점수는 {}점이고, {}등급입니다'.format(score,grade))"
   ]
  },
  {
   "cell_type": "markdown",
   "id": "d84cec54",
   "metadata": {},
   "source": [
    "## 2절. 반복문\n",
    "## for-in\n",
    "- for 임시변수 in 나열가능한자료:\n",
    "    반복할명령어1\n",
    "    반복할명령어2\n",
    "  else:\n",
    "    나열가능한자료가 다 소요하여 for블록을 다 수행한 후 최종 한번 수행할 명령어\n",
    "    for문안에 break를 수행할 경우 else블록은 수행되지 않음"
   ]
  },
  {
   "cell_type": "code",
   "execution_count": 7,
   "id": "43324035",
   "metadata": {},
   "outputs": [
    {
     "name": "stdout",
     "output_type": "stream",
     "text": [
      "1\t3\t5\t7\t9\t\n",
      "Done\n",
      "END\n"
     ]
    }
   ],
   "source": [
    "for i in range(1, 10, 2):\n",
    "    print(i, end='\\t')\n",
    "else:\n",
    "    print('\\nDone')\n",
    "print('END')"
   ]
  },
  {
   "cell_type": "code",
   "execution_count": 10,
   "id": "c84f54af",
   "metadata": {},
   "outputs": [
    {
     "name": "stdout",
     "output_type": "stream",
     "text": [
      "1\t3\tEND\n"
     ]
    }
   ],
   "source": [
    "for i in range(1, 10, 2):\n",
    "    if i == 5:\n",
    "        break\n",
    "    print(i, end='\\t')\n",
    "else:\n",
    "    print('\\nDone')\n",
    "print('END')"
   ]
  },
  {
   "cell_type": "code",
   "execution_count": 18,
   "id": "be50894a",
   "metadata": {},
   "outputs": [
    {
     "name": "stdout",
     "output_type": "stream",
     "text": [
      "1부터 100까지의 짝수합은 2550\n"
     ]
    }
   ],
   "source": [
    "#1~100까지 짝수들의 누적합을 출력하시오(for문)\n",
    "tot = 0 #누적합변수\n",
    "for i in range(1, 101):\n",
    "    if i%2 == 0:\n",
    "        tot += i #tot = tot+i\n",
    "print ('1부터 100까지의 짝수합은', tot)"
   ]
  },
  {
   "cell_type": "markdown",
   "id": "cff84b11",
   "metadata": {},
   "source": [
    "## 2.2 while문\n",
    "```\n",
    "while 조건:\n",
    "      조건이 참일 경우 반복할 문장들\n",
    "else:\n",
    "      조건이 거짓일 경우 한번 실행할 문장(else구문 선택사항)\n",
    "```"
   ]
  },
  {
   "cell_type": "code",
   "execution_count": 23,
   "id": "be1548cd",
   "metadata": {},
   "outputs": [
    {
     "name": "stdout",
     "output_type": "stream",
     "text": [
      "1~100까지 합은: 2550\n"
     ]
    }
   ],
   "source": [
    "#1~100까지 짝수들의 누적합 출력\n",
    "tot  = 0\n",
    "i = 1\n",
    "while i<=100:\n",
    "    if i%2 == 0:\n",
    "        tot += i\n",
    "    i += 1\n",
    "print('1~100까지의 짝수합은:', tot)"
   ]
  },
  {
   "cell_type": "code",
   "execution_count": 53,
   "id": "e80f8663",
   "metadata": {},
   "outputs": [
    {
     "name": "stdout",
     "output_type": "stream",
     "text": [
      "첫 번째 정수:9\n",
      "두 번째 정수:5\n",
      "5부터 9까지 홀수들의 합은 21입니다\n"
     ]
    }
   ],
   "source": [
    "# ex1. 사용자에게 두 정수를 입력받아, 작은수부터 큰 수까지 홀수의 합을 누적해서 출력\n",
    "\n",
    "first = int(input('첫 번째 정수:'))\n",
    "second = int(input('두 번째 정수:'))\n",
    "# # (1-1) 두 수 중 작은 수는 min_에 큰수는 max_에 할당\n",
    "if first<second:\n",
    "    min_ = first\n",
    "    max_ = second\n",
    "else:\n",
    "    min_ = second\n",
    "    max_ = first\n",
    "# # (2-1) min_부터 max_까지 홀수합 누적\n",
    "tot = 0\n",
    "for i in range(min_, max_+1):\n",
    "    if i%2!=0:\n",
    "        tot += i  \n",
    "# # (3-1) 출력\n",
    "print(f\"{min_}부터 {max_}까지 홀수들의 합은 {tot}입니다\")\n"
   ]
  },
  {
   "cell_type": "code",
   "execution_count": 54,
   "id": "a56fd54a",
   "metadata": {},
   "outputs": [
    {
     "name": "stdout",
     "output_type": "stream",
     "text": [
      "첫 번째 정수:9\n",
      "두 번째 정수:5\n",
      "first = 5, second = 9\n"
     ]
    }
   ],
   "source": [
    "first = int(input('첫 번째 정수:'))\n",
    "second = int(input('두 번째 정수:'))\n",
    "# (1-2) first에 작은수로 second에 큰수가 되도록 함\n",
    "if first>second:\n",
    "    # 바꿔\n",
    "#     temp = first\n",
    "#     first = second\n",
    "#     second = temp\n",
    "    first, second = second, first\n",
    "print(\"first = {}, second = {}\".format(first, second))"
   ]
  },
  {
   "cell_type": "code",
   "execution_count": 63,
   "id": "22e312ef",
   "metadata": {},
   "outputs": [
    {
     "name": "stdout",
     "output_type": "stream",
     "text": [
      "5부터 9까지 홀수 누적합은 21입니다\n"
     ]
    }
   ],
   "source": [
    "# (2-2) first부터 second까지 홀수들 누적\n",
    "tot = 0\n",
    "for i in range(first, second+1):\n",
    "    if i%2:\n",
    "        tot += i\n",
    "# (3-3) 출력\n",
    "print(\"{}부터 {}까지 홀수 누적합은 {}입니다\".format(first, second, tot))"
   ]
  },
  {
   "cell_type": "code",
   "execution_count": 25,
   "id": "6c2c16d1",
   "metadata": {},
   "outputs": [
    {
     "data": {
      "text/plain": [
       "0.7511084851885803"
      ]
     },
     "execution_count": 25,
     "metadata": {},
     "output_type": "execute_result"
    }
   ],
   "source": [
    "#ex2. 1~45까지의 로또번호 6개를 추출하여 출력(오름차순 정렬)\n",
    "#난수 발생\n",
    "import random\n",
    "# random.random() : 0<=실수난수<1\n",
    "# random.randint(a, b) : a~b의 정수 난수\n",
    "#     int(random.random()*b) + a : a~b의 정수 난수\n",
    "#         실행할 때마다 난소의 순서를 일치시키려면 random.seed(특정수)"
   ]
  },
  {
   "cell_type": "code",
   "execution_count": 26,
   "id": "04070028",
   "metadata": {},
   "outputs": [
    {
     "data": {
      "text/plain": [
       "42"
      ]
     },
     "execution_count": 26,
     "metadata": {},
     "output_type": "execute_result"
    }
   ],
   "source": [
    "int(random.random()*45)+1 #1<=random.random()*45<46"
   ]
  },
  {
   "cell_type": "code",
   "execution_count": 27,
   "id": "7dcffa5a",
   "metadata": {},
   "outputs": [
    {
     "data": {
      "text/plain": [
       "31"
      ]
     },
     "execution_count": 27,
     "metadata": {},
     "output_type": "execute_result"
    }
   ],
   "source": [
    "#정수난수\n",
    "random.seed(12)\n",
    "random.randint(1,45) #1~45까지의 정수 난수 발생"
   ]
  },
  {
   "cell_type": "code",
   "execution_count": 28,
   "id": "d29898cc",
   "metadata": {},
   "outputs": [
    {
     "data": {
      "text/plain": [
       "18"
      ]
     },
     "execution_count": 28,
     "metadata": {},
     "output_type": "execute_result"
    }
   ],
   "source": [
    "random.randint(1,45)"
   ]
  },
  {
   "cell_type": "code",
   "execution_count": 67,
   "id": "df66f0af",
   "metadata": {},
   "outputs": [
    {
     "name": "stdout",
     "output_type": "stream",
     "text": [
      "0번째까지 정렬 내용:5/[4, 40, 36, 45, 11, 33]\n",
      "1번째까지 정렬 내용:12/[4, 11, 40, 45, 36, 33]\n",
      "2번째까지 정렬 내용:34/[4, 11, 33, 45, 40, 36]\n",
      "3번째까지 정렬 내용:37/[4, 11, 33, 36, 45, 40]\n",
      "4번째까지 정렬 내용:41/[4, 11, 33, 36, 40, 45]\n",
      "난수 8번 뽑아서 로또는 [4, 11, 33, 36, 40, 45]\n"
     ]
    }
   ],
   "source": [
    "lotto = []\n",
    "cnt = 0\n",
    "while len(lotto)<6:\n",
    "    cnt += 1\n",
    "    temp = random.randint(1, 45)\n",
    "    if temp not in lotto:\n",
    "        lotto.append(temp)\n",
    "#정렬하기\n",
    "for i in range(0, len(lotto)-1):\n",
    "    for j in range(i, len(lotto)):\n",
    "        if lotto[i]>lotto[j]:\n",
    "            lotto[i], lotto[j] = lotto[j], lotto[i]\n",
    "    print(f\"{i}번째까지 정렬 내용:{lotto[i]+1}/{lotto}\")\n",
    "#lotto.sort()\n",
    "print(\"난수 {}번 뽑아서 로또는 {}\".format(cnt, lotto))"
   ]
  },
  {
   "cell_type": "code",
   "execution_count": 60,
   "id": "74c2af33",
   "metadata": {},
   "outputs": [
    {
     "data": {
      "text/plain": [
       "[2, 4, 6, 22, 26, 44]"
      ]
     },
     "execution_count": 60,
     "metadata": {},
     "output_type": "execute_result"
    }
   ],
   "source": [
    "#ex2. 1~45까지의 로또번호 6개를 추출하여 출력(오름차순 정렬)\n",
    "lotto = set()\n",
    "while len(lotto)<6:\n",
    "    lotto.add(random.randint(1, 45))\n",
    "sorted(lotto)"
   ]
  },
  {
   "cell_type": "code",
   "execution_count": 62,
   "id": "03865ddf",
   "metadata": {},
   "outputs": [
    {
     "data": {
      "text/plain": [
       "[6, 15, 28, 29, 33, 43]"
      ]
     },
     "execution_count": 62,
     "metadata": {},
     "output_type": "execute_result"
    }
   ],
   "source": [
    "sorted(random.sample(range(1, 45), 6))"
   ]
  },
  {
   "cell_type": "markdown",
   "id": "3dbcc2f9",
   "metadata": {},
   "source": [
    "## 2.3 break, continue"
   ]
  },
  {
   "cell_type": "code",
   "execution_count": 73,
   "id": "2a7e1236",
   "metadata": {},
   "outputs": [
    {
     "name": "stdout",
     "output_type": "stream",
     "text": [
      "1\t2\t3\t4\tDONE\n"
     ]
    }
   ],
   "source": [
    "num = 0\n",
    "while num<10:\n",
    "    num += 1\n",
    "    if num == 5:\n",
    "        break #반복문 탈출\n",
    "        # continue #while블록 수행을 중단하고 조건으로 감\n",
    "    print(num, end='\\t')\n",
    "print('DONE')"
   ]
  },
  {
   "cell_type": "code",
   "execution_count": 74,
   "id": "d0c347db",
   "metadata": {},
   "outputs": [
    {
     "name": "stdout",
     "output_type": "stream",
     "text": [
      "컴퓨터가 발생한 임의의 수 : 11\n",
      "1~100사이의 수를 맞춰 보세요 : 10\n",
      "UP↑\n",
      "1~100사이의 수를 맞춰 보세요 : 11\n",
      "축하축하 맞추셨습니다\n",
      "끝\n"
     ]
    }
   ],
   "source": [
    "'''\n",
    "10. 1~100\n",
    "사이의 정수를 맞추는 프로그램을 구현하시오\n",
    "(프로그램안에 임의의 숫자가 만들어지고 그 숫자를 맞추도록 합니다)\n",
    "1단계.입력된 숫자가 틀리면 UP/DOWN 메시지를 출력하고 숫자를 맞추면 축하메세지와 함꼐 종료합니다 맞출 때까지 반복\n",
    "'''\n",
    "import random\n",
    "#(1) 1~100사이의 난수 발생:\n",
    "randomNum = random.randint(1, 100)\n",
    "print('컴퓨터가 발생한 임의의 수 :', randomNum)\n",
    "#(2) 수를 입력받아 틀리면 UP/DOWN메세지를 출력. 맞추면 축하메세지와 break하는 반복문수행\n",
    "\n",
    "while True: ##break할때까지 무한 반복\n",
    "    inputNum = int(input('1~100사이의 수를 맞춰 보세요 : '))\n",
    "    if (inputNum<1)|(inputNum>100):\n",
    "        print('수의 범위를 벗어났습니다')\n",
    "    elif randomNum<inputNum:\n",
    "        print('DOWN↓')\n",
    "    elif randomNum>inputNum:\n",
    "        print('UP↑')\n",
    "    else:\n",
    "        print('축하축하 맞추셨습니다')\n",
    "        break\n",
    "print('끝')"
   ]
  },
  {
   "attachments": {
    "image.png": {
     "image/png": "[encoded data removed]"
    }
   },
   "cell_type": "markdown",
   "id": "5655b726",
   "metadata": {},
   "source": [
    "# 3절. 중첩루프\n",
    "(반복문 안의 반복문)\n",
    "![image.png](attachment:image.png)"
   ]
  },
  {
   "cell_type": "code",
   "execution_count": 81,
   "id": "2ecf6d83",
   "metadata": {},
   "outputs": [
    {
     "name": "stdout",
     "output_type": "stream",
     "text": [
      "2X1= 2\t3X1= 3\t4X1= 4\t5X1= 5\t6X1= 6\t7X1= 7\t8X1= 8\t9X1= 9\t\n",
      "2X2= 4\t3X2= 6\t4X2= 8\t5X2=10\t6X2=12\t7X2=14\t8X2=16\t9X2=18\t\n",
      "2X3= 6\t3X3= 9\t4X3=12\t5X3=15\t6X3=18\t7X3=21\t8X3=24\t9X3=27\t\n",
      "2X4= 8\t3X4=12\t4X4=16\t5X4=20\t6X4=24\t7X4=28\t8X4=32\t9X4=36\t\n",
      "2X5=10\t3X5=15\t4X5=20\t5X5=25\t6X5=30\t7X5=35\t8X5=40\t9X5=45\t\n",
      "2X6=12\t3X6=18\t4X6=24\t5X6=30\t6X6=36\t7X6=42\t8X6=48\t9X6=54\t\n",
      "2X7=14\t3X7=21\t4X7=28\t5X7=35\t6X7=42\t7X7=49\t8X7=56\t9X7=63\t\n",
      "2X8=16\t3X8=24\t4X8=32\t5X8=40\t6X8=48\t7X8=56\t8X8=64\t9X8=72\t\n",
      "2X9=18\t3X9=27\t4X9=36\t5X9=45\t6X9=54\t7X9=63\t8X9=72\t9X9=81\t\n"
     ]
    }
   ],
   "source": [
    "for i in range(1, 10):\n",
    "    for j in range(2, 10):\n",
    "        print(f\"{j}X{i}={i*j:2}\", end = '\\t')\n",
    "    print()#개행"
   ]
  },
  {
   "cell_type": "markdown",
   "id": "e9ae9674",
   "metadata": {},
   "source": [
    "# 4절. 중첩루프 탈출"
   ]
  },
  {
   "cell_type": "code",
   "execution_count": 86,
   "id": "b9f814a5",
   "metadata": {},
   "outputs": [
    {
     "name": "stdout",
     "output_type": "stream",
     "text": [
      "0 1\n",
      "0 2\n",
      "DONE\n"
     ]
    }
   ],
   "source": [
    "#중첩 루프 탈출하는 방법1. 플래그 변수이용\n",
    "flag = False\n",
    "for a in range(0, 3):\n",
    "    for b in range(1, 3):\n",
    "        if a == b:\n",
    "            flag = True\n",
    "            break #반복문을 아예 빠져나오기\n",
    "        print(a, b)\n",
    "    #break시 빠져나오는 부분\n",
    "    if flag:\n",
    "        break\n",
    "print('DONE')"
   ]
  },
  {
   "cell_type": "code",
   "execution_count": 2,
   "id": "98ebd804",
   "metadata": {},
   "outputs": [
    {
     "name": "stdout",
     "output_type": "stream",
     "text": [
      "0 1\n",
      "0 2\n",
      "DONE\n"
     ]
    }
   ],
   "source": [
    "# 중첩 루프 탈출 방법2: 예외 발생 -> 예외처리\n",
    "class BreakOutError(Exception):\n",
    "    pass\n",
    "try:\n",
    "    for a in range(0,3): #a = 0,1,2\n",
    "        for b in range(1,3): #b = 1,2\n",
    "            if a == b:\n",
    "                raise BreakOutError() #중첩 루프 빠져나가기\n",
    "            print(a, b)\n",
    "except BreakOutError:\n",
    "    print('DONE')"
   ]
  },
  {
   "cell_type": "markdown",
   "id": "dac03eed",
   "metadata": {},
   "source": [
    "# 5. 연습문제"
   ]
  },
  {
   "cell_type": "code",
   "execution_count": 106,
   "id": "41b81623",
   "metadata": {},
   "outputs": [
    {
     "name": "stdout",
     "output_type": "stream",
     "text": [
      "5\n",
      "5은 홀수입니다\n"
     ]
    }
   ],
   "source": [
    "#1. 양의 정수를 입력받아 홀/짝수 결과 출력\n",
    "num = int(input())\n",
    "while num>0:\n",
    "    if num%2:\n",
    "        print(f'{num}은 홀수입니다')\n",
    "        break\n",
    "    elif num%2!=1:\n",
    "        print(f'{num}은 짝수입니다')\n",
    "        break\n",
    "else:\n",
    "    print(f'{num}은 양의 정수가 아닙니다. 양의 정수를 입력하세요')\n",
    "    num = int(input())"
   ]
  },
  {
   "cell_type": "code",
   "execution_count": 108,
   "id": "56c7c529",
   "metadata": {},
   "outputs": [
    {
     "name": "stdout",
     "output_type": "stream",
     "text": [
      "*****\n",
      "*****\n",
      "*****\n",
      "*****\n",
      "*****\n"
     ]
    }
   ],
   "source": [
    "#2. 별출력\n",
    "for i in range(5):\n",
    "    for j in range(5):\n",
    "        print('*', end = '')\n",
    "    print()"
   ]
  },
  {
   "cell_type": "code",
   "execution_count": 109,
   "id": "ea593f2b",
   "metadata": {},
   "outputs": [
    {
     "name": "stdout",
     "output_type": "stream",
     "text": [
      "*\n",
      "**\n",
      "***\n",
      "****\n",
      "*****\n"
     ]
    }
   ],
   "source": [
    "for i in range(5):\n",
    "    for j in range(i+1):\n",
    "        print('*', end = '')\n",
    "    print()"
   ]
  },
  {
   "cell_type": "code",
   "execution_count": 112,
   "id": "ff1b17c7",
   "metadata": {},
   "outputs": [
    {
     "name": "stdout",
     "output_type": "stream",
     "text": [
      "165\n"
     ]
    }
   ],
   "source": [
    "#3. 다음 코드는 1 부터 30 까지 (30 포함 ) 자연수 중에서 3 의 배수의 총 합을 출력하는 프로그램입니다 . 빈칸의 코드를 완성하시오\n",
    "sum_ = 0\n",
    "for i in range(31):\n",
    "    if i%3 == 0:\n",
    "        sum_ = sum_ + i\n",
    "    else:\n",
    "        pass\n",
    "print(sum_)"
   ]
  },
  {
   "cell_type": "code",
   "execution_count": 114,
   "id": "2364540e",
   "metadata": {},
   "outputs": [
    {
     "name": "stdout",
     "output_type": "stream",
     "text": [
      "1 3 5 7 9 "
     ]
    }
   ],
   "source": [
    "#4. 다음 코드의 실행결과가 “1 3 5 7 가 되도록 빈칸을 완성하시오\n",
    "num = 0\n",
    "while num <= 10:\n",
    "    if num%2 == 1:\n",
    "        print(num, end = ' ')\n",
    "    num += 1"
   ]
  },
  {
   "cell_type": "code",
   "execution_count": 142,
   "id": "e913127c",
   "metadata": {},
   "outputs": [
    {
     "name": "stdout",
     "output_type": "stream",
     "text": [
      "1 2 3 \n",
      "4 5 6 7 \n",
      "8 9 \n"
     ]
    }
   ],
   "source": [
    "#5. 다음 2 차원 리스트의 모든 값을 출력하는 코드입니다 . 빈칸을 완성하시오\n",
    "list2d = [[1, 2, 3], [4, 5, 6, 7], [8, 9]]\n",
    "for row in list2d:\n",
    "    for data in row:\n",
    "        print(data, end=' ')\n",
    "    print()"
   ]
  },
  {
   "cell_type": "code",
   "execution_count": 152,
   "id": "583007d8",
   "metadata": {},
   "outputs": [
    {
     "name": "stdout",
     "output_type": "stream",
     "text": [
      "0 apple\n",
      "1 banana\n"
     ]
    }
   ],
   "source": [
    "#6. 다음 빈칸에 들어갈 함수 이름은?\n",
    "colors = {'red':'apple', 'yellow':'banana'}\n",
    "for i, v in enumerate(colors.values()):\n",
    "    print(i, v)"
   ]
  },
  {
   "cell_type": "code",
   "execution_count": 150,
   "id": "5040c3bf",
   "metadata": {},
   "outputs": [],
   "source": [
    "# 7. \n",
    "# 답:\n",
    "# 0 1\n",
    "# 0 2\n",
    "# 1 0\n",
    "# 1 2"
   ]
  },
  {
   "cell_type": "code",
   "execution_count": 151,
   "id": "e5557df6",
   "metadata": {},
   "outputs": [],
   "source": [
    "#8. 코드의 실행 결과로 출력될 수 없는 것은?\n",
    "#답: 2"
   ]
  },
  {
   "cell_type": "code",
   "execution_count": 153,
   "id": "e2ef639b",
   "metadata": {},
   "outputs": [],
   "source": [
    "#9. 코드 실행결과\n",
    "#답: 3 5 7 9 "
   ]
  },
  {
   "cell_type": "code",
   "execution_count": 164,
   "id": "f2eec765",
   "metadata": {},
   "outputs": [
    {
     "name": "stdout",
     "output_type": "stream",
     "text": [
      "컴퓨터가 발생한 임의의 수 : 4\n",
      "1~100사이의 수를 맞춰 보세요: 60\n",
      "DOWN↓\n",
      "1~59사이의 수를 맞춰 보세요: 20\n",
      "DOWN↓\n",
      "1~19사이의 수를 맞춰 보세요: 2\n",
      "UP↑\n",
      "3~19사이의 수를 맞춰 보세요: 4\n",
      "축하축하 맞추셨습니다\n",
      "끝\n"
     ]
    }
   ],
   "source": [
    "#10. 10. 1~100사이의 정수를 맞추는 프로그램을 구현하시오\n",
    "'''\n",
    "2단계 . 입력된 숫자가 틀리면 min~max 사이의 수라고 \n",
    "알려주고 숫자를 맞추면 축하 메시지와 함께 종료합니다(맞출 때까지 반복)\n",
    "3단계 . 숫자를 맞출 수 있는 기회를 5 회로 제한하고\n",
    "5 회 이내에 맞추지 않으면 실패메세지를 출력합니다\n",
    "'''\n",
    "import random\n",
    "max_, min_ = 100, 1\n",
    "inputNum = 0\n",
    "randomNum = random.randint(1, 100)\n",
    "print('컴퓨터가 발생한 임의의 수 :', randomNum)\n",
    "while randomNum != inputNum:\n",
    "    inputNum = int(input('{}~{}사이의 수를 맞춰 보세요: '.format(min_, max_)))\n",
    "    if (inputNum<min_)|(inputNum>max_):\n",
    "        print('수의 범위를 벗어났습니다. 수의 범위는 {}~{}이고, {}를 입력'.format(min_, max_, inputNum))\n",
    "        \n",
    "    elif randomNum<inputNum:\n",
    "        print('DOWN↓')\n",
    "        max_ = inputNum-1\n",
    "    elif randomNum>inputNum:\n",
    "        print('UP↑')\n",
    "        min_ = inputNum+1\n",
    "    else:\n",
    "        print('축하축하 맞추셨습니다')\n",
    "        break\n",
    "print('끝')  "
   ]
  },
  {
   "cell_type": "code",
   "execution_count": 168,
   "id": "7aeffade",
   "metadata": {},
   "outputs": [
    {
     "name": "stdout",
     "output_type": "stream",
     "text": [
      "컴퓨터가 발생한 임의의 수 : 25\n",
      "1~100사이의 수를 맞춰 보세요(남은 기회는 5번): 90\n",
      "1~100사이의 90입력\n",
      "DOWN↓\n",
      "1~89사이의 수를 맞춰 보세요(남은 기회는 4번): 40\n",
      "1~89사이의 40입력\n",
      "DOWN↓\n",
      "1~39사이의 수를 맞춰 보세요(남은 기회는 3번): 10\n",
      "1~39사이의 10입력\n",
      "UP↑\n",
      "11~39사이의 수를 맞춰 보세요(남은 기회는 2번): 20\n",
      "11~39사이의 20입력\n",
      "UP↑\n",
      "21~39사이의 수를 맞춰 보세요(남은 기회는 1번): 35\n",
      "21~39사이의 35입력\n",
      "DOWN↓\n",
      "기회를 모두 사용하셨습니다. 실패하셨습니다\n"
     ]
    }
   ],
   "source": [
    "import random\n",
    "max_, min_ = 100, 1\n",
    "inputNum = 0\n",
    "randomNum = random.randint(1, 100)\n",
    "print('컴퓨터가 발생한 임의의 수 :', randomNum)\n",
    "message = '기회를 모두 사용하셨습니다. 실패하셨습니다'\n",
    "for cnt in range(5, 0, -1):\n",
    "    inputNum = int(input('{}~{}사이의 수를 맞춰 보세요(남은 기회는 {}번): '.format(min_, max_, cnt)))\n",
    "    print(\"{}~{}사이의 {}입력\".format(min_, max_, inputNum))\n",
    "    if (inputNum<min_)|(inputNum>max_):\n",
    "        print('수의 범위를 벗어났습니다. 수의 범위는 {}~{}이고, {}를 입력'.format(min_, max_, inputNum))\n",
    "        \n",
    "    elif randomNum<inputNum:\n",
    "        print('DOWN↓')\n",
    "        max_ = inputNum-1\n",
    "    elif randomNum>inputNum:\n",
    "        print('UP↑')\n",
    "        min_ = inputNum+1\n",
    "    else:\n",
    "        print('축하축하 맞추셨습니다')\n",
    "        break\n",
    "else:\n",
    "    print(message)"
   ]
  },
  {
   "cell_type": "code",
   "execution_count": null,
   "id": "7b2cee11",
   "metadata": {},
   "outputs": [],
   "source": []
  }
 ],
 "metadata": {
  "kernelspec": {
   "display_name": "Python 3 (ipykernel)",
   "language": "python",
   "name": "python3"
  },
  "language_info": {
   "codemirror_mode": {
    "name": "ipython",
    "version": 3
   },
   "file_extension": ".py",
   "mimetype": "text/x-python",
   "name": "python",
   "nbconvert_exporter": "python",
   "pygments_lexer": "ipython3",
   "version": "3.10.9"
  },
  "toc": {
   "base_numbering": 1,
   "nav_menu": {},
   "number_sections": false,
   "sideBar": true,
   "skip_h1_title": false,
   "title_cell": "Table of Contents",
   "title_sidebar": "Contents",
   "toc_cell": false,
   "toc_position": {},
   "toc_section_display": true,
   "toc_window_display": true
  }
 },
 "nbformat": 4,
 "nbformat_minor": 5
}
