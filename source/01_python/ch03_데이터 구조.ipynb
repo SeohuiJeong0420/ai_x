{
 "cells": [
  {
   "cell_type": "code",
   "execution_count": 1,
   "id": "b6b8fb6d",
   "metadata": {},
   "outputs": [
    {
     "data": {
      "text/html": [
       "\n",
       "<style>\n",
       "div.container{width:86% !important;}\n",
       "div.cell.code_cell.rendered{width:100%;}\n",
       "div.CodeMirror {font-family:Consolas; font-size:15pt;}\n",
       "div.output {font-size:15pt; font-weight:bold;}\n",
       "div.input {font-family:Consolas; font-size:15pt;}\n",
       "div.prompt {min-width:70px;}\n",
       "div#toc-wrapper{padding-top:120px;}\n",
       "div.text_cell_render ul li{font-size:12pt;padding:5px;}\n",
       "table.dataframe{font-size:15px;}\n",
       "</style>\n"
      ],
      "text/plain": [
       "<IPython.core.display.HTML object>"
      ]
     },
     "metadata": {},
     "output_type": "display_data"
    }
   ],
   "source": [
    "from IPython.display import display, HTML\n",
    "display(HTML(\"\"\"\n",
    "<style>\n",
    "div.container{width:86% !important;}\n",
    "div.cell.code_cell.rendered{width:100%;}\n",
    "div.CodeMirror {font-family:Consolas; font-size:15pt;}\n",
    "div.output {font-size:15pt; font-weight:bold;}\n",
    "div.input {font-family:Consolas; font-size:15pt;}\n",
    "div.prompt {min-width:70px;}\n",
    "div#toc-wrapper{padding-top:120px;}\n",
    "div.text_cell_render ul li{font-size:12pt;padding:5px;}\n",
    "table.dataframe{font-size:15px;}\n",
    "</style>\n",
    "\"\"\"))"
   ]
  },
  {
   "cell_type": "markdown",
   "id": "5d7ce090",
   "metadata": {},
   "source": [
    "<font color=\"red\" size=\"5\">ch03 데이터구조</font>\n",
    "- 리스트[]: 수정가능, 튜플(): 수정불가, 딕셔너리{}, 셋\n",
    "\n",
    "# 1절. 리스트\n",
    "## 1.1 리스트 만들기\n",
    "- []를 이용해서 만들며, 여러개 값(여러 타입 가능)을 하나의 변수에 저장/관리할 수 있음\n",
    "- list()함수 이용도 가능\n",
    "- 인덱스: 각 요소의 위치. 0부터 시작. 맨 마지막 인덱스는 -1\n",
    "- 슬라이싱([from:stop:step]): 부분 데이터셋 추출\n",
    "- 인덱스와 슬라이싱을 이용해서 읽기/쓰기 지원"
   ]
  },
  {
   "cell_type": "code",
   "execution_count": 10,
   "id": "ed1770ae",
   "metadata": {},
   "outputs": [
    {
     "data": {
      "text/plain": [
       "list"
      ]
     },
     "execution_count": 10,
     "metadata": {},
     "output_type": "execute_result"
    }
   ],
   "source": [
    "fruits = ['banana', 'apple', 'orange', 'grape']\n",
    "type(fruits)"
   ]
  },
  {
   "cell_type": "code",
   "execution_count": 12,
   "id": "efc791a3",
   "metadata": {},
   "outputs": [
    {
     "name": "stdout",
     "output_type": "stream",
     "text": [
      "['banana', 'apple', 'orange', 'grape']\n",
      "banana\n"
     ]
    }
   ],
   "source": [
    "print(fruits)\n",
    "print(fruits[0])"
   ]
  },
  {
   "cell_type": "code",
   "execution_count": 13,
   "id": "bb12a812",
   "metadata": {},
   "outputs": [
    {
     "name": "stdout",
     "output_type": "stream",
     "text": [
      "['mango', 'apple', 'orange', 'grape']\n"
     ]
    }
   ],
   "source": [
    "fruits[0] = 'mango'\n",
    "print(fruits)"
   ]
  },
  {
   "cell_type": "code",
   "execution_count": 16,
   "id": "964ecf62",
   "metadata": {},
   "outputs": [
    {
     "name": "stdout",
     "output_type": "stream",
     "text": [
      "x = mango\n",
      "y = apple\n",
      "z = orange\n",
      "fruits = ['mango', 'apple', 'orange']\n"
     ]
    }
   ],
   "source": [
    "fruits = ['mango', 'apple', 'orange']\n",
    "x, y, z = fruits\n",
    "print(f'x = {x}')\n",
    "print(f'y = {y}')\n",
    "print(f'z = {z}')\n",
    "print(f'fruits = {fruits}')"
   ]
  },
  {
   "cell_type": "code",
   "execution_count": 17,
   "id": "27e3e321",
   "metadata": {},
   "outputs": [],
   "source": [
    "# range(from, to, by) :from부터 to 앞까지 by씩 증가하면서  지정된 범위의 정수\n",
    "       #from 생략시: 0\n",
    "       #by생략시: 1"
   ]
  },
  {
   "cell_type": "code",
   "execution_count": 18,
   "id": "d4f397a8",
   "metadata": {},
   "outputs": [
    {
     "data": {
      "text/plain": [
       "[0, 1, 2, 3, 4, 5, 6, 7, 8, 9]"
      ]
     },
     "execution_count": 18,
     "metadata": {},
     "output_type": "execute_result"
    }
   ],
   "source": [
    "list(range(0,10))"
   ]
  },
  {
   "cell_type": "code",
   "execution_count": 19,
   "id": "7a8d3e97",
   "metadata": {},
   "outputs": [
    {
     "data": {
      "text/plain": [
       "[10, 8, 6, 4, 2, 0]"
      ]
     },
     "execution_count": 19,
     "metadata": {},
     "output_type": "execute_result"
    }
   ],
   "source": [
    "list(range(10,-1,-2))"
   ]
  },
  {
   "cell_type": "code",
   "execution_count": 23,
   "id": "a7f2737c",
   "metadata": {},
   "outputs": [
    {
     "name": "stdout",
     "output_type": "stream",
     "text": [
      "0\n",
      "1\n",
      "2\n"
     ]
    }
   ],
   "source": [
    "#반복문(3회)\n",
    "for i in range(3):\n",
    "    print(i)"
   ]
  },
  {
   "cell_type": "code",
   "execution_count": 48,
   "id": "56bc1446",
   "metadata": {},
   "outputs": [
    {
     "name": "stdout",
     "output_type": "stream",
     "text": [
      "0번째 과일은 mango입니다\n",
      "1번째 과일은 apple입니다\n",
      "2번째 과일은 orange입니다\n",
      "3번째 과일은 grape입니다\n"
     ]
    }
   ],
   "source": [
    "fruits = ['mango', 'apple', 'orange', 'grape']\n",
    "#len(fruits): 리스트 데이터 수\n",
    "for i in range(len(fruits)):\n",
    "    print('{}번째 과일은 {}입니다'.format(i, fruits[i]))"
   ]
  },
  {
   "cell_type": "code",
   "execution_count": 49,
   "id": "5e6e1b32",
   "metadata": {},
   "outputs": [
    {
     "name": "stdout",
     "output_type": "stream",
     "text": [
      "mango\n",
      "apple\n",
      "orange\n",
      "grape\n"
     ]
    }
   ],
   "source": [
    "for value in fruits:\n",
    "    print(value)"
   ]
  },
  {
   "cell_type": "code",
   "execution_count": 50,
   "id": "1347711a",
   "metadata": {},
   "outputs": [
    {
     "name": "stdout",
     "output_type": "stream",
     "text": [
      "1\n",
      "mange\n"
     ]
    }
   ],
   "source": [
    "i, v = [1, 'mange']\n",
    "print(i)\n",
    "print(v)"
   ]
  },
  {
   "cell_type": "code",
   "execution_count": 51,
   "id": "c6454fd1",
   "metadata": {},
   "outputs": [
    {
     "data": {
      "text/plain": [
       "[(0, 'mango'), (1, 'apple'), (2, 'orange'), (3, 'grape')]"
      ]
     },
     "execution_count": 51,
     "metadata": {},
     "output_type": "execute_result"
    }
   ],
   "source": [
    "list(enumerate(fruits))"
   ]
  },
  {
   "cell_type": "code",
   "execution_count": 61,
   "id": "2cba13cb",
   "metadata": {},
   "outputs": [
    {
     "name": "stdout",
     "output_type": "stream",
     "text": [
      "0번째 과일은 mango입니다\n",
      "1번째 과일은 apple입니다\n",
      "2번째 과일은 orange입니다\n",
      "3번째 과일은 grape입니다\n"
     ]
    }
   ],
   "source": [
    "#enumerate(나열가능한 자료) : -> (index, 값)들의 셋들\n",
    "for idx, value in enumerate(fruits):\n",
    "    print('{}번째 과일은 {}입니다'.format(idx, value))"
   ]
  },
  {
   "cell_type": "code",
   "execution_count": 56,
   "id": "41a8dd20",
   "metadata": {},
   "outputs": [
    {
     "name": "stdout",
     "output_type": "stream",
     "text": [
      "[0, True, '2', 3, [4, 5, 6]]\n",
      "True\n",
      "5\n"
     ]
    }
   ],
   "source": [
    "#리스트는 여러 타입의 데이터를 담을 수 있음\n",
    "numbers = [-0, True, '2', 3, [4,5,6]]\n",
    "print(numbers)\n",
    "print(numbers[1])\n",
    "print(numbers[4][1])"
   ]
  },
  {
   "cell_type": "code",
   "execution_count": 63,
   "id": "a90d7388",
   "metadata": {},
   "outputs": [
    {
     "data": {
      "text/plain": [
       "(3, 4)"
      ]
     },
     "execution_count": 63,
     "metadata": {},
     "output_type": "execute_result"
    }
   ],
   "source": [
    "# 2차원 리스트\n",
    "numbers_2d = [[90, 91, 92, 93],\n",
    "              [85, 81, 82, 83],\n",
    "              [71, 70, 72, 73],]\n",
    "len(numbers_2d), len(numbers_2d[0])"
   ]
  },
  {
   "cell_type": "code",
   "execution_count": 74,
   "id": "c9cf94de",
   "metadata": {},
   "outputs": [
    {
     "name": "stdout",
     "output_type": "stream",
     "text": [
      "0행 0열 :90\t0행 1열 :91\t0행 2열 :92\t0행 3열 :93\t\n",
      "1행 0열 :85\t1행 1열 :81\t1행 2열 :82\t1행 3열 :83\t\n",
      "2행 0열 :71\t2행 1열 :70\t2행 2열 :72\t2행 3열 :73\t\n"
     ]
    }
   ],
   "source": [
    "for i, row in enumerate(numbers_2d): #i는 행 인덱스 row 행 인덱스\n",
    "    for j , value in enumerate(row): #j는 열 인덱스\n",
    "        print(\"{}행 {}열 :{}\".format(i,j,value), end = '\\t') #value: 값\n",
    "    print() #괄호 안 end생략. 개행"
   ]
  },
  {
   "cell_type": "code",
   "execution_count": 87,
   "id": "faeb60e1",
   "metadata": {},
   "outputs": [
    {
     "name": "stdout",
     "output_type": "stream",
     "text": [
      "90\t91\t92\t93\t\n",
      "85\t81\t82\t83\t\n",
      "71\t70\t72\t73\t\n"
     ]
    }
   ],
   "source": [
    "for row in numbers_2d:\n",
    "    for item in row: #item은 row의 인덱스\n",
    "        print(item, end = '\\t')\n",
    "    print()"
   ]
  },
  {
   "cell_type": "markdown",
   "id": "65cb4881",
   "metadata": {},
   "source": [
    "## 1.2 기본 정보 조회"
   ]
  },
  {
   "cell_type": "code",
   "execution_count": 88,
   "id": "67a33118",
   "metadata": {},
   "outputs": [],
   "source": [
    "numbers = [1, 12, 3, 5, 4]\n",
    "numbers_2d = [[100, 0], \n",
    "              [9, 100, 1, 2, 3], \n",
    "              [50, 54]]"
   ]
  },
  {
   "cell_type": "code",
   "execution_count": 90,
   "id": "2e188d10",
   "metadata": {},
   "outputs": [
    {
     "name": "stdout",
     "output_type": "stream",
     "text": [
      "5 3\n"
     ]
    }
   ],
   "source": [
    "#요소의 수\n",
    "print(len(numbers), len(numbers_2d))"
   ]
  },
  {
   "cell_type": "code",
   "execution_count": 91,
   "id": "32e53acf",
   "metadata": {},
   "outputs": [
    {
     "data": {
      "text/plain": [
       "(1, 12)"
      ]
     },
     "execution_count": 91,
     "metadata": {},
     "output_type": "execute_result"
    }
   ],
   "source": [
    "#최소, 최대값\n",
    "min(numbers), max(numbers)"
   ]
  },
  {
   "cell_type": "code",
   "execution_count": 92,
   "id": "73a18fa9",
   "metadata": {},
   "outputs": [
    {
     "data": {
      "text/plain": [
       "([9, 100, 1, 2, 3], [100, 0])"
      ]
     },
     "execution_count": 92,
     "metadata": {},
     "output_type": "execute_result"
    }
   ],
   "source": [
    "#2차원 리스트의 min(): 0번 인덱스 요소가 가장 작은 값\n",
    "#              man(): 0번 인덱스 요소가 가장 큰 것\n",
    "min(numbers_2d), max(numbers_2d)"
   ]
  },
  {
   "cell_type": "code",
   "execution_count": 94,
   "id": "21f19a67",
   "metadata": {},
   "outputs": [
    {
     "data": {
      "text/plain": [
       "('Apple', 'orange')"
      ]
     },
     "execution_count": 94,
     "metadata": {},
     "output_type": "execute_result"
    }
   ],
   "source": [
    "#문자 list일 경우 아스키코드 값으로 min(), max() 적용\n",
    "fruits = ['mango', 'apple', 'orange', 'Apple']\n",
    "min(fruits), max(fruits)"
   ]
  },
  {
   "cell_type": "code",
   "execution_count": 97,
   "id": "646b3d04",
   "metadata": {},
   "outputs": [
    {
     "name": "stdout",
     "output_type": "stream",
     "text": [
      "오름차순:  [1, 3, 4, 5, 12]\n",
      "내림차순:  [12, 5, 4, 3, 1]\n",
      "sorted함수 사용시 리스트 내용이 바뀌지 않음:  [1, 12, 3, 5, 4]\n",
      "합:  25\n"
     ]
    }
   ],
   "source": [
    "numbers = [1, 12, 3, 5, 4]\n",
    "#정렬: sorted()\n",
    "print('오름차순: ', sorted(numbers))\n",
    "print('내림차순: ', sorted(numbers, reverse = True))\n",
    "print('sorted함수 사용시 리스트 내용이 바뀌지 않음: ', numbers)\n",
    "print('합: ', sum(numbers))"
   ]
  },
  {
   "cell_type": "markdown",
   "id": "2bf57063",
   "metadata": {},
   "source": [
    "## 1.3 요소추가\n",
    "```\n",
    "+ : 두 리스트 연결\n",
    "* : 리스트를 곱한 수만큼 반복\n",
    "append() : 맨 뒤에 요소 추가\n",
    "extend() : 맨 뒤에 리스트를 요소별로 추가\n",
    "insert(idx, 값) : idx번째 인덱스 위치에 추가(기존 데이터는 shift)\n",
    "```"
   ]
  },
  {
   "cell_type": "code",
   "execution_count": 103,
   "id": "7a9cc5dc",
   "metadata": {},
   "outputs": [
    {
     "data": {
      "text/plain": [
       "[1, 2, 3, 1, 2, 3]"
      ]
     },
     "execution_count": 103,
     "metadata": {},
     "output_type": "execute_result"
    }
   ],
   "source": [
    "numbers = [1, 2, 3]\n",
    "numbers = numbers + numbers\n",
    "numbers"
   ]
  },
  {
   "cell_type": "code",
   "execution_count": 105,
   "id": "e903bfd1",
   "metadata": {},
   "outputs": [
    {
     "name": "stdout",
     "output_type": "stream",
     "text": [
      "[1, 2, 3, 4]\n"
     ]
    }
   ],
   "source": [
    "numbers = [1, 2, 3]\n",
    "numbers.append(4)\n",
    "print(numbers)"
   ]
  },
  {
   "cell_type": "code",
   "execution_count": 108,
   "id": "5c45c6d9",
   "metadata": {},
   "outputs": [
    {
     "name": "stdout",
     "output_type": "stream",
     "text": [
      "[1, 2, 3, [5, 6, 7], [5, 6, 7], [5, 6, 7]]\n"
     ]
    }
   ],
   "source": [
    "numbers.append([5, 6, 7])\n",
    "print(numbers)"
   ]
  },
  {
   "cell_type": "code",
   "execution_count": 100,
   "id": "1e9721bd",
   "metadata": {},
   "outputs": [
    {
     "name": "stdout",
     "output_type": "stream",
     "text": [
      "[1, 2, 3, 4, 5, 6]\n"
     ]
    }
   ],
   "source": [
    "num = [1, 2, 3]\n",
    "num.extend([4, 5, 6])\n",
    "print(num)"
   ]
  },
  {
   "cell_type": "code",
   "execution_count": 109,
   "id": "c4e26845",
   "metadata": {},
   "outputs": [
    {
     "name": "stdout",
     "output_type": "stream",
     "text": [
      "[1, 2, 'x', 3, 4, 5, 6]\n"
     ]
    }
   ],
   "source": [
    "num.insert(2, 'x')\n",
    "print(num)"
   ]
  },
  {
   "cell_type": "markdown",
   "id": "99796b20",
   "metadata": {},
   "source": [
    "## 1.4 인덱싱과 요소 갯수\n",
    "- 변수[index] : 인덱스를 이용한 접근\n",
    "- index(찾을데이터) : 해당 찾을데이터가 있는 요소의 index로 반환\n",
    "                     찾을데이터가 없을 경우 오류\n",
    "- count(찾을데이터) : 리스트에서 찾을데이터의 갯수 반환"
   ]
  },
  {
   "cell_type": "code",
   "execution_count": 113,
   "id": "030c0f46",
   "metadata": {},
   "outputs": [
    {
     "data": {
      "text/plain": [
       "(2, 0)"
      ]
     },
     "execution_count": 113,
     "metadata": {},
     "output_type": "execute_result"
    }
   ],
   "source": [
    "numbers = [1, 2, 3, [1, 2, 3], 1, 2, 3]\n",
    "numbers.count(2), numbers.count(9)"
   ]
  },
  {
   "cell_type": "code",
   "execution_count": 114,
   "id": "2e3499f0",
   "metadata": {},
   "outputs": [
    {
     "data": {
      "text/plain": [
       "1"
      ]
     },
     "execution_count": 114,
     "metadata": {},
     "output_type": "execute_result"
    }
   ],
   "source": [
    "numbers.index(2) #0번째 index부터 2가 처음 나오는 index를 반환"
   ]
  },
  {
   "cell_type": "code",
   "execution_count": 116,
   "id": "3ebc0f16",
   "metadata": {},
   "outputs": [
    {
     "data": {
      "text/plain": [
       "5"
      ]
     },
     "execution_count": 116,
     "metadata": {},
     "output_type": "execute_result"
    }
   ],
   "source": [
    "numbers.index(2, 3) # 3번째 index부터 2가 처음 나오는 index를 반환"
   ]
  },
  {
   "cell_type": "code",
   "execution_count": 117,
   "id": "73a35221",
   "metadata": {},
   "outputs": [
    {
     "ename": "ValueError",
     "evalue": "9 is not in list",
     "output_type": "error",
     "traceback": [
      "\u001b[1;31m---------------------------------------------------------------------------\u001b[0m",
      "\u001b[1;31mValueError\u001b[0m                                Traceback (most recent call last)",
      "Cell \u001b[1;32mIn[117], line 1\u001b[0m\n\u001b[1;32m----> 1\u001b[0m \u001b[43mnumbers\u001b[49m\u001b[38;5;241;43m.\u001b[39;49m\u001b[43mindex\u001b[49m\u001b[43m(\u001b[49m\u001b[38;5;241;43m9\u001b[39;49m\u001b[43m)\u001b[49m\n",
      "\u001b[1;31mValueError\u001b[0m: 9 is not in list"
     ]
    }
   ],
   "source": [
    "numbers.index(9)"
   ]
  },
  {
   "cell_type": "code",
   "execution_count": 119,
   "id": "537655d3",
   "metadata": {},
   "outputs": [
    {
     "data": {
      "text/plain": [
       "False"
      ]
     },
     "execution_count": 119,
     "metadata": {},
     "output_type": "execute_result"
    }
   ],
   "source": [
    "9 in numbers # in : numbers 리스트에 9가 존재하는지 여부"
   ]
  },
  {
   "cell_type": "code",
   "execution_count": 120,
   "id": "246f4c0e",
   "metadata": {},
   "outputs": [],
   "source": [
    "def save_index(lst, data): \n",
    "    if data in lst: #lst안에 data가 있을 때\n",
    "        return lst.index(data)\n",
    "    else:\n",
    "        return -1"
   ]
  },
  {
   "cell_type": "code",
   "execution_count": 121,
   "id": "2384dc27",
   "metadata": {},
   "outputs": [
    {
     "data": {
      "text/plain": [
       "-1"
      ]
     },
     "execution_count": 121,
     "metadata": {},
     "output_type": "execute_result"
    }
   ],
   "source": [
    "save_index(numbers, 9)"
   ]
  },
  {
   "cell_type": "markdown",
   "id": "99bfdd49",
   "metadata": {},
   "source": [
    "## 1.5 원하는 요소 추출\n",
    "1. 리스트 슬라이싱: 리스트에서 원하는 index의 데이터를 추출(인덱스 범위 벗어나도 에러 안 남)\n",
    "   - [from:stop:step] from부터 stop앞까지 step씩 증가하는 인덱스의 값을 추출\n",
    "   - from 생략시 처음. stop생략시 끝. step생략시 1. 모두 생략 가능\n",
    "   - 음수 인덱스 가능\n",
    "2. <font color = 'red'>리스트 컴프리헨션</font> : 리스트에서 원하는 데이터를 추출"
   ]
  },
  {
   "cell_type": "code",
   "execution_count": 123,
   "id": "30b339fc",
   "metadata": {},
   "outputs": [
    {
     "name": "stdout",
     "output_type": "stream",
     "text": [
      "[1, 5, 10, 13]\n",
      "[20, 13, 12, 10, 9, 5, 3, 1]\n"
     ]
    }
   ],
   "source": [
    "numbers = [1, 3, 5, 9, 10, 12, 13, 20]\n",
    "#짝수번째 인덱스 값 출력\n",
    "print(numbers[::2])\n",
    "#거꾸로 출력\n",
    "print(numbers[::-1])"
   ]
  },
  {
   "cell_type": "code",
   "execution_count": 133,
   "id": "1cb689fb",
   "metadata": {},
   "outputs": [
    {
     "name": "stdout",
     "output_type": "stream",
     "text": [
      "[1, 3, 5, 9, 10, 12, 13, 20]\n",
      "[10, 12, 20]\n"
     ]
    }
   ],
   "source": [
    "numbers = [1, 3, 5, 9, 10, 12, 13, 20]\n",
    "#리스트에서 모든 데이터를 변수에 담아 출력하시오.\n",
    "result = []\n",
    "for data in numbers:\n",
    "    result.append(data)\n",
    "print(result)\n",
    "#리스트에서 짝수 데이터만 변수에 담아 출력하시오.\n",
    "result = []\n",
    "for data in numbers:\n",
    "    if data%2 == 0:\n",
    "        result.append(data)\n",
    "print(result)"
   ]
  },
  {
   "cell_type": "markdown",
   "id": "3354790b",
   "metadata": {},
   "source": [
    "**리스트컴프리핸션"
   ]
  },
  {
   "cell_type": "code",
   "execution_count": 134,
   "id": "572cdc97",
   "metadata": {},
   "outputs": [
    {
     "data": {
      "text/plain": [
       "[1, 3, 5, 9, 10, 12, 13, 20]"
      ]
     },
     "execution_count": 134,
     "metadata": {},
     "output_type": "execute_result"
    }
   ],
   "source": [
    "#numbers의 모든 데이터를 리스트컴프리핸션으로 추출\n",
    "[ data for data in numbers ]"
   ]
  },
  {
   "cell_type": "code",
   "execution_count": 135,
   "id": "ad238b07",
   "metadata": {},
   "outputs": [
    {
     "data": {
      "text/plain": [
       "[10, 12, 20]"
      ]
     },
     "execution_count": 135,
     "metadata": {},
     "output_type": "execute_result"
    }
   ],
   "source": [
    "#numbers의 짝수 데이터를 리스트컴프리핸션으로 추출\n",
    "[ data for data in numbers if data%2 == 0]"
   ]
  },
  {
   "cell_type": "code",
   "execution_count": 139,
   "id": "51a36771",
   "metadata": {},
   "outputs": [
    {
     "data": {
      "text/plain": [
       "[10, 12, 13, 20]"
      ]
     },
     "execution_count": 139,
     "metadata": {},
     "output_type": "execute_result"
    }
   ],
   "source": [
    "#ex1. numbers에서 10이상만 추출\n",
    "numbers = [1, 3, 5, 9, 10, 12, 13, 20]\n",
    "[ data for data in numbers if data>=10 ]"
   ]
  },
  {
   "cell_type": "code",
   "execution_count": 142,
   "id": "60957f4c",
   "metadata": {},
   "outputs": [
    {
     "data": {
      "text/plain": [
       "['orange']"
      ]
     },
     "execution_count": 142,
     "metadata": {},
     "output_type": "execute_result"
    }
   ],
   "source": [
    "#ex2. fruits에서 5글자가 넘는 과일만 추출\n",
    "fruits = ['orange', 'apple', 'mango', 'kiwi']\n",
    "[ data for data in fruits if len(data)>5 ]"
   ]
  },
  {
   "cell_type": "code",
   "execution_count": 149,
   "id": "c9508baf",
   "metadata": {},
   "outputs": [
    {
     "data": {
      "text/plain": [
       "[9, 16, 25]"
      ]
     },
     "execution_count": 149,
     "metadata": {},
     "output_type": "execute_result"
    }
   ],
   "source": [
    "#ex3. 3이상의 요소들의 제곱을 추출\n",
    "L = [1, 2, 3, 4, 5]\n",
    "[ data**2 for data in L if data>=3 ]"
   ]
  },
  {
   "cell_type": "markdown",
   "id": "b5e76ab1",
   "metadata": {},
   "source": [
    "## 1.6 요소 수정하기"
   ]
  },
  {
   "cell_type": "code",
   "execution_count": 150,
   "id": "dc5635df",
   "metadata": {},
   "outputs": [
    {
     "data": {
      "text/plain": [
       "[0, 1, 222, 3, 4, 5, 6, 7, 8, 9]"
      ]
     },
     "execution_count": 150,
     "metadata": {},
     "output_type": "execute_result"
    }
   ],
   "source": [
    "numbers= [0, 1, 2, 3, 4, 5, 6, 7, 8, 9]\n",
    "numbers[2] = 222\n",
    "numbers"
   ]
  },
  {
   "cell_type": "code",
   "execution_count": 151,
   "id": "fffa4927",
   "metadata": {},
   "outputs": [
    {
     "data": {
      "text/plain": [
       "[0, 'x', 'y', 'z', 'ㅋ', 'ㅎ', 4, 5, 6, 7, 8, 9]"
      ]
     },
     "execution_count": 151,
     "metadata": {},
     "output_type": "execute_result"
    }
   ],
   "source": [
    "#슬라이싱을 이용해서 요소 수정\n",
    "numbers[1:4] = ['x', 'y', 'z', 'ㅋ', 'ㅎ']\n",
    "numbers"
   ]
  },
  {
   "cell_type": "code",
   "execution_count": 153,
   "id": "fc617012",
   "metadata": {},
   "outputs": [
    {
     "data": {
      "text/plain": [
       "[0, 'x', 4, 5, 6, 7, 8, 9]"
      ]
     },
     "execution_count": 153,
     "metadata": {},
     "output_type": "execute_result"
    }
   ],
   "source": [
    "#슬라이싱을 이용해서 요소 수정 시 step부분 미포함: 부분 리스트가 통째로 수정\n",
    "numbers= [0, 1, 2, 3, 4, 5, 6, 7, 8, 9]\n",
    "numbers[1:4] = ['x']\n",
    "numbers"
   ]
  },
  {
   "cell_type": "code",
   "execution_count": 157,
   "id": "3d16dfbf",
   "metadata": {},
   "outputs": [
    {
     "data": {
      "text/plain": [
       "[99, 1, 99, 3, 99, 5, 99, 7, 99, 9]"
      ]
     },
     "execution_count": 157,
     "metadata": {},
     "output_type": "execute_result"
    }
   ],
   "source": [
    "#슬라이싱을 이용해서 요소 수정(step부분 포함: 요소 개수가 맞아야 함)\n",
    "numbers= [0, 1, 2, 3, 4, 5, 6, 7, 8, 9]\n",
    "numbers[::2] = [99, 99, 99, 99, 99]\n",
    "numbers"
   ]
  },
  {
   "cell_type": "markdown",
   "id": "1e1f441f",
   "metadata": {},
   "source": [
    "## 1.7 요소 삭제\n",
    "- pop(): 가장 마지막 인덱스 요소가 반환되고 삭제\n",
    "- pop(idx): idx번 요소가 반환되고 삭제\n",
    "- remove(지울data): 리스트안의 data가 삭제\n",
    "- del 변수[idx]: idx번째 요소가 삭제"
   ]
  },
  {
   "cell_type": "code",
   "execution_count": 163,
   "id": "2615f1e2",
   "metadata": {},
   "outputs": [
    {
     "name": "stdout",
     "output_type": "stream",
     "text": [
      "삭제된 데이터: 5, 리스트: [1, 2, 3, 4]\n",
      "삭제된 데이터: 1, 리스트: [2, 3, 4]\n",
      "numbers:  [2, 3]\n"
     ]
    }
   ],
   "source": [
    "numbers= [1, 2, 3, 4, 5]\n",
    "delete_data = numbers.pop()\n",
    "print('삭제된 데이터: {}, 리스트: {}'.format(delete_data, numbers))\n",
    "delete_data2 = numbers.pop(0)\n",
    "print('삭제된 데이터: {}, 리스트: {}'.format(delete_data2, numbers))\n",
    "del numbers[2]\n",
    "print('numbers: ', numbers)"
   ]
  },
  {
   "cell_type": "code",
   "execution_count": 164,
   "id": "f914c28b",
   "metadata": {},
   "outputs": [
    {
     "data": {
      "text/plain": [
       "[1, 2, 4, 5]"
      ]
     },
     "execution_count": 164,
     "metadata": {},
     "output_type": "execute_result"
    }
   ],
   "source": [
    "numbers= [1, 2, 3, 4, 5]\n",
    "numbers.remove(3) #remove는 반환값이 없고 해당 데이터만 삭제. 해당데이터가 없으면 오류\n",
    "numbers"
   ]
  },
  {
   "cell_type": "code",
   "execution_count": 165,
   "id": "46d75d37",
   "metadata": {},
   "outputs": [
    {
     "name": "stdout",
     "output_type": "stream",
     "text": [
      "해당 데이터가 없습니다\n"
     ]
    }
   ],
   "source": [
    "if 9 in numbers:\n",
    "    numbers.remove(9)\n",
    "else:\n",
    "    print('해당 데이터가 없습니다')"
   ]
  },
  {
   "cell_type": "code",
   "execution_count": 168,
   "id": "cae425da",
   "metadata": {},
   "outputs": [],
   "source": [
    "def safe_remove(lst, remove_data):\n",
    "    if remove_data in lst:\n",
    "        lst.remove(remove_data)\n",
    "        print(remove_data, '삭제 완료')\n",
    "    else:\n",
    "        print(f'해당 {remove_data}데이터는 없는 아이템입니다')"
   ]
  },
  {
   "cell_type": "code",
   "execution_count": 170,
   "id": "085346e5",
   "metadata": {},
   "outputs": [
    {
     "name": "stdout",
     "output_type": "stream",
     "text": [
      "해당 9데이터는 없는 아이템입니다\n",
      "5 삭제 완료\n"
     ]
    }
   ],
   "source": [
    "safe_remove(numbers,9)\n",
    "safe_remove(numbers,5)"
   ]
  },
  {
   "cell_type": "code",
   "execution_count": 171,
   "id": "af75a7a8",
   "metadata": {},
   "outputs": [
    {
     "data": {
      "text/plain": [
       "[1, 2, 4]"
      ]
     },
     "execution_count": 171,
     "metadata": {},
     "output_type": "execute_result"
    }
   ],
   "source": [
    "numbers"
   ]
  },
  {
   "cell_type": "markdown",
   "id": "f7df7f90",
   "metadata": {},
   "source": [
    "## 1.8 정렬하기"
   ]
  },
  {
   "cell_type": "code",
   "execution_count": 3,
   "id": "e3f9c0c5",
   "metadata": {},
   "outputs": [
    {
     "name": "stdout",
     "output_type": "stream",
     "text": [
      "numbers는 변경하지 않고 정렬:  [0, 1, 5, 8, 9]\n",
      "numbers:  [1, 9, 5, 0, 8]\n"
     ]
    }
   ],
   "source": [
    "numbers = [1, 9, 5, 0, 8]\n",
    "print('numbers는 변경하지 않고 정렬: ',sorted(numbers,reverse=True)) #reverse=True: 내림차순\n",
    "print('numbers: ',numbers)"
   ]
  },
  {
   "cell_type": "code",
   "execution_count": 4,
   "id": "bc0208e0",
   "metadata": {},
   "outputs": [
    {
     "data": {
      "text/plain": [
       "[0, 1, 5, 8, 9]"
      ]
     },
     "execution_count": 4,
     "metadata": {},
     "output_type": "execute_result"
    }
   ],
   "source": [
    "numbers.sort() #numbers자체가 정렬한 결과로 바뀜(기본정렬: 오름차순)\n",
    "numbers"
   ]
  },
  {
   "cell_type": "code",
   "execution_count": 7,
   "id": "55ac77e0",
   "metadata": {},
   "outputs": [
    {
     "data": {
      "text/plain": [
       "[9, 8, 5, 1, 0]"
      ]
     },
     "execution_count": 7,
     "metadata": {},
     "output_type": "execute_result"
    }
   ],
   "source": [
    "numbers.reverse() #numbers 자체가 역순으로 변경\n",
    "numbers"
   ]
  },
  {
   "cell_type": "code",
   "execution_count": 9,
   "id": "eeb7f1f6",
   "metadata": {},
   "outputs": [
    {
     "data": {
      "text/plain": [
       "[9, 5, 2]"
      ]
     },
     "execution_count": 9,
     "metadata": {},
     "output_type": "execute_result"
    }
   ],
   "source": [
    "lst = [2, 5, 9]\n",
    "#lst.reverse()\n",
    "lst = lst[::-1]\n",
    "lst"
   ]
  },
  {
   "cell_type": "markdown",
   "id": "ef5a0463",
   "metadata": {},
   "source": [
    "## 1.9 복제하기"
   ]
  },
  {
   "cell_type": "code",
   "execution_count": 13,
   "id": "396fe845",
   "metadata": {},
   "outputs": [
    {
     "name": "stdout",
     "output_type": "stream",
     "text": [
      "원본 = 10, 복사본10 / 원본주소=1962769449488, 복사본주소=1962769449488\n",
      "원본 = 10, 복사본99 / 원본주소=1962769449488, 복사본주소=1962769452336\n"
     ]
    }
   ],
   "source": [
    "#스칼라 데이터의 복제\n",
    "i = 10     #원본\n",
    "copy_i = i #복제본\n",
    "print(f\"원본 = {i}, 복사본{copy_i} / 원본주소={id(i)}, 복사본주소={id(copy_i)}\")\n",
    "copy_i = 99\n",
    "print(f\"원본 = {i}, 복사본{copy_i} / 원본주소={id(i)}, 복사본주소={id(copy_i)}\")"
   ]
  },
  {
   "cell_type": "code",
   "execution_count": 14,
   "id": "75ff8b9c",
   "metadata": {},
   "outputs": [],
   "source": [
    "#리스트(배열, 데이터프레임, 딕셔너리)의 복제"
   ]
  },
  {
   "cell_type": "code",
   "execution_count": 17,
   "id": "74951f46",
   "metadata": {},
   "outputs": [
    {
     "name": "stdout",
     "output_type": "stream",
     "text": [
      "원본 : [9, 6, 1]\n",
      "복제본 : [9, 6, 1]\n"
     ]
    }
   ],
   "source": [
    "numbers = [5, 6, 1]  #원본\n",
    "new_numbers= numbers #복제본\n",
    "new_numbers[0] = 9\n",
    "print('원본 :', numbers)\n",
    "print('복제본 :', new_numbers)"
   ]
  },
  {
   "cell_type": "code",
   "execution_count": 20,
   "id": "fa0e6597",
   "metadata": {},
   "outputs": [
    {
     "name": "stdout",
     "output_type": "stream",
     "text": [
      "원본 = [5, 8, 1], 복제본 = [5, 8, 1]\n",
      "원본주소 = 1960734111360, 복제본 = 1960734111360\n",
      "원본 = [-99, 1, 8], 복제본 = [-99, 1, 8]\n",
      "원본주소 = 1960734111360, 복제본 = 1960734111360\n"
     ]
    }
   ],
   "source": [
    "# 얕은 복사(할당)\n",
    "numbers = [5, 8, 1]  #원본\n",
    "new_numbers = numbers#얕은 복사(할당)\n",
    "print(f\"원본 = {numbers}, 복제본 = {new_numbers}\")\n",
    "print(f\"원본주소 = {id(numbers)}, 복제본 = {id(new_numbers)}\")\n",
    "new_numbers[0] = -99\n",
    "new_numbers.sort()\n",
    "print(\"복제본만 지지고 볶고\")\n",
    "print(f\"원본 = {numbers}, 복제본 = {new_numbers}\")\n",
    "print(f\"원본주소 = {id(numbers)}, 복제본 = {id(new_numbers)}\")"
   ]
  },
  {
   "cell_type": "code",
   "execution_count": 23,
   "id": "9cd9cf29",
   "metadata": {},
   "outputs": [
    {
     "name": "stdout",
     "output_type": "stream",
     "text": [
      "원본 = [5, 8, 1], 복제본 = [5, 8, 1]\n",
      "원본주소 = 1960734133248, 복제본 = 1960734109248\n",
      "복제본만 지지고 볶고\n",
      "원본 = [5, 8, 1], 복제본 = [-99, 1]\n",
      "원본주소 = 1960734133248, 복제본 = 1960734109248\n"
     ]
    }
   ],
   "source": [
    "#깊은 복사(복제)\n",
    "numbers = [5, 8, 1]  #원본\n",
    "new_numbers = numbers.copy()#깊은 복사(복제)\n",
    "print(f\"원본 = {numbers}, 복제본 = {new_numbers}\")\n",
    "print(f\"원본주소 = {id(numbers)}, 복제본 = {id(new_numbers)}\")\n",
    "new_numbers[0] = -99\n",
    "new_numbers.sort()\n",
    "new_numbers.pop()\n",
    "print(\"복제본만 지지고 볶고\")\n",
    "print(f\"원본 = {numbers}, 복제본 = {new_numbers}\")\n",
    "print(f\"원본주소 = {id(numbers)}, 복제본 = {id(new_numbers)}\")"
   ]
  },
  {
   "cell_type": "code",
   "execution_count": 24,
   "id": "d2f8927e",
   "metadata": {},
   "outputs": [
    {
     "data": {
      "text/plain": [
       "[]"
      ]
     },
     "execution_count": 24,
     "metadata": {},
     "output_type": "execute_result"
    }
   ],
   "source": [
    "numbers.clear() #리스트의 요소를 모두 삭제\n",
    "numbers"
   ]
  },
  {
   "cell_type": "markdown",
   "id": "19cb7796",
   "metadata": {},
   "source": [
    "# 2절. 튜플\n",
    "- 리스트와 유사하지만, 읽기 전용. 수정이 필요없는 데이터에서 사용\n",
    "- 수정불가하므로, 튜플에 데이트 수정, 추가, 삭제 불가(제공되는 함수도 많지 않음)\n",
    "- (), tuple() 이용해서 생성"
   ]
  },
  {
   "cell_type": "code",
   "execution_count": 27,
   "id": "e3a16f7d",
   "metadata": {},
   "outputs": [
    {
     "name": "stdout",
     "output_type": "stream",
     "text": [
      "<class 'tuple'>\n",
      "('서울', '부산', '인천', '목표')\n"
     ]
    }
   ],
   "source": [
    "#city = ('서울', '부산', '인천', '목표')\n",
    "#파이썬은 여러개의 값이 전달될 때, 튜플 타입으로 전달\n",
    "city = '서울', '부산', '인천', '목표'\n",
    "print(type(city))\n",
    "print(city)"
   ]
  },
  {
   "cell_type": "code",
   "execution_count": 28,
   "id": "f209de78",
   "metadata": {},
   "outputs": [
    {
     "name": "stdout",
     "output_type": "stream",
     "text": [
      "10 12\n"
     ]
    }
   ],
   "source": [
    "a, b = 10, 12\n",
    "print(a, b)"
   ]
  },
  {
   "cell_type": "code",
   "execution_count": 30,
   "id": "2376b35c",
   "metadata": {},
   "outputs": [
    {
     "data": {
      "text/plain": [
       "'서울 = 부산 = 인천 = 목표'"
      ]
     },
     "execution_count": 30,
     "metadata": {},
     "output_type": "execute_result"
    }
   ],
   "source": [
    "# city = ['서울', '부산', '인천', '목표']\n",
    "city = ('서울', '부산', '인천', '목표')\n",
    "' = '.join(city)"
   ]
  },
  {
   "cell_type": "code",
   "execution_count": 31,
   "id": "d52b8c90",
   "metadata": {},
   "outputs": [
    {
     "name": "stdout",
     "output_type": "stream",
     "text": [
      "<class 'list'> ['서울']\n"
     ]
    }
   ],
   "source": [
    "l = ['서울'] #요소가 하나 있는 리스트\n",
    "print(type(l), l)"
   ]
  },
  {
   "cell_type": "code",
   "execution_count": 35,
   "id": "0e6a4df2",
   "metadata": {},
   "outputs": [
    {
     "name": "stdout",
     "output_type": "stream",
     "text": [
      "<class 'tuple'> ('서울',)\n"
     ]
    }
   ],
   "source": [
    "t = ('서울', ) #요소가 하나 있는 튜플: (,반드시 기입)\n",
    "print(type(t), t)"
   ]
  },
  {
   "cell_type": "code",
   "execution_count": null,
   "id": "676ed874",
   "metadata": {},
   "outputs": [],
   "source": [
    "numbers = (1, 2, 3)\n",
    "# numbers.remove(3)\n",
    "# numbers.pop()\n",
    "# numbers.sort()"
   ]
  },
  {
   "cell_type": "code",
   "execution_count": 36,
   "id": "dae38109",
   "metadata": {},
   "outputs": [
    {
     "data": {
      "text/plain": [
       "(2, 0)"
      ]
     },
     "execution_count": 36,
     "metadata": {},
     "output_type": "execute_result"
    }
   ],
   "source": [
    "numbers = (0, 1, 2, (1, 2), 0, 1, 2)\n",
    "numbers.count(2), numbers.count(9)"
   ]
  },
  {
   "cell_type": "code",
   "execution_count": 38,
   "id": "1f542012",
   "metadata": {},
   "outputs": [
    {
     "name": "stdout",
     "output_type": "stream",
     "text": [
      "9요소가 없어요\n"
     ]
    }
   ],
   "source": [
    "if 9 in numbers:\n",
    "    numbers.index(9)\n",
    "else:\n",
    "    print('9요소가 없어요')"
   ]
  },
  {
   "cell_type": "code",
   "execution_count": 39,
   "id": "d63dd440",
   "metadata": {},
   "outputs": [],
   "source": [
    "def safe_index(lst, item):\n",
    "    \"\"\"\n",
    "    lst안에 item요소가 있으면 item요소의 index를 반환, 없으면 -1반환\n",
    "    lst: 나열가능한 데이터\n",
    "    item: 찾을 데이터\n",
    "    \"\"\"\n",
    "#     if item in lst:\n",
    "#         return lst.index(item)\n",
    "#     else:\n",
    "#         return -1\n",
    "    return lst.index(item) if item in lst else -1 #위와 같음"
   ]
  },
  {
   "cell_type": "code",
   "execution_count": 3,
   "id": "92016dbf",
   "metadata": {},
   "outputs": [
    {
     "data": {
      "text/plain": [
       "(-1, 2)"
      ]
     },
     "execution_count": 3,
     "metadata": {},
     "output_type": "execute_result"
    }
   ],
   "source": [
    "from safe import safe_index\n",
    "numbers = (0, 1, 2, (1, 2), 0, 1, 2)\n",
    "safe_index(numbers, 9), safe_index(numbers, 2)"
   ]
  },
  {
   "cell_type": "code",
   "execution_count": 4,
   "id": "b1b6a50d",
   "metadata": {},
   "outputs": [
    {
     "data": {
      "text/plain": [
       "(0, 1, 2, (1, 2), 0, 1, 2, 0, 1, 2, (1, 2), 0, 1, 2, 0, 1, 2, (1, 2), 0, 1, 2)"
      ]
     },
     "execution_count": 4,
     "metadata": {},
     "output_type": "execute_result"
    }
   ],
   "source": [
    "numbers * 3 #반복"
   ]
  },
  {
   "cell_type": "code",
   "execution_count": 7,
   "id": "c0eb168a",
   "metadata": {},
   "outputs": [
    {
     "data": {
      "text/plain": [
       "(4, 16, 36)"
      ]
     },
     "execution_count": 7,
     "metadata": {},
     "output_type": "execute_result"
    }
   ],
   "source": [
    "#ex. 짝수 요소들을 추출하여 제곱한 데이터를 튜플로 출력\n",
    "numbers = (1, 2, 3, 4, 5, 6)\n",
    "tuple([num**2 for num in numbers if num%2 == 0])"
   ]
  },
  {
   "cell_type": "markdown",
   "id": "6a784a3d",
   "metadata": {},
   "source": [
    "# 3절. 딕셔너리\n",
    "- 중괄호({})를 이용해서, 키(key)-값(value) 쌍으로 구성된 자료 구조\n",
    "- 키는 중복불가(유일한 값만 가능). 키에 list는 사용불가\n",
    "- 값은 중복가능\n",
    "- 인덱스를 이용한 참조 지원 안 함"
   ]
  },
  {
   "cell_type": "code",
   "execution_count": 10,
   "id": "072353ba",
   "metadata": {},
   "outputs": [
    {
     "name": "stdout",
     "output_type": "stream",
     "text": [
      "<class 'dict'>\n",
      "{'name': '홍길동', 1: 22, (1, 2): [1, 2]}\n",
      "데이터 개수:  3\n"
     ]
    }
   ],
   "source": [
    "dic = {'name': '홍길동', 1:22, (1, 2):[1, 2]}\n",
    "print(type(dic))\n",
    "print(dic)\n",
    "print('데이터 개수: ', len(dic))"
   ]
  },
  {
   "cell_type": "code",
   "execution_count": 12,
   "id": "f38a728d",
   "metadata": {},
   "outputs": [
    {
     "data": {
      "text/plain": [
       "{'fruit': 'apple', 'number': 12, 'sport': 'golf'}"
      ]
     },
     "execution_count": 12,
     "metadata": {},
     "output_type": "execute_result"
    }
   ],
   "source": [
    "my_favorite = {'fruit':'apple', 'number':12, 'sport':'golf'}\n",
    "my_favorite"
   ]
  },
  {
   "cell_type": "code",
   "execution_count": 15,
   "id": "4724308b",
   "metadata": {},
   "outputs": [
    {
     "name": "stdout",
     "output_type": "stream",
     "text": [
      "apple\n",
      "apple\n"
     ]
    }
   ],
   "source": [
    "print(my_favorite['fruit'])\n",
    "print(my_favorite.get('fruit')) #★"
   ]
  },
  {
   "cell_type": "markdown",
   "id": "936119a6",
   "metadata": {},
   "source": [
    "#print(my_favorite['people']) #없는 키값을 인덱스 방식으로 참조시 에러\n",
    "print(my_favorite.get('people')) #없는 키값을 get함수로 참조시 None\n",
    "print(my_favorite.get('people', '-')) #없는 키를 get함수로 참조시 '-'"
   ]
  },
  {
   "cell_type": "code",
   "execution_count": 26,
   "id": "b342d081",
   "metadata": {},
   "outputs": [
    {
     "name": "stdout",
     "output_type": "stream",
     "text": [
      "fruit 수정 후 : {'fruit': 'mango', 'number': 12, 'sport': 'golf'}\n",
      "my_favorite 추가 후:  {'fruit': 'mango', 'number': 12, 'sport': 'golf', 'people': '홍길동'}\n",
      "fruit제거 후:  {'number': 12, 'sport': 'golf', 'people': '홍길동'}\n",
      "remove_data: 12\n",
      "number제거 후 딕셔너리: {'sport': 'golf', 'people': '홍길동'}\n"
     ]
    }
   ],
   "source": [
    "#딕셔너리 데이터 수정\n",
    "my_favorite = {'fruit':'apple', 'number':12, 'sport':'golf'}\n",
    "my_favorite['fruit'] = 'mango' #fruit데이터 수정\n",
    "print('fruit 수정 후 :', my_favorite)\n",
    "my_favorite['people'] = '홍길동' #데이터 추가\n",
    "print('my_favorite 추가 후: ', my_favorite)\n",
    "del my_favorite['fruit']\n",
    "print('fruit제거 후: ', my_favorite)\n",
    "remove_data = my_favorite.pop('number')#number키의 값을 반환하고 제거\n",
    "print('remove_data:', remove_data)\n",
    "print('number제거 후 딕셔너리:', my_favorite)"
   ]
  },
  {
   "cell_type": "code",
   "execution_count": 31,
   "id": "0116ac1f",
   "metadata": {},
   "outputs": [],
   "source": [
    "# for문을 이용한 튜플(리스트) 출력\n",
    "my_tup = ('홍길동', 30, '010-9999-9999')"
   ]
  },
  {
   "cell_type": "code",
   "execution_count": 33,
   "id": "a807ec31",
   "metadata": {},
   "outputs": [
    {
     "name": "stdout",
     "output_type": "stream",
     "text": [
      "홍길동\t30\t010-9999-9999\t\n",
      "0번째 홍길동\t1번째 30\t2번째 010-9999-9999\t\n",
      "0번째 홍길동\t1번째 30\t2번째 010-9999-9999\t"
     ]
    }
   ],
   "source": [
    "for data in my_tup:\n",
    "    print(data, end='\\t')\n",
    "print()\n",
    "for idx in range(len(my_tup)):\n",
    "    print(f\"{idx}번째 {my_tup[idx]}\", end='\\t')\n",
    "print()\n",
    "for idx, value in enumerate(my_tup):\n",
    "    print(f\"{idx}번째 {value}\", end=\"\\t\")"
   ]
  },
  {
   "cell_type": "code",
   "execution_count": 34,
   "id": "5e2ae125",
   "metadata": {},
   "outputs": [],
   "source": [
    "my_dic = {'name':'홍길동', 'age':30, 'tel':'010-9999-9999'}"
   ]
  },
  {
   "cell_type": "code",
   "execution_count": 38,
   "id": "0c14f48b",
   "metadata": {},
   "outputs": [
    {
     "name": "stdout",
     "output_type": "stream",
     "text": [
      "홍길동\t30\t010-9999-9999\t"
     ]
    }
   ],
   "source": [
    "#매우 비추\n",
    "for key in my_dic:\n",
    "    print(my_dic[key],end='\\t')"
   ]
  },
  {
   "cell_type": "code",
   "execution_count": 39,
   "id": "29ea525c",
   "metadata": {},
   "outputs": [
    {
     "name": "stdout",
     "output_type": "stream",
     "text": [
      "홍길동\t30\t010-9999-9999\t"
     ]
    }
   ],
   "source": [
    "for data in my_dic.values():\n",
    "    print(data, end='\\t')"
   ]
  },
  {
   "cell_type": "code",
   "execution_count": 45,
   "id": "96650bd2",
   "metadata": {},
   "outputs": [
    {
     "data": {
      "text/plain": [
       "dict_values(['홍길동', 30, '010-9999-9999'])"
      ]
     },
     "execution_count": 45,
     "metadata": {},
     "output_type": "execute_result"
    }
   ],
   "source": [
    "my_dic.values() #값만 추출"
   ]
  },
  {
   "cell_type": "code",
   "execution_count": 43,
   "id": "6f29b266",
   "metadata": {},
   "outputs": [
    {
     "data": {
      "text/plain": [
       "dict_keys(['name', 'age', 'tel'])"
      ]
     },
     "execution_count": 43,
     "metadata": {},
     "output_type": "execute_result"
    }
   ],
   "source": [
    "my_dic.keys() #키만 추출"
   ]
  },
  {
   "cell_type": "code",
   "execution_count": 44,
   "id": "1aa1bc20",
   "metadata": {},
   "outputs": [
    {
     "data": {
      "text/plain": [
       "dict_items([('name', '홍길동'), ('age', 30), ('tel', '010-9999-9999')])"
      ]
     },
     "execution_count": 44,
     "metadata": {},
     "output_type": "execute_result"
    }
   ],
   "source": [
    "my_dic.items() #키-값 쌍을 추출"
   ]
  },
  {
   "cell_type": "code",
   "execution_count": 46,
   "id": "5d163c5d",
   "metadata": {},
   "outputs": [
    {
     "name": "stdout",
     "output_type": "stream",
     "text": [
      "name:홍길동\tage:30\ttel:010-9999-9999\t"
     ]
    }
   ],
   "source": [
    "for key, value in my_dic.items():\n",
    "    print(f\"{key}:{value}\", end=\"\\t\")"
   ]
  },
  {
   "cell_type": "code",
   "execution_count": 47,
   "id": "86c85e97",
   "metadata": {},
   "outputs": [
    {
     "data": {
      "text/plain": [
       "[(0, ('name', '홍길동')), (1, ('age', 30)), (2, ('tel', '010-9999-9999'))]"
      ]
     },
     "execution_count": 47,
     "metadata": {},
     "output_type": "execute_result"
    }
   ],
   "source": [
    "list(enumerate(my_dic.items()))"
   ]
  },
  {
   "cell_type": "code",
   "execution_count": 52,
   "id": "0980bd0d",
   "metadata": {},
   "outputs": [
    {
     "name": "stdout",
     "output_type": "stream",
     "text": [
      "1.name:홍길동\n",
      "2.age :30\n",
      "3.tel :010-9999-9999\n"
     ]
    }
   ],
   "source": [
    "for idx, (key, value) in enumerate(my_dic.items()):\n",
    "    print(\"{}.{:4}:{}\".format(idx+1, key, value))"
   ]
  },
  {
   "cell_type": "code",
   "execution_count": 53,
   "id": "323cf0b7",
   "metadata": {},
   "outputs": [
    {
     "data": {
      "text/plain": [
       "{'name': '홍길동', 'age': 30, 'tel': '010-9999-9999'}"
      ]
     },
     "execution_count": 53,
     "metadata": {},
     "output_type": "execute_result"
    }
   ],
   "source": [
    "my_dic"
   ]
  },
  {
   "cell_type": "code",
   "execution_count": 54,
   "id": "10a5fbdc",
   "metadata": {},
   "outputs": [
    {
     "data": {
      "text/plain": [
       "False"
      ]
     },
     "execution_count": 54,
     "metadata": {},
     "output_type": "execute_result"
    }
   ],
   "source": [
    "\"홍길동\" in my_dic"
   ]
  },
  {
   "cell_type": "code",
   "execution_count": 55,
   "id": "bd196c8c",
   "metadata": {},
   "outputs": [
    {
     "data": {
      "text/plain": [
       "True"
      ]
     },
     "execution_count": 55,
     "metadata": {},
     "output_type": "execute_result"
    }
   ],
   "source": [
    "\"홍길동\" in my_dic.values()"
   ]
  },
  {
   "cell_type": "code",
   "execution_count": 57,
   "id": "9a20edc9",
   "metadata": {},
   "outputs": [
    {
     "name": "stdout",
     "output_type": "stream",
     "text": [
      "{'fruit': 'apple', 'number': 12, 'people': '홍길동'}\n"
     ]
    },
    {
     "data": {
      "text/plain": [
       "{'fruit': 'apple', 'number': 12, 'people': '홍길동'}"
      ]
     },
     "execution_count": 57,
     "metadata": {},
     "output_type": "execute_result"
    }
   ],
   "source": [
    "#얕은 복사\n",
    "my_favorite = {'fruit':'apple', 'number':12} #원본\n",
    "new_favorite = my_favorite #복제본\n",
    "new_favorite['people'] = '홍길동'\n",
    "print(my_favorite)\n",
    "new_favorite"
   ]
  },
  {
   "cell_type": "code",
   "execution_count": 58,
   "id": "bebb934b",
   "metadata": {},
   "outputs": [
    {
     "name": "stdout",
     "output_type": "stream",
     "text": [
      "{'fruit': 'apple', 'number': 12}\n"
     ]
    },
    {
     "data": {
      "text/plain": [
       "{'fruit': 'apple', 'number': 12, 'people': '홍길동'}"
      ]
     },
     "execution_count": 58,
     "metadata": {},
     "output_type": "execute_result"
    }
   ],
   "source": [
    "#깊은 복사\n",
    "my_favorite = {'fruit':'apple', 'number':12} #원본\n",
    "new_favorite = my_favorite.copy() #복제본\n",
    "new_favorite['people'] = '홍길동'\n",
    "print(my_favorite)\n",
    "new_favorite"
   ]
  },
  {
   "cell_type": "markdown",
   "id": "bf8d587b",
   "metadata": {},
   "source": [
    "# 4절. 셋\n",
    "- 중복을 허용하지 않는 집합(순서x == 인덱스x)\n",
    "- 중괄호({})나 set()함수를 이용해서 셋 생성\n",
    "- 추가: add(), update()\n",
    "- 집합연산자 : &, |, -\n",
    "- 삭제: remove()"
   ]
  },
  {
   "cell_type": "code",
   "execution_count": 60,
   "id": "34e93e17",
   "metadata": {},
   "outputs": [
    {
     "data": {
      "text/plain": [
       "{'apple', 'banana', 'orange'}"
      ]
     },
     "execution_count": 60,
     "metadata": {},
     "output_type": "execute_result"
    }
   ],
   "source": [
    "fruits = {'banana', 'orange', 'banana', 'banana', 'apple'}\n",
    "fruits"
   ]
  },
  {
   "cell_type": "code",
   "execution_count": 61,
   "id": "3fba393f",
   "metadata": {},
   "outputs": [
    {
     "data": {
      "text/plain": [
       "{1, 20, 21, 22}"
      ]
     },
     "execution_count": 61,
     "metadata": {},
     "output_type": "execute_result"
    }
   ],
   "source": [
    "s1 = set([1, 20, 1, 21, 1, 22])\n",
    "s1"
   ]
  },
  {
   "cell_type": "code",
   "execution_count": 62,
   "id": "174dddab",
   "metadata": {},
   "outputs": [
    {
     "data": {
      "text/plain": [
       "{'fruit', 'number'}"
      ]
     },
     "execution_count": 62,
     "metadata": {},
     "output_type": "execute_result"
    }
   ],
   "source": [
    "#set함수를 이용해서 딕셔너리를 셋으로 전환할 때는 key만 적용\n",
    "my_favorite = {'fruit':'apple', 'number':12}\n",
    "set(my_favorite)"
   ]
  },
  {
   "cell_type": "markdown",
   "id": "db74d2f4",
   "metadata": {},
   "source": [
    "## 추가하기\n",
    "- add(): 기본자료형, 튜플데이터를 하나의 요소로 추가할 경우\n",
    "- update(): 리스트, 튜플, 딕셔너리, 셋 요소 하나하나씩 추가할 경우. dict사용시 key만 추가"
   ]
  },
  {
   "cell_type": "code",
   "execution_count": 64,
   "id": "79739793",
   "metadata": {},
   "outputs": [
    {
     "data": {
      "text/plain": [
       "{1, 2, 3, 4}"
      ]
     },
     "execution_count": 64,
     "metadata": {},
     "output_type": "execute_result"
    }
   ],
   "source": [
    "s2 = {1, 1, 2, 3}\n",
    "s2.add(4)\n",
    "s2"
   ]
  },
  {
   "cell_type": "code",
   "execution_count": 65,
   "id": "d453b4df",
   "metadata": {},
   "outputs": [
    {
     "data": {
      "text/plain": [
       "{1, 2, 3, 4, 5, 6, 7}"
      ]
     },
     "execution_count": 65,
     "metadata": {},
     "output_type": "execute_result"
    }
   ],
   "source": [
    "s2.update([5, 6, 7])\n",
    "s2"
   ]
  },
  {
   "cell_type": "code",
   "execution_count": 68,
   "id": "62f50d33",
   "metadata": {},
   "outputs": [
    {
     "data": {
      "text/plain": [
       "{False, 1, 2, 3}"
      ]
     },
     "execution_count": 68,
     "metadata": {},
     "output_type": "execute_result"
    }
   ],
   "source": [
    "#논리값 False는 False, 0으로 인식\n",
    "#논리값 True는 True, 1로 인식\n",
    "s = {1, 2, 3}\n",
    "s.add(False)\n",
    "s.add(True)\n",
    "s.add(0)\n",
    "s"
   ]
  },
  {
   "cell_type": "code",
   "execution_count": 69,
   "id": "1de600ab",
   "metadata": {},
   "outputs": [
    {
     "data": {
      "text/plain": [
       "{False, 2, 3}"
      ]
     },
     "execution_count": 69,
     "metadata": {},
     "output_type": "execute_result"
    }
   ],
   "source": [
    "s.remove(True)\n",
    "s"
   ]
  },
  {
   "cell_type": "markdown",
   "id": "1294e72b",
   "metadata": {},
   "source": [
    "## 연산:&(교집합)|(합집합)-(차집합)"
   ]
  },
  {
   "cell_type": "code",
   "execution_count": 70,
   "id": "0eee8307",
   "metadata": {},
   "outputs": [
    {
     "name": "stdout",
     "output_type": "stream",
     "text": [
      "s1|s2 =  {1, 2, 3, 4, 5, 6, 7}\n",
      "s1&s2 =  {3, 4, 5}\n",
      "s1-s2 =  {1, 2}\n"
     ]
    }
   ],
   "source": [
    "s1 = {1, 2, 3, 4, 5}\n",
    "s2 = {3, 4, 5, 6, 7}\n",
    "print('s1|s2 = ', s1|s2)\n",
    "print('s1&s2 = ', s1&s2)\n",
    "print('s1-s2 = ', s1-s2)"
   ]
  },
  {
   "cell_type": "markdown",
   "id": "6577f76f",
   "metadata": {},
   "source": [
    "# 5절. enumerate\n",
    "- 반복자 또는 순서 객체로 반복문을 처리할 때 사용함수\n",
    "- 리스트, 튜플, 셋, 딕셔너리를 for문에 사용시"
   ]
  },
  {
   "cell_type": "code",
   "execution_count": 71,
   "id": "cb08ed53",
   "metadata": {},
   "outputs": [
    {
     "name": "stdout",
     "output_type": "stream",
     "text": [
      "영자\t길동\t길자\t"
     ]
    }
   ],
   "source": [
    "names = {\"길자\", \"길동\", \"영자\"}\n",
    "for name in names:\n",
    "    print(name, end = \"\\t\")"
   ]
  },
  {
   "cell_type": "code",
   "execution_count": 73,
   "id": "f7d7d4d3",
   "metadata": {},
   "outputs": [
    {
     "name": "stdout",
     "output_type": "stream",
     "text": [
      "0.영자\n",
      "1.길동\n",
      "2.길자\n"
     ]
    }
   ],
   "source": [
    "for no, name in enumerate(names):\n",
    "    print(f\"{no}.{name}\")"
   ]
  },
  {
   "cell_type": "code",
   "execution_count": 74,
   "id": "fc1a56fe",
   "metadata": {},
   "outputs": [
    {
     "name": "stdout",
     "output_type": "stream",
     "text": [
      "순자\n",
      "길동\n",
      "길자\n"
     ]
    }
   ],
   "source": [
    "names = ['순자', '길동', '길자']\n",
    "tels = ['010-9999-9999', '010-8888-8888', '010-7777-7777']\n",
    "adds = ['서울', '인천', '판교']\n",
    "\n",
    "for name in names:\n",
    "    print(name)"
   ]
  },
  {
   "cell_type": "code",
   "execution_count": 76,
   "id": "9d094fde",
   "metadata": {},
   "outputs": [
    {
     "name": "stdout",
     "output_type": "stream",
     "text": [
      "1. 순자의 연락처는 010-9999-9999고 서울에 살아요\n",
      "2. 길동의 연락처는 010-8888-8888고 인천에 살아요\n",
      "3. 길자의 연락처는 010-7777-7777고 판교에 살아요\n"
     ]
    }
   ],
   "source": [
    "names = ['순자', '길동', '길자']\n",
    "tels = ['010-9999-9999', '010-8888-8888', '010-7777-7777']\n",
    "adds = ['서울', '인천', '판교']\n",
    "\n",
    "for idx in range(len(names)):\n",
    "    print(\"{}. {}의 연락처는 {}고 {}에 살아요\".format(idx+1, names[idx], tels[idx], adds[idx]))"
   ]
  },
  {
   "cell_type": "code",
   "execution_count": 78,
   "id": "8dc5815e",
   "metadata": {},
   "outputs": [
    {
     "data": {
      "text/plain": [
       "[('순자', '010-9999-9999', '서울'),\n",
       " ('길동', '010-8888-8888', '인천'),\n",
       " ('길자', '010-7777-7777', '판교')]"
      ]
     },
     "execution_count": 78,
     "metadata": {},
     "output_type": "execute_result"
    }
   ],
   "source": [
    "list(zip(names, tels, adds))"
   ]
  },
  {
   "cell_type": "code",
   "execution_count": 79,
   "id": "d499d33b",
   "metadata": {},
   "outputs": [
    {
     "name": "stdout",
     "output_type": "stream",
     "text": [
      "순자:010-9999-9999-서울\n",
      "길동:010-8888-8888-인천\n",
      "길자:010-7777-7777-판교\n"
     ]
    }
   ],
   "source": [
    "for name, tel, add in zip(names, tels, adds):\n",
    "    print(f\"{name}:{tel}-{add}\")"
   ]
  },
  {
   "cell_type": "code",
   "execution_count": 80,
   "id": "f2e7de8d",
   "metadata": {},
   "outputs": [
    {
     "data": {
      "text/plain": [
       "[(0, ('순자', '010-9999-9999', '서울')),\n",
       " (1, ('길동', '010-8888-8888', '인천')),\n",
       " (2, ('길자', '010-7777-7777', '판교'))]"
      ]
     },
     "execution_count": 80,
     "metadata": {},
     "output_type": "execute_result"
    }
   ],
   "source": [
    "list(enumerate(zip(names, tels, adds)))"
   ]
  },
  {
   "cell_type": "code",
   "execution_count": 87,
   "id": "c322a219",
   "metadata": {},
   "outputs": [
    {
     "name": "stdout",
     "output_type": "stream",
     "text": [
      "1. 순자 : 010-9999-9999 - 서울\n",
      "2. 길동 : 010-8888-8888 - 인천\n",
      "3. 길자 : 010-7777-7777 - 판교\n"
     ]
    }
   ],
   "source": [
    "for idx, (name, tel, add) in enumerate(zip(names, tels, adds)):\n",
    "    print(\"{}. {} : {} - {}\".format(idx+1, \n",
    "                                    name, \n",
    "                                    tel, \n",
    "                                    add))"
   ]
  },
  {
   "cell_type": "markdown",
   "id": "f4165782",
   "metadata": {},
   "source": [
    "변수가 담을 수 있는 기본 자료형들\n",
    "```\n",
    "![자료형들](https://pynative.com/wp-content/uploads/2021/02/python-data-types.jpg)\n",
    "```\n",
    "<img src=\"https://pynative.com/wp-content/uploads/2021/02/python-data-types.jpg\"\n",
    "     width=\"400\"\n",
    "     style=\"float:left\"\n",
    "     >"
   ]
  },
  {
   "cell_type": "markdown",
   "id": "07ae8cd6",
   "metadata": {},
   "source": [
    "## 6절. 연습문제\n",
    "## 실습형"
   ]
  },
  {
   "cell_type": "code",
   "execution_count": 88,
   "id": "b49bc55d",
   "metadata": {},
   "outputs": [
    {
     "data": {
      "text/plain": [
       "[1, 2, 3, 4, 5, 6, 7, 8, 9, 10, 100]"
      ]
     },
     "execution_count": 88,
     "metadata": {},
     "output_type": "execute_result"
    }
   ],
   "source": [
    "#1번\n",
    "numbers = [1,2,3,4,5,6,7,8,9,10]\n",
    "numbers.append(100)\n",
    "numbers"
   ]
  },
  {
   "cell_type": "code",
   "execution_count": 92,
   "id": "b2e5a5b3",
   "metadata": {},
   "outputs": [
    {
     "data": {
      "text/plain": [
       "[1, 2, 3, 4, 5, 6, 7, 8, 9, 10, [200, 300, 400, 500]]"
      ]
     },
     "execution_count": 92,
     "metadata": {},
     "output_type": "execute_result"
    }
   ],
   "source": [
    "#2번\n",
    "numbers = [1,2,3,4,5,6,7,8,9,10]\n",
    "data = [200, 300, 400, 500]\n",
    "numbers.extend([data])\n",
    "numbers"
   ]
  },
  {
   "cell_type": "code",
   "execution_count": 93,
   "id": "41cc560c",
   "metadata": {},
   "outputs": [
    {
     "data": {
      "text/plain": [
       "[1, 2, 3, 4, 5]"
      ]
     },
     "execution_count": 93,
     "metadata": {},
     "output_type": "execute_result"
    }
   ],
   "source": [
    "#3번\n",
    "numbers = [1,2,3,4,5,6,7,8,9,10]\n",
    "numbers[:5:]"
   ]
  },
  {
   "cell_type": "code",
   "execution_count": 100,
   "id": "ea20d31f",
   "metadata": {},
   "outputs": [
    {
     "data": {
      "text/plain": [
       "[1, 3, 5, 7, 9]"
      ]
     },
     "execution_count": 100,
     "metadata": {},
     "output_type": "execute_result"
    }
   ],
   "source": [
    "#4번\n",
    "numbers = [1,2,3,4,5,6,7,8,9,10]\n",
    "[data for data in numbers if numbers.index(data)%2 == 0]"
   ]
  },
  {
   "cell_type": "code",
   "execution_count": 107,
   "id": "39ff3b7e",
   "metadata": {},
   "outputs": [
    {
     "data": {
      "text/plain": [
       "[1, 0, 3, 0, 5, 0, 7, 0, 9, 0]"
      ]
     },
     "execution_count": 107,
     "metadata": {},
     "output_type": "execute_result"
    }
   ],
   "source": [
    "#5번\n",
    "numbers = [1,2,3,4,5,6,7,8,9,10]\n",
    "numbers[1::2] = [0, 0, 0, 0, 0]\n",
    "numbers"
   ]
  },
  {
   "cell_type": "code",
   "execution_count": 109,
   "id": "691370ff",
   "metadata": {},
   "outputs": [
    {
     "data": {
      "text/plain": [
       "[10, 9, 8, 7, 6, 5, 4, 3, 2, 1]"
      ]
     },
     "execution_count": 109,
     "metadata": {},
     "output_type": "execute_result"
    }
   ],
   "source": [
    "#6번\n",
    "numbers = [1,2,3,4,5,6,7,8,9,10]\n",
    "numbers = numbers[::-1]\n",
    "numbers"
   ]
  },
  {
   "cell_type": "code",
   "execution_count": 115,
   "id": "c4d11e8f",
   "metadata": {},
   "outputs": [
    {
     "name": "stdout",
     "output_type": "stream",
     "text": [
      "서울시 마포구\n"
     ]
    }
   ],
   "source": [
    "#7번\n",
    "member_info ={\"name\":\"홍길동\", \"age\":20, \"address\":\"서울시 마포구\", \"score\":90}\n",
    "print(member_info.get(\"address\"))"
   ]
  },
  {
   "cell_type": "code",
   "execution_count": 117,
   "id": "23c399b3",
   "metadata": {},
   "outputs": [
    {
     "data": {
      "text/plain": [
       "{'name': '홍길동', 'age': 20, 'address': '서울시 마포구'}"
      ]
     },
     "execution_count": 117,
     "metadata": {},
     "output_type": "execute_result"
    }
   ],
   "source": [
    "#8번\n",
    "member_info ={\"name\":\"홍길동\", \"age\":20, \"address\":\"서울시 마포구\", \"score\":90}\n",
    "member_info.pop(\"score\")\n",
    "member_info"
   ]
  },
  {
   "cell_type": "code",
   "execution_count": 118,
   "id": "de239c34",
   "metadata": {},
   "outputs": [
    {
     "data": {
      "text/plain": [
       "{'name': '홍길동', 'age': 20, 'address': '서울시 서대문구', 'score': 90}"
      ]
     },
     "execution_count": 118,
     "metadata": {},
     "output_type": "execute_result"
    }
   ],
   "source": [
    "#9번\n",
    "member_info ={\"name\":\"홍길동\", \"age\":20, \"address\":\"서울시 마포구\", \"score\":90}\n",
    "new_member_info = member_info.copy()\n",
    "new_member_info[\"address\"] = \"서울시 서대문구\"\n",
    "new_member_info"
   ]
  },
  {
   "cell_type": "code",
   "execution_count": 122,
   "id": "3e751219",
   "metadata": {},
   "outputs": [
    {
     "name": "stdout",
     "output_type": "stream",
     "text": [
      "dict_values(['홍길동', 20, '서울시 마포구', 90])\n"
     ]
    }
   ],
   "source": [
    "#10번\n",
    "print(member_info.values())"
   ]
  },
  {
   "cell_type": "markdown",
   "id": "c28ed458",
   "metadata": {},
   "source": [
    "## 서술형"
   ]
  },
  {
   "cell_type": "code",
   "execution_count": 123,
   "id": "24495518",
   "metadata": {},
   "outputs": [
    {
     "name": "stdout",
     "output_type": "stream",
     "text": [
      "['orange', 'banana']\n"
     ]
    }
   ],
   "source": [
    "#1번\n",
    "#출력 결과: orange, banana\n",
    "L1 = (\"orange\",\"apple\",\"banana\",\"kiwi\")\n",
    "new_list= [i for i in L1 if len(i)>5]\n",
    "print(new_list)"
   ]
  },
  {
   "cell_type": "code",
   "execution_count": 127,
   "id": "d18d5bbf",
   "metadata": {},
   "outputs": [
    {
     "name": "stdout",
     "output_type": "stream",
     "text": [
      "[]\n"
     ]
    }
   ],
   "source": [
    "#2번\n",
    "#답: 3"
   ]
  },
  {
   "cell_type": "code",
   "execution_count": 129,
   "id": "500c0889",
   "metadata": {},
   "outputs": [
    {
     "data": {
      "text/plain": [
       "1"
      ]
     },
     "execution_count": 129,
     "metadata": {},
     "output_type": "execute_result"
    }
   ],
   "source": [
    "#3번\n",
    "#답:1\n",
    "numbers_2d = [ [1,2,3,4,5], [10,20,30,40],[1,3,5],[2,]]\n",
    "len(numbers_2d[3])"
   ]
  },
  {
   "cell_type": "code",
   "execution_count": null,
   "id": "9f133e7e",
   "metadata": {},
   "outputs": [],
   "source": [
    "#4번\n",
    "#답: extends"
   ]
  },
  {
   "cell_type": "code",
   "execution_count": 133,
   "id": "76e88fcb",
   "metadata": {},
   "outputs": [
    {
     "data": {
      "text/plain": [
       "[0, 1, 0, 3, 0, 5, 0, 7, 0, 9]"
      ]
     },
     "execution_count": 133,
     "metadata": {},
     "output_type": "execute_result"
    }
   ],
   "source": [
    "#5번\n",
    "#답: [0, 1, 0, 3, 0, 5, 0, 7, 0, 9]\n",
    "numbers=list(range(10))\n",
    "numbers[::2] = [0]*len(numbers[::2])\n",
    "numbers"
   ]
  },
  {
   "cell_type": "code",
   "execution_count": 130,
   "id": "484b8674",
   "metadata": {
    "collapsed": true
   },
   "outputs": [
    {
     "data": {
      "text/plain": [
       "[5, 1, 6, 3, 7, 5, 8, 7, 9, 9]"
      ]
     },
     "execution_count": 130,
     "metadata": {},
     "output_type": "execute_result"
    }
   ],
   "source": [
    "#6번\n",
    "#답: [5, 1, 6, 2, 7, 3, 8, 4, 9]\n",
    "numbers = [0,1,2,3,4,5,6,7,8,9]\n",
    "numbers[ : : 2]= numbers[5:]\n",
    "numbers"
   ]
  },
  {
   "cell_type": "code",
   "execution_count": 134,
   "id": "97f97586",
   "metadata": {},
   "outputs": [
    {
     "data": {
      "text/plain": [
       "[0, 1, 1, 3, 2, 5, 3, 7, 4, 9]"
      ]
     },
     "execution_count": 134,
     "metadata": {},
     "output_type": "execute_result"
    }
   ],
   "source": [
    "#7번\n",
    "#답: [0, 0, 1, 1, 3, 2, 5, 3, 7, 4, 9]\n",
    "numbers = [0, 1, 2, 3, 4, 5, 6, 7, 8, 9]\n",
    "numbers[::2] = numbers[:5]\n",
    "numbers"
   ]
  },
  {
   "cell_type": "code",
   "execution_count": 131,
   "id": "e2e288dc",
   "metadata": {
    "collapsed": true
   },
   "outputs": [
    {
     "ename": "KeyError",
     "evalue": "0",
     "output_type": "error",
     "traceback": [
      "\u001b[1;31m---------------------------------------------------------------------------\u001b[0m",
      "\u001b[1;31mKeyError\u001b[0m                                  Traceback (most recent call last)",
      "Cell \u001b[1;32mIn[131], line 4\u001b[0m\n\u001b[0;32m      1\u001b[0m \u001b[38;5;66;03m#8번\u001b[39;00m\n\u001b[0;32m      2\u001b[0m \u001b[38;5;66;03m#답: \u001b[39;00m\n\u001b[0;32m      3\u001b[0m my_dic \u001b[38;5;241m=\u001b[39m {\u001b[38;5;124m\"\u001b[39m\u001b[38;5;124ma\u001b[39m\u001b[38;5;124m\"\u001b[39m:\u001b[38;5;241m10\u001b[39m, \u001b[38;5;124m\"\u001b[39m\u001b[38;5;124mb\u001b[39m\u001b[38;5;124m\"\u001b[39m:\u001b[38;5;241m20\u001b[39m, \u001b[38;5;124m\"\u001b[39m\u001b[38;5;124mc\u001b[39m\u001b[38;5;124m\"\u001b[39m:\u001b[38;5;241m30\u001b[39m}\n\u001b[1;32m----> 4\u001b[0m \u001b[43mmy_dic\u001b[49m\u001b[43m[\u001b[49m\u001b[38;5;241;43m0\u001b[39;49m\u001b[43m]\u001b[49m\n",
      "\u001b[1;31mKeyError\u001b[0m: 0"
     ]
    }
   ],
   "source": [
    "#8번\n",
    "#답: 1번\n",
    "my_dic = {\"a\":10, \"b\":20, \"c\":30}"
   ]
  },
  {
   "cell_type": "code",
   "execution_count": 135,
   "id": "f25b844c",
   "metadata": {},
   "outputs": [
    {
     "name": "stdout",
     "output_type": "stream",
     "text": [
      "apple\n",
      "banana\n",
      "orange\n"
     ]
    }
   ],
   "source": [
    "#9번\n",
    "#답:\n",
    "# apple\n",
    "# banana\n",
    "# orange\n",
    "fruits = [ 'apple', 'banana', 'orange']\n",
    "x, y, z = fruits\n",
    "print(x)\n",
    "print(y)\n",
    "print(z)"
   ]
  },
  {
   "cell_type": "code",
   "execution_count": 136,
   "id": "987a25cf",
   "metadata": {},
   "outputs": [
    {
     "name": "stdout",
     "output_type": "stream",
     "text": [
      "3\n"
     ]
    }
   ],
   "source": [
    "#10번\n",
    "#답: 3\n",
    "fruits = ['apple', 'banana', 'orange']\n",
    "print(len(fruits))"
   ]
  },
  {
   "cell_type": "code",
   "execution_count": null,
   "id": "d32f5c9e",
   "metadata": {},
   "outputs": [],
   "source": [
    "#11번\n",
    "#답: def"
   ]
  }
 ],
 "metadata": {
  "kernelspec": {
   "display_name": "Python 3 (ipykernel)",
   "language": "python",
   "name": "python3"
  },
  "language_info": {
   "codemirror_mode": {
    "name": "ipython",
    "version": 3
   },
   "file_extension": ".py",
   "mimetype": "text/x-python",
   "name": "python",
   "nbconvert_exporter": "python",
   "pygments_lexer": "ipython3",
   "version": "3.10.9"
  },
  "toc": {
   "base_numbering": 1,
   "nav_menu": {},
   "number_sections": false,
   "sideBar": true,
   "skip_h1_title": false,
   "title_cell": "Table of Contents",
   "title_sidebar": "Contents",
   "toc_cell": false,
   "toc_position": {},
   "toc_section_display": true,
   "toc_window_display": false
  }
 },
 "nbformat": 4,
 "nbformat_minor": 5
}
