{
 "cells": [
  {
   "cell_type": "code",
   "execution_count": 1,
   "id": "5d44db51",
   "metadata": {},
   "outputs": [
    {
     "data": {
      "text/html": [
       "\n",
       "<style>\n",
       "div.container{width:86% !important;}\n",
       "div.cell.code_cell.rendered{width:100%;}\n",
       "div.CodeMirror {font-family:Consolas; font-size:15pt;}\n",
       "div.output {font-size:15pt; font-weight:bold;}\n",
       "div.input {font-family:Consolas; font-size:15pt;}\n",
       "div.prompt {min-width:70px;}\n",
       "div#toc-wrapper{padding-top:120px;}\n",
       "div.text_cell_render ul li{font-size:12pt;padding:5px;}\n",
       "table.dataframe{font-size:15px;}\n",
       "</style>\n"
      ],
      "text/plain": [
       "<IPython.core.display.HTML object>"
      ]
     },
     "metadata": {},
     "output_type": "display_data"
    }
   ],
   "source": [
    "from IPython.display import display, HTML\n",
    "display(HTML(\"\"\"\n",
    "<style>\n",
    "div.container{width:86% !important;}\n",
    "div.cell.code_cell.rendered{width:100%;}\n",
    "div.CodeMirror {font-family:Consolas; font-size:15pt;}\n",
    "div.output {font-size:15pt; font-weight:bold;}\n",
    "div.input {font-family:Consolas; font-size:15pt;}\n",
    "div.prompt {min-width:70px;}\n",
    "div#toc-wrapper{padding-top:120px;}\n",
    "div.text_cell_render ul li{font-size:12pt;padding:5px;}\n",
    "table.dataframe{font-size:15px;}\n",
    "</style>\n",
    "\"\"\"))"
   ]
  },
  {
   "cell_type": "markdown",
   "id": "ed7c1db0",
   "metadata": {},
   "source": [
    "<font color=\"red\" size=\"5\">ch05 함수</font>\n",
    "- 사용할 코드를 묶어 놓고 그것에 이름을 붙인 것\n",
    "- 오버로딩(함수 이름이 같고, 매개변수의 타입이나 갯수로 다른 함수를 허용하는 것) 불가\n",
    "- 함수 정의\n",
    "```\n",
    "def 함수명([매개변수1, ... , 매개변수n]):\n",
    "    명령어1\n",
    "    명령어2\n",
    "    명령어n\n",
    "```"
   ]
  },
  {
   "cell_type": "markdown",
   "id": "d7fa2509",
   "metadata": {},
   "source": [
    "# 1절. 함수의 정의 및 사용\n",
    "## 1.1 함수 정의"
   ]
  },
  {
   "cell_type": "code",
   "execution_count": 4,
   "id": "23f52475",
   "metadata": {},
   "outputs": [],
   "source": [
    "#함수 정의\n",
    "def my_message(x, msg): #msg를 x번 출력하는 함수\n",
    "    for i in range(x):\n",
    "        print(msg)"
   ]
  },
  {
   "cell_type": "code",
   "execution_count": 6,
   "id": "40b5a9f1",
   "metadata": {},
   "outputs": [
    {
     "name": "stdout",
     "output_type": "stream",
     "text": [
      "hello\n",
      "hello\n",
      "hello\n"
     ]
    }
   ],
   "source": [
    "#함수 사용\n",
    "my_message(3, 'hello')"
   ]
  },
  {
   "cell_type": "code",
   "execution_count": 8,
   "id": "3d46feb7",
   "metadata": {},
   "outputs": [
    {
     "name": "stdout",
     "output_type": "stream",
     "text": [
      "hello\n",
      "hello\n",
      "hello\n"
     ]
    }
   ],
   "source": [
    "my_msg = my_message\n",
    "my_msg(3, 'hello')"
   ]
  },
  {
   "cell_type": "code",
   "execution_count": 9,
   "id": "5176b1ca",
   "metadata": {},
   "outputs": [
    {
     "data": {
      "text/plain": [
       "(function, function)"
      ]
     },
     "execution_count": 9,
     "metadata": {},
     "output_type": "execute_result"
    }
   ],
   "source": [
    "type(my_msg), type(my_message)"
   ]
  },
  {
   "cell_type": "code",
   "execution_count": 10,
   "id": "b3e7bf16",
   "metadata": {},
   "outputs": [
    {
     "name": "stdout",
     "output_type": "stream",
     "text": [
      "Hello\n",
      "Hello\n"
     ]
    }
   ],
   "source": [
    "print('Hello') # 파이썬 내장함수(import하지 않고 사용할 수 있는 함수)\n",
    "print = 5\n",
    "#print('Hello')\n",
    "del print\n",
    "print('Hello')"
   ]
  },
  {
   "cell_type": "code",
   "execution_count": 11,
   "id": "cda5b1d6",
   "metadata": {},
   "outputs": [
    {
     "name": "stdout",
     "output_type": "stream",
     "text": [
      "Hello\n",
      "Hello\n"
     ]
    }
   ],
   "source": [
    "my_message(2, 'Hello')"
   ]
  },
  {
   "cell_type": "code",
   "execution_count": 12,
   "id": "9f968f39",
   "metadata": {},
   "outputs": [],
   "source": [
    "my_message = 5"
   ]
  },
  {
   "cell_type": "code",
   "execution_count": 13,
   "id": "1d9db142",
   "metadata": {},
   "outputs": [
    {
     "ename": "TypeError",
     "evalue": "'int' object is not callable",
     "output_type": "error",
     "traceback": [
      "\u001b[1;31m---------------------------------------------------------------------------\u001b[0m",
      "\u001b[1;31mTypeError\u001b[0m                                 Traceback (most recent call last)",
      "Cell \u001b[1;32mIn[13], line 1\u001b[0m\n\u001b[1;32m----> 1\u001b[0m \u001b[43mmy_message\u001b[49m\u001b[43m(\u001b[49m\u001b[38;5;241;43m2\u001b[39;49m\u001b[43m,\u001b[49m\u001b[43m \u001b[49m\u001b[38;5;124;43m'\u001b[39;49m\u001b[38;5;124;43mHello\u001b[39;49m\u001b[38;5;124;43m'\u001b[39;49m\u001b[43m)\u001b[49m\n",
      "\u001b[1;31mTypeError\u001b[0m: 'int' object is not callable"
     ]
    }
   ],
   "source": [
    "my_message(2, 'Hello')"
   ]
  },
  {
   "cell_type": "code",
   "execution_count": 16,
   "id": "848d3606",
   "metadata": {},
   "outputs": [
    {
     "ename": "NameError",
     "evalue": "name 'my_message' is not defined",
     "output_type": "error",
     "traceback": [
      "\u001b[1;31m---------------------------------------------------------------------------\u001b[0m",
      "\u001b[1;31mNameError\u001b[0m                                 Traceback (most recent call last)",
      "Cell \u001b[1;32mIn[16], line 1\u001b[0m\n\u001b[1;32m----> 1\u001b[0m \u001b[38;5;28;01mdel\u001b[39;00m my_message\n",
      "\u001b[1;31mNameError\u001b[0m: name 'my_message' is not defined"
     ]
    }
   ],
   "source": [
    "del my_message\n",
    "#파이썬 내장함수가 아니면 변수를 삭제해도 함수 사용불가"
   ]
  },
  {
   "cell_type": "code",
   "execution_count": 15,
   "id": "b77d71ed",
   "metadata": {},
   "outputs": [
    {
     "ename": "NameError",
     "evalue": "name 'my_message' is not defined",
     "output_type": "error",
     "traceback": [
      "\u001b[1;31m---------------------------------------------------------------------------\u001b[0m",
      "\u001b[1;31mNameError\u001b[0m                                 Traceback (most recent call last)",
      "Cell \u001b[1;32mIn[15], line 1\u001b[0m\n\u001b[1;32m----> 1\u001b[0m \u001b[43mmy_message\u001b[49m(\u001b[38;5;241m2\u001b[39m, \u001b[38;5;124m'\u001b[39m\u001b[38;5;124mHello\u001b[39m\u001b[38;5;124m'\u001b[39m)\n",
      "\u001b[1;31mNameError\u001b[0m: name 'my_message' is not defined"
     ]
    }
   ],
   "source": [
    "my_message(2, 'Hello')"
   ]
  },
  {
   "cell_type": "code",
   "execution_count": 3,
   "id": "5d44cbf7",
   "metadata": {},
   "outputs": [],
   "source": [
    "#함수 정의: 4월 16일(수)\n",
    "def my_hello():\n",
    "    print('Hello, Python')\n",
    "    print('Hello, World')\n",
    "def my_hello(cnt):\n",
    "    for i in range(cnt):\n",
    "        print('Hello, Python')\n",
    "        print('Hello, World')"
   ]
  },
  {
   "cell_type": "code",
   "execution_count": 18,
   "id": "4c30eba4",
   "metadata": {},
   "outputs": [
    {
     "name": "stdout",
     "output_type": "stream",
     "text": [
      "Hello, Python\n",
      "Hello, World\n"
     ]
    }
   ],
   "source": [
    "my_hello() #함수 호출"
   ]
  },
  {
   "cell_type": "code",
   "execution_count": 4,
   "id": "8ab8cdc0",
   "metadata": {},
   "outputs": [
    {
     "data": {
      "text/plain": [
       "<function __main__.my_hello(cnt)>"
      ]
     },
     "execution_count": 4,
     "metadata": {},
     "output_type": "execute_result"
    }
   ],
   "source": [
    "my_hello"
   ]
  },
  {
   "cell_type": "code",
   "execution_count": 5,
   "id": "d068e245",
   "metadata": {},
   "outputs": [
    {
     "data": {
      "text/plain": [
       "'__main__'"
      ]
     },
     "execution_count": 5,
     "metadata": {},
     "output_type": "execute_result"
    }
   ],
   "source": [
    "__name__"
   ]
  },
  {
   "cell_type": "code",
   "execution_count": 7,
   "id": "b9143cac",
   "metadata": {},
   "outputs": [
    {
     "name": "stdout",
     "output_type": "stream",
     "text": [
      "Hello, Python\n",
      "Hello, World\n",
      "Hello, Python\n",
      "Hello, World\n"
     ]
    }
   ],
   "source": [
    "if __name__ == '__main__':\n",
    "    my_hello(2)"
   ]
  },
  {
   "cell_type": "code",
   "execution_count": 1,
   "id": "678ca394",
   "metadata": {},
   "outputs": [],
   "source": [
    "import ch05 #ch05모듈을 로드"
   ]
  },
  {
   "cell_type": "code",
   "execution_count": 3,
   "id": "67048669",
   "metadata": {},
   "outputs": [
    {
     "name": "stdout",
     "output_type": "stream",
     "text": [
      "Hello, Python\n",
      "Hello, World\n",
      "Hello, Python\n",
      "Hello, World\n"
     ]
    }
   ],
   "source": [
    "ch05.my_hello(2)"
   ]
  },
  {
   "cell_type": "code",
   "execution_count": 4,
   "id": "701c2f88",
   "metadata": {},
   "outputs": [],
   "source": [
    "from ch05 import my_hello #ch05모듈안의 my_hello 로드"
   ]
  },
  {
   "cell_type": "code",
   "execution_count": 6,
   "id": "5318cef6",
   "metadata": {},
   "outputs": [
    {
     "name": "stdout",
     "output_type": "stream",
     "text": [
      "Hello, Python\n",
      "Hello, World\n"
     ]
    }
   ],
   "source": [
    "my_hello(1)"
   ]
  },
  {
   "cell_type": "markdown",
   "id": "4b2f75f3",
   "metadata": {},
   "source": [
    "## 1.2 docstring"
   ]
  },
  {
   "cell_type": "code",
   "execution_count": 9,
   "id": "dde0a578",
   "metadata": {},
   "outputs": [],
   "source": [
    "def my_function():\n",
    "    '''\n",
    "    함수의 첫라인에 독스트링을 포함할 수 있습니다\n",
    "    독스트링은 함수의 설명서를 달아주는 역할\n",
    "    주석보다 많은 기능(shift+tab으로 독스트링을 볼 수 있음)\n",
    "    '''\n",
    "    pass"
   ]
  },
  {
   "cell_type": "code",
   "execution_count": 10,
   "id": "cc379436",
   "metadata": {},
   "outputs": [
    {
     "name": "stdout",
     "output_type": "stream",
     "text": [
      "\n",
      "    함수의 첫라인에 독스트링을 포함할 수 있습니다\n",
      "    독스트링은 함수의 설명서를 달아주는 역할\n",
      "    주석보다 많은 기능(shift+tab으로 독스트링을 볼 수 있음)\n",
      "    \n"
     ]
    }
   ],
   "source": [
    "print(my_function.__doc__)"
   ]
  },
  {
   "cell_type": "code",
   "execution_count": 13,
   "id": "411cc2a7",
   "metadata": {},
   "outputs": [],
   "source": [
    "def fibonacci(n):\n",
    "    a, b = 0, 1\n",
    "    while a < n:\n",
    "        print(a, end = ' ')\n",
    "        a, b = b, a+b\n",
    "    print()#개행"
   ]
  },
  {
   "cell_type": "code",
   "execution_count": 14,
   "id": "4cf3af10",
   "metadata": {},
   "outputs": [
    {
     "name": "stdout",
     "output_type": "stream",
     "text": [
      "0 1 1 2 3 5 8 \n"
     ]
    }
   ],
   "source": [
    "fibonacci(10)"
   ]
  },
  {
   "cell_type": "code",
   "execution_count": 15,
   "id": "8b287752",
   "metadata": {},
   "outputs": [
    {
     "ename": "NameError",
     "evalue": "name 'a' is not defined",
     "output_type": "error",
     "traceback": [
      "\u001b[1;31m---------------------------------------------------------------------------\u001b[0m",
      "\u001b[1;31mNameError\u001b[0m                                 Traceback (most recent call last)",
      "Cell \u001b[1;32mIn[15], line 1\u001b[0m\n\u001b[1;32m----> 1\u001b[0m \u001b[43ma\u001b[49m, b\n",
      "\u001b[1;31mNameError\u001b[0m: name 'a' is not defined"
     ]
    }
   ],
   "source": [
    "a, b"
   ]
  },
  {
   "cell_type": "markdown",
   "id": "6c8fc1e4",
   "metadata": {},
   "source": [
    "## 1.3 지역변수(local var)와 전역변수(global var)"
   ]
  },
  {
   "cell_type": "code",
   "execution_count": 17,
   "id": "52ef3599",
   "metadata": {},
   "outputs": [
    {
     "name": "stdout",
     "output_type": "stream",
     "text": [
      "함수안:  100\n",
      "함수밖:  100\n"
     ]
    }
   ],
   "source": [
    "global_var = 100 #전역변수\n",
    "def func1():\n",
    "    print('함수안: ', global_var)\n",
    "func1()\n",
    "print('함수밖: ', global_var)"
   ]
  },
  {
   "cell_type": "code",
   "execution_count": 19,
   "id": "41770575",
   "metadata": {},
   "outputs": [
    {
     "name": "stdout",
     "output_type": "stream",
     "text": [
      "함수안:  200\n"
     ]
    },
    {
     "ename": "NameError",
     "evalue": "name 'local_var' is not defined",
     "output_type": "error",
     "traceback": [
      "\u001b[1;31m---------------------------------------------------------------------------\u001b[0m",
      "\u001b[1;31mNameError\u001b[0m                                 Traceback (most recent call last)",
      "Cell \u001b[1;32mIn[19], line 5\u001b[0m\n\u001b[0;32m      3\u001b[0m     \u001b[38;5;28mprint\u001b[39m(\u001b[38;5;124m'\u001b[39m\u001b[38;5;124m함수안: \u001b[39m\u001b[38;5;124m'\u001b[39m, local_var)\n\u001b[0;32m      4\u001b[0m func2()\n\u001b[1;32m----> 5\u001b[0m \u001b[38;5;28mprint\u001b[39m(\u001b[38;5;124m'\u001b[39m\u001b[38;5;124m함수밖: \u001b[39m\u001b[38;5;124m'\u001b[39m, \u001b[43mlocal_var\u001b[49m)\n",
      "\u001b[1;31mNameError\u001b[0m: name 'local_var' is not defined"
     ]
    }
   ],
   "source": [
    "def func2():\n",
    "    local_var = 200 #지역변수\n",
    "    print('함수안: ', local_var)\n",
    "func2()\n",
    "print('함수밖: ', local_var)"
   ]
  },
  {
   "cell_type": "code",
   "execution_count": 22,
   "id": "45e7c93a",
   "metadata": {},
   "outputs": [
    {
     "name": "stdout",
     "output_type": "stream",
     "text": [
      "함수안:  200\n",
      "함수밖:  100\n"
     ]
    }
   ],
   "source": [
    "g_var = 100 #전역변수\n",
    "def func3():\n",
    "    g_var = 200 #지역변수\n",
    "    print('함수안(지역변수 g_var): ', g_var)\n",
    "func3()\n",
    "print('함수밖(전역변수 g_var): ', g_var)"
   ]
  },
  {
   "cell_type": "code",
   "execution_count": 24,
   "id": "e5681323",
   "metadata": {},
   "outputs": [
    {
     "ename": "UnboundLocalError",
     "evalue": "local variable 'g_var' referenced before assignment",
     "output_type": "error",
     "traceback": [
      "\u001b[1;31m---------------------------------------------------------------------------\u001b[0m",
      "\u001b[1;31mUnboundLocalError\u001b[0m                         Traceback (most recent call last)",
      "Cell \u001b[1;32mIn[24], line 5\u001b[0m\n\u001b[0;32m      3\u001b[0m     \u001b[38;5;28mprint\u001b[39m(\u001b[38;5;124m'\u001b[39m\u001b[38;5;124m함수 안 g_var: \u001b[39m\u001b[38;5;124m'\u001b[39m, g_var)\n\u001b[0;32m      4\u001b[0m     g_var \u001b[38;5;241m=\u001b[39m \u001b[38;5;241m200\u001b[39m \u001b[38;5;66;03m#지역변수\u001b[39;00m\n\u001b[1;32m----> 5\u001b[0m \u001b[43mfunc4\u001b[49m\u001b[43m(\u001b[49m\u001b[43m)\u001b[49m\n",
      "Cell \u001b[1;32mIn[24], line 3\u001b[0m, in \u001b[0;36mfunc4\u001b[1;34m()\u001b[0m\n\u001b[0;32m      2\u001b[0m \u001b[38;5;28;01mdef\u001b[39;00m \u001b[38;5;21mfunc4\u001b[39m():\n\u001b[1;32m----> 3\u001b[0m     \u001b[38;5;28mprint\u001b[39m(\u001b[38;5;124m'\u001b[39m\u001b[38;5;124m함수 안 g_var: \u001b[39m\u001b[38;5;124m'\u001b[39m, \u001b[43mg_var\u001b[49m)\n\u001b[0;32m      4\u001b[0m     g_var \u001b[38;5;241m=\u001b[39m \u001b[38;5;241m200\u001b[39m\n",
      "\u001b[1;31mUnboundLocalError\u001b[0m: local variable 'g_var' referenced before assignment"
     ]
    }
   ],
   "source": [
    "#랙시컬 특성\n",
    "g_var = 100 #전역변수\n",
    "def func4():\n",
    "    print('함수 안 g_var: ', g_var)\n",
    "    g_var = 200 #지역변수\n",
    "func4()"
   ]
  },
  {
   "cell_type": "code",
   "execution_count": 25,
   "id": "6d5c5bc8",
   "metadata": {},
   "outputs": [
    {
     "name": "stdout",
     "output_type": "stream",
     "text": [
      "함수 안 g_var:  100\n",
      "함수 밖 g_var:  200\n"
     ]
    }
   ],
   "source": [
    "#랙시컬 특성\n",
    "g_var = 100 #전역변수\n",
    "def func4():\n",
    "    global g_var #func4()함수 내의 g_var는 전역변수를 쓴다\n",
    "    print('함수 안 g_var: ', g_var)\n",
    "    g_var = 200 #전역변수\n",
    "func4()\n",
    "print('함수 밖 g_var: ', g_var)"
   ]
  },
  {
   "cell_type": "markdown",
   "id": "6649c522",
   "metadata": {},
   "source": [
    "## 1.4 값에 의한 호출\n",
    "- 함수의 매개변수(인수)로 전달되는 벼수가 스칼라 변수(문자, 숫자, 논리형)일 때"
   ]
  },
  {
   "cell_type": "code",
   "execution_count": 26,
   "id": "1a5da3d5",
   "metadata": {},
   "outputs": [
    {
     "data": {
      "text/plain": [
       "3051244316464"
      ]
     },
     "execution_count": 26,
     "metadata": {},
     "output_type": "execute_result"
    }
   ],
   "source": [
    "foo = 'a' #전역변수\n",
    "id(foo)"
   ]
  },
  {
   "cell_type": "code",
   "execution_count": 32,
   "id": "d702fb2d",
   "metadata": {},
   "outputs": [
    {
     "name": "stdout",
     "output_type": "stream",
     "text": [
      "Before:  a  id(f):  3051244316464\n",
      "After:  aaa  id(f):  3051356097392\n",
      "a\n"
     ]
    }
   ],
   "source": [
    "def func1(f): #매개변수 f는 지역변수\n",
    "    print('Before: ', f, ' id(f): ', id(f))\n",
    "    f = f*3\n",
    "    print('After: ', f, ' id(f): ', id(f))\n",
    "func1(foo)\n",
    "print(foo)"
   ]
  },
  {
   "cell_type": "markdown",
   "id": "07f53784",
   "metadata": {},
   "source": [
    "## 1.5 참조에 의한 호출\n",
    "- 한수의 매개변수(인자)로 전달되는 변수가 리스트, 튜플, 셋, 딕셔너리, 객체일 경우"
   ]
  },
  {
   "cell_type": "code",
   "execution_count": 29,
   "id": "2e68cbbc",
   "metadata": {},
   "outputs": [
    {
     "data": {
      "text/plain": [
       "3051356172032"
      ]
     },
     "execution_count": 29,
     "metadata": {},
     "output_type": "execute_result"
    }
   ],
   "source": [
    "L = [1, 2, 3]\n",
    "id(L)"
   ]
  },
  {
   "cell_type": "code",
   "execution_count": 33,
   "id": "cfbedd42",
   "metadata": {},
   "outputs": [
    {
     "name": "stdout",
     "output_type": "stream",
     "text": [
      "Before:  [1, 2, 3, 4] 3051356172032\n",
      "After:  [1, 2, 3, 4, 4] 3051356172032\n"
     ]
    }
   ],
   "source": [
    "def func2(f): #매개변수 f는 지역변수\n",
    "    print('Before: ', f, id(f))\n",
    "    f.append(4)\n",
    "    print('After: ', f, id(f))\n",
    "func2(L)"
   ]
  },
  {
   "cell_type": "code",
   "execution_count": 35,
   "id": "9eab5623",
   "metadata": {},
   "outputs": [
    {
     "name": "stdout",
     "output_type": "stream",
     "text": [
      "L = [1, 2, 3, 4, 4] 3051356172032\n"
     ]
    }
   ],
   "source": [
    "print('L =', L, id(L))"
   ]
  },
  {
   "cell_type": "markdown",
   "id": "91bf33eb",
   "metadata": {},
   "source": [
    "# 2. 함수의 실행결과를 반환하는 return"
   ]
  },
  {
   "cell_type": "code",
   "execution_count": 36,
   "id": "0ab618ae",
   "metadata": {},
   "outputs": [],
   "source": [
    "def add(x, y):\n",
    "    return x + y"
   ]
  },
  {
   "cell_type": "code",
   "execution_count": 41,
   "id": "5bc05165",
   "metadata": {},
   "outputs": [
    {
     "data": {
      "text/plain": [
       "5"
      ]
     },
     "execution_count": 41,
     "metadata": {},
     "output_type": "execute_result"
    }
   ],
   "source": [
    "i = 2;j = 3\n",
    "add(i, j)"
   ]
  },
  {
   "cell_type": "code",
   "execution_count": 42,
   "id": "94c8c3c2",
   "metadata": {},
   "outputs": [],
   "source": [
    "def add():\n",
    "    return True"
   ]
  },
  {
   "cell_type": "code",
   "execution_count": 43,
   "id": "a025514f",
   "metadata": {},
   "outputs": [
    {
     "data": {
      "text/plain": [
       "True"
      ]
     },
     "execution_count": 43,
     "metadata": {},
     "output_type": "execute_result"
    }
   ],
   "source": [
    "add()"
   ]
  },
  {
   "cell_type": "code",
   "execution_count": 44,
   "id": "eb05652b",
   "metadata": {},
   "outputs": [],
   "source": [
    "def add(a):\n",
    "    pass"
   ]
  },
  {
   "cell_type": "code",
   "execution_count": 46,
   "id": "e038a61f",
   "metadata": {},
   "outputs": [
    {
     "name": "stdout",
     "output_type": "stream",
     "text": [
      "None\n"
     ]
    }
   ],
   "source": [
    "print(add(10))"
   ]
  },
  {
   "cell_type": "code",
   "execution_count": 52,
   "id": "dc25397d",
   "metadata": {},
   "outputs": [],
   "source": [
    "def fibonacci_print(n):\n",
    "    '''\n",
    "    매개변수로 들어온 n값 미만의 피보나치 수열을 출력\n",
    "    ex. n = 10이면 0 1 1 2 3 5 8을 출력\n",
    "    '''\n",
    "    a, b = 0, 1\n",
    "    while a < n:\n",
    "        print(a, end = ' ')\n",
    "        a, b = b, a+b\n",
    "    print()#개행\n",
    "    "
   ]
  },
  {
   "cell_type": "code",
   "execution_count": 59,
   "id": "671b51b9",
   "metadata": {},
   "outputs": [
    {
     "name": "stdout",
     "output_type": "stream",
     "text": [
      "0 1 1 2 3 5 8 13 21 34 55 89 \n",
      "None\n"
     ]
    }
   ],
   "source": [
    "x = fibonacci_print(100)\n",
    "print(x)"
   ]
  },
  {
   "cell_type": "code",
   "execution_count": 6,
   "id": "ffdcb067",
   "metadata": {},
   "outputs": [],
   "source": [
    "def fibonacci_return(n):\n",
    "    '''\n",
    "    매개변수로 들어온 n값 미만의 피보나치 수열을 리스트로 return\n",
    "    ex. n = 10이면 [0 1 1 2 3 5 8]을 return\n",
    "    '''\n",
    "    result = []\n",
    "    a, b = 0, 1\n",
    "    while a < n:\n",
    "        result.append(a)\n",
    "        a, b = b, a+b\n",
    "    return result"
   ]
  },
  {
   "cell_type": "code",
   "execution_count": 7,
   "id": "1d55755c",
   "metadata": {},
   "outputs": [
    {
     "name": "stdout",
     "output_type": "stream",
     "text": [
      "[0, 1, 1, 2, 3, 5, 8, 13, 21, 34, 55, 89]\n",
      "<class 'list'>\n"
     ]
    }
   ],
   "source": [
    "x = fibonacci_return(100)\n",
    "print(x)\n",
    "print(type(x))"
   ]
  },
  {
   "cell_type": "markdown",
   "id": "e86387d1",
   "metadata": {},
   "source": [
    "## 여러개 값 return"
   ]
  },
  {
   "cell_type": "code",
   "execution_count": 60,
   "id": "6f727c69",
   "metadata": {},
   "outputs": [],
   "source": [
    "def swap(a, b):\n",
    "    '매개변수의 순서를 바꿔서 return하는 함수'\n",
    "    return b, a"
   ]
  },
  {
   "cell_type": "code",
   "execution_count": 62,
   "id": "45c343de",
   "metadata": {},
   "outputs": [
    {
     "name": "stdout",
     "output_type": "stream",
     "text": [
      "함수 실행 전 x = 5, y = 10\n",
      "함수 실행 후 x = 10, y = 5\n"
     ]
    }
   ],
   "source": [
    "x, y = 5, 10\n",
    "print(f'함수 실행 전 x = {x}, y = {y}')\n",
    "x, y = swap(x, y)\n",
    "print(f'함수 실행 후 x = {x}, y = {y}')"
   ]
  },
  {
   "cell_type": "markdown",
   "id": "38557652",
   "metadata": {},
   "source": [
    "# 3절. 함수의 매개변수★\n",
    "## 3.1 기본값을 갖는 매개변수"
   ]
  },
  {
   "cell_type": "code",
   "execution_count": 72,
   "id": "1634ddf4",
   "metadata": {},
   "outputs": [],
   "source": [
    "def make_url(ip, port = 80): #순서인수>기본값을 값는 매개변수\n",
    "    return \"http://{}:{}\".format(ip, port)"
   ]
  },
  {
   "cell_type": "code",
   "execution_count": 75,
   "id": "94a83b0a",
   "metadata": {},
   "outputs": [
    {
     "name": "stdout",
     "output_type": "stream",
     "text": [
      "http://www.naver.com:80\n",
      "http://localhost:8090\n",
      "http://localhost:8090\n"
     ]
    }
   ],
   "source": [
    "print(make_url('www.naver.com'))\n",
    "print(make_url('localhost', 8090))\n",
    "print(make_url(port = 8090, ip = 'localhost'))"
   ]
  },
  {
   "cell_type": "markdown",
   "id": "00a4f570",
   "metadata": {},
   "source": [
    "## 3.2 기본변수를 갖는 매개변수\n",
    "- 기본변수가 스칼라 변수일 때\n",
    "- 기본변수가 리스트, 셋, 딕셔너리 등의 객체일 때"
   ]
  },
  {
   "cell_type": "code",
   "execution_count": 8,
   "id": "3b32682c",
   "metadata": {},
   "outputs": [],
   "source": [
    "i = 5\n",
    "#기본값을 갖는 변수가 스칼라 변수일 때 : arg의 기본값은 함수가 정의되는 시점의 값\n",
    "def func2(arg = i):\n",
    "    print('arg = ', arg)"
   ]
  },
  {
   "cell_type": "code",
   "execution_count": 9,
   "id": "b5c503af",
   "metadata": {},
   "outputs": [
    {
     "name": "stdout",
     "output_type": "stream",
     "text": [
      "arg =  5\n"
     ]
    }
   ],
   "source": [
    "i = 50\n",
    "func2()"
   ]
  },
  {
   "cell_type": "code",
   "execution_count": 1,
   "id": "356fb4bf",
   "metadata": {},
   "outputs": [],
   "source": [
    "list_ = []\n",
    "#기본값을 갖는 변수가 객체(데이터구조)일 때 : arg의 기본값은 실행되는 시점\n",
    "def func3(data, L=list_):\n",
    "    'data를 L에 append'\n",
    "    L.append(data)\n",
    "    return L"
   ]
  },
  {
   "cell_type": "code",
   "execution_count": 2,
   "id": "f4ada2ce",
   "metadata": {},
   "outputs": [
    {
     "name": "stdout",
     "output_type": "stream",
     "text": [
      "[10]\n"
     ]
    }
   ],
   "source": [
    "print(func3(10)) #list가 수정"
   ]
  },
  {
   "cell_type": "code",
   "execution_count": 3,
   "id": "fa5024df",
   "metadata": {},
   "outputs": [
    {
     "name": "stdout",
     "output_type": "stream",
     "text": [
      "[10, 20]\n"
     ]
    }
   ],
   "source": [
    "print(func3(20))"
   ]
  },
  {
   "cell_type": "code",
   "execution_count": 4,
   "id": "1d70a162",
   "metadata": {},
   "outputs": [
    {
     "data": {
      "text/plain": [
       "[10, 20]"
      ]
     },
     "execution_count": 4,
     "metadata": {},
     "output_type": "execute_result"
    }
   ],
   "source": [
    "list_"
   ]
  },
  {
   "cell_type": "code",
   "execution_count": 7,
   "id": "277b647d",
   "metadata": {},
   "outputs": [],
   "source": [
    "def func4(data, L = None):\n",
    "    if L == None: \n",
    "        L = []\n",
    "    L.append(data)\n",
    "    return L"
   ]
  },
  {
   "cell_type": "code",
   "execution_count": 9,
   "id": "c522b95d",
   "metadata": {},
   "outputs": [
    {
     "name": "stdout",
     "output_type": "stream",
     "text": [
      "[10]\n",
      "[10, 20, 10]\n"
     ]
    }
   ],
   "source": [
    "print(func4(10))\n",
    "print(func4(10, list_))"
   ]
  },
  {
   "cell_type": "markdown",
   "id": "d18d480b",
   "metadata": {},
   "source": [
    "## 3.3 튜플 매개변수를 이용한 가변인수 설정"
   ]
  },
  {
   "cell_type": "code",
   "execution_count": 11,
   "id": "adb6f16b",
   "metadata": {},
   "outputs": [],
   "source": [
    "# 파이썬은 오버로딩 불가\n",
    "def add(a,b):\n",
    "    return a+b\n",
    "def add(a,b,c):\n",
    "    return a+b+c"
   ]
  },
  {
   "cell_type": "code",
   "execution_count": 12,
   "id": "d48a86f8",
   "metadata": {},
   "outputs": [
    {
     "ename": "TypeError",
     "evalue": "add() takes 3 positional arguments but 4 were given",
     "output_type": "error",
     "traceback": [
      "\u001b[1;31m---------------------------------------------------------------------------\u001b[0m",
      "\u001b[1;31mTypeError\u001b[0m                                 Traceback (most recent call last)",
      "Cell \u001b[1;32mIn[12], line 1\u001b[0m\n\u001b[1;32m----> 1\u001b[0m \u001b[43madd\u001b[49m\u001b[43m(\u001b[49m\u001b[38;5;241;43m1\u001b[39;49m\u001b[43m,\u001b[49m\u001b[38;5;241;43m2\u001b[39;49m\u001b[43m,\u001b[49m\u001b[38;5;241;43m3\u001b[39;49m\u001b[43m,\u001b[49m\u001b[38;5;241;43m4\u001b[39;49m\u001b[43m)\u001b[49m\n",
      "\u001b[1;31mTypeError\u001b[0m: add() takes 3 positional arguments but 4 were given"
     ]
    }
   ],
   "source": [
    "add(1,2,3,4)"
   ]
  },
  {
   "cell_type": "code",
   "execution_count": 16,
   "id": "2e9aa7ff",
   "metadata": {},
   "outputs": [],
   "source": [
    "#*args: 매개변수들을 하나의 튜플변수args로 전달받음\n",
    "def add(*args):\n",
    "    '전달받은 매개변수들의 합을 return'\n",
    "    #print('args =',args)\n",
    "    result_tot = 0 #누적변수\n",
    "    for data in args:\n",
    "        result_tot += data\n",
    "    return result_tot"
   ]
  },
  {
   "cell_type": "code",
   "execution_count": 19,
   "id": "fcc03628",
   "metadata": {},
   "outputs": [
    {
     "name": "stdout",
     "output_type": "stream",
     "text": [
      "3\n",
      "6\n",
      "10\n",
      "15\n"
     ]
    }
   ],
   "source": [
    "print(add(1,2))\n",
    "print(add(1,2,3))\n",
    "print(add(1,2,3,4))\n",
    "print(add(1,2,3,4,5))"
   ]
  },
  {
   "cell_type": "code",
   "execution_count": null,
   "id": "79104125",
   "metadata": {},
   "outputs": [],
   "source": [
    "subject = ('Python', 'Oracle', 'DL', 'ML')\n",
    "'/'.join(subject)"
   ]
  },
  {
   "cell_type": "code",
   "execution_count": 20,
   "id": "3a759e59",
   "metadata": {},
   "outputs": [],
   "source": [
    "def concat(*subject, sep):\n",
    "    return sep.join(subject)"
   ]
  },
  {
   "cell_type": "code",
   "execution_count": 23,
   "id": "5c5af66b",
   "metadata": {},
   "outputs": [
    {
     "data": {
      "text/plain": [
       "'Python/Oracle/DL/ML'"
      ]
     },
     "execution_count": 23,
     "metadata": {},
     "output_type": "execute_result"
    }
   ],
   "source": [
    "concat('Python', 'Oracle', 'DL', 'ML', '/')"
   ]
  },
  {
   "cell_type": "code",
   "execution_count": 24,
   "id": "df8d9757",
   "metadata": {},
   "outputs": [
    {
     "data": {
      "text/plain": [
       "'Python/Oracle/DL/ML'"
      ]
     },
     "execution_count": 24,
     "metadata": {},
     "output_type": "execute_result"
    }
   ],
   "source": [
    "#해결책1 : 매개변수 이름을 지정해서 호출\n",
    "concat('Python', 'Oracle', 'DL', 'ML', sep = '/')"
   ]
  },
  {
   "cell_type": "code",
   "execution_count": null,
   "id": "339d32f8",
   "metadata": {},
   "outputs": [],
   "source": [
    "#해결책2 : 기본값을 반드시 갖는 키워드인수 사용\n",
    "def concat(*subject, sep=' ~ '):\n",
    "    return sep.join(subject)"
   ]
  },
  {
   "cell_type": "code",
   "execution_count": 25,
   "id": "8e259b7b",
   "metadata": {},
   "outputs": [
    {
     "data": {
      "text/plain": [
       "'Python/Oracle/DL/ML'"
      ]
     },
     "execution_count": 25,
     "metadata": {},
     "output_type": "execute_result"
    }
   ],
   "source": [
    "concat('Python', 'Oracle', 'DL', 'ML', sep = '/')"
   ]
  },
  {
   "cell_type": "code",
   "execution_count": 26,
   "id": "2ae1c10a",
   "metadata": {},
   "outputs": [
    {
     "name": "stdout",
     "output_type": "stream",
     "text": [
      "Python/Oracle/DL/ML\n"
     ]
    }
   ],
   "source": [
    "print('Python', 'Oracle', 'DL', 'ML', sep = '/')"
   ]
  },
  {
   "cell_type": "code",
   "execution_count": 30,
   "id": "7786692d",
   "metadata": {},
   "outputs": [],
   "source": [
    "#해결책3 : sep을 순서인수로 앞에 선언\n",
    "def concat(sep, *subject):\n",
    "    return sep.join(subject)"
   ]
  },
  {
   "cell_type": "code",
   "execution_count": 32,
   "id": "8738ee3f",
   "metadata": {},
   "outputs": [
    {
     "data": {
      "text/plain": [
       "'Python/Oracle/DL/ML'"
      ]
     },
     "execution_count": 32,
     "metadata": {},
     "output_type": "execute_result"
    }
   ],
   "source": [
    "concat('/', 'Python', 'Oracle', 'DL', 'ML')"
   ]
  },
  {
   "cell_type": "markdown",
   "id": "6e81d805",
   "metadata": {},
   "source": [
    "## 3.4 딕셔너리 매개변수\n",
    "- 여러개의 키워드인수를 딕셔너리 형태로 받아서 가변키워드 인수 처리"
   ]
  },
  {
   "cell_type": "code",
   "execution_count": 42,
   "id": "92aeeba0",
   "metadata": {},
   "outputs": [],
   "source": [
    "def func5(**kwargs):\n",
    "    #print(kwargs)\n",
    "    print(type(kwargs))\n",
    "    print('이름: ', kwargs.get('name', '대마왕'))\n",
    "    print('나이: ', kwargs.get('age', 30))\n",
    "    print('주소: ', kwargs.get('address', '서울'))"
   ]
  },
  {
   "cell_type": "code",
   "execution_count": 44,
   "id": "0f52b9ab",
   "metadata": {},
   "outputs": [
    {
     "name": "stdout",
     "output_type": "stream",
     "text": [
      "<class 'dict'>\n",
      "이름:  홍길동\n",
      "나이:  30\n",
      "주소:  신림동\n"
     ]
    }
   ],
   "source": [
    "func5(name = '홍길동', age = 30, address = '신림동')"
   ]
  },
  {
   "cell_type": "code",
   "execution_count": 45,
   "id": "6dd07430",
   "metadata": {},
   "outputs": [
    {
     "name": "stdout",
     "output_type": "stream",
     "text": [
      "<class 'dict'>\n",
      "이름:  김길동\n",
      "나이:  30\n",
      "주소:  서울\n"
     ]
    }
   ],
   "source": [
    "func5(name = '김길동')"
   ]
  },
  {
   "cell_type": "markdown",
   "id": "b825da21",
   "metadata": {},
   "source": [
    "## 3.5 함수정의시 매개변수 순서\n",
    "- 순서인수 > 튜플매개변수(*) > 키워드인수(매개변수이름명시) > 딕셔너리매개변수(**)"
   ]
  },
  {
   "cell_type": "code",
   "execution_count": 46,
   "id": "7a0eee16",
   "metadata": {},
   "outputs": [],
   "source": [
    "def func6(a, b, *c, **d):\n",
    "    print('순서인수 a : ', a)\n",
    "    print('순서인수 b : ', b)\n",
    "    print('튜플인수 c : ', c)\n",
    "    print('딕셔너리 인수 d : ', d)"
   ]
  },
  {
   "cell_type": "code",
   "execution_count": 47,
   "id": "b6abfee9",
   "metadata": {},
   "outputs": [
    {
     "name": "stdout",
     "output_type": "stream",
     "text": [
      "순서인수 a :  10\n",
      "순서인수 b :  20\n",
      "튜플인수 c :  (1, 2, 3, 4, 5, 6, 7, 8, 9)\n",
      "딕션리 인수 d :  {'name': '홍길동', 'age': 30, 'address': '서울'}\n"
     ]
    }
   ],
   "source": [
    "func6(10, 20, 1, 2, 3, 4, 5, 6, 7, 8, 9, name = '홍길동', age = 30, address = '서울')"
   ]
  },
  {
   "cell_type": "code",
   "execution_count": 48,
   "id": "c395ed98",
   "metadata": {},
   "outputs": [],
   "source": [
    "def func7(a, b, *c, d='기본값', **e):\n",
    "    print('순서인수 a : ', a)\n",
    "    print('순서인수 b : ', b)\n",
    "    print('튜플인수 c : ', c)\n",
    "    print('키워드인수(기본값을 갖는 인수, 호출시 매개변수이름 반드시 명시) d : ', d)\n",
    "    print('딕셔너리인수 e : ', e)"
   ]
  },
  {
   "cell_type": "code",
   "execution_count": 49,
   "id": "b467dc3d",
   "metadata": {},
   "outputs": [
    {
     "name": "stdout",
     "output_type": "stream",
     "text": [
      "순서인수 a :  10\n",
      "순서인수 b :  20\n",
      "튜플인수 c :  (1, 2, 3)\n",
      "키워드인수(기본값을 갖는 인수, 호출시 매개변수이름 반드시 명시) d :  딴거\n",
      "딕셔너리인수 e :  {'fontsize': 12, 'fontfamily': 'consola'}\n"
     ]
    }
   ],
   "source": [
    "func7(10, 20, 1, 2, 3, d='딴거', fontsize = 12, fontfamily='consola')"
   ]
  },
  {
   "cell_type": "code",
   "execution_count": 50,
   "id": "609a0e3c",
   "metadata": {},
   "outputs": [
    {
     "name": "stdout",
     "output_type": "stream",
     "text": [
      "순서인수 a :  10\n",
      "순서인수 b :  20\n",
      "튜플인수 c :  (1, 2, 3, '딴거')\n",
      "키워드인수(기본값을 갖는 인수, 호출시 매개변수이름 반드시 명시) d :  기본값\n",
      "딕셔너리인수 e :  {'fontsize': 12, 'fontfamily': 'consola'}\n"
     ]
    }
   ],
   "source": [
    "func7(10, 20, 1, 2, 3, '딴거', fontsize = 12, fontfamily='consola')"
   ]
  },
  {
   "cell_type": "markdown",
   "id": "68518ba0",
   "metadata": {},
   "source": [
    "# 3.6 인수의 언패킹\n",
    "### 튜플인수 언패킹\n",
    "- 언패킹: 함수 호출시 매개변수앞에 *붙임\n",
    "- 패킹: 함수 정의시 매개변수앞에 *붙임"
   ]
  },
  {
   "cell_type": "code",
   "execution_count": 53,
   "id": "2f9ca44d",
   "metadata": {},
   "outputs": [],
   "source": [
    "def add(*args):\n",
    "    print(args)\n",
    "    tot = 0\n",
    "    for num in args:\n",
    "        tot += num\n",
    "    return tot"
   ]
  },
  {
   "cell_type": "code",
   "execution_count": 54,
   "id": "d60b6785",
   "metadata": {},
   "outputs": [
    {
     "name": "stdout",
     "output_type": "stream",
     "text": [
      "(1, 2, 3, 4)\n"
     ]
    },
    {
     "data": {
      "text/plain": [
       "10"
      ]
     },
     "execution_count": 54,
     "metadata": {},
     "output_type": "execute_result"
    }
   ],
   "source": [
    "add(1, 2, 3, 4)"
   ]
  },
  {
   "cell_type": "code",
   "execution_count": 56,
   "id": "6c9d769e",
   "metadata": {},
   "outputs": [
    {
     "name": "stdout",
     "output_type": "stream",
     "text": [
      "(1, 2, 3, 4)\n"
     ]
    },
    {
     "data": {
      "text/plain": [
       "10"
      ]
     },
     "execution_count": 56,
     "metadata": {},
     "output_type": "execute_result"
    }
   ],
   "source": [
    "numbers = [1, 2, 3, 4]\n",
    "add(*numbers) #언패킹"
   ]
  },
  {
   "cell_type": "code",
   "execution_count": 57,
   "id": "dbe7a355",
   "metadata": {},
   "outputs": [
    {
     "name": "stdout",
     "output_type": "stream",
     "text": [
      "(1, 2, 3, 4)\n"
     ]
    },
    {
     "data": {
      "text/plain": [
       "10"
      ]
     },
     "execution_count": 57,
     "metadata": {},
     "output_type": "execute_result"
    }
   ],
   "source": [
    "numbers = (1, 2, 3, 4)\n",
    "add(*numbers) #언패킹"
   ]
  },
  {
   "cell_type": "markdown",
   "id": "9cbf3f92",
   "metadata": {},
   "source": [
    "### 딕셔너리인수 언패킹\n",
    "- 언패킹: 함수 호출시 매개변수앞에 **붙임\n",
    "- 패킹: 함수 정의시 매개변수앞에 **붙임"
   ]
  },
  {
   "cell_type": "code",
   "execution_count": 64,
   "id": "04923243",
   "metadata": {},
   "outputs": [],
   "source": [
    "def func5(**data):\n",
    "    print(type(data))\n",
    "    for key, item in data.items():\n",
    "        print(f'{key}:{item}')"
   ]
  },
  {
   "cell_type": "code",
   "execution_count": 65,
   "id": "f2fae196",
   "metadata": {},
   "outputs": [
    {
     "name": "stdout",
     "output_type": "stream",
     "text": [
      "<class 'dict'>\n",
      "name:홍길동\n",
      "age:30\n",
      "address:신림\n"
     ]
    }
   ],
   "source": [
    "func5(name = '홍길동', age = 30, address = '신림')"
   ]
  },
  {
   "cell_type": "code",
   "execution_count": 66,
   "id": "5b331722",
   "metadata": {},
   "outputs": [
    {
     "name": "stdout",
     "output_type": "stream",
     "text": [
      "<class 'dict'>\n",
      "name:홍길동\n",
      "age:30\n",
      "address:서울시 강남구\n",
      "score:900\n"
     ]
    }
   ],
   "source": [
    "customInfo = {'name':'홍길동', 'age':30, 'address': '서울시 강남구', 'score':900}\n",
    "func5(**customInfo)"
   ]
  },
  {
   "cell_type": "markdown",
   "id": "69c06e07",
   "metadata": {},
   "source": [
    "# 4절. 람다식\n",
    "- return 한줄짜리 작은 익명함수\n",
    "## 4.1 람다식 연습"
   ]
  },
  {
   "cell_type": "code",
   "execution_count": 68,
   "id": "da40bb23",
   "metadata": {},
   "outputs": [
    {
     "data": {
      "text/plain": [
       "7"
      ]
     },
     "execution_count": 68,
     "metadata": {},
     "output_type": "execute_result"
    }
   ],
   "source": [
    "def add(a,b):\n",
    "    return a+b\n",
    "add(3,4)"
   ]
  },
  {
   "cell_type": "code",
   "execution_count": 69,
   "id": "4807be7a",
   "metadata": {},
   "outputs": [
    {
     "data": {
      "text/plain": [
       "7"
      ]
     },
     "execution_count": 69,
     "metadata": {},
     "output_type": "execute_result"
    }
   ],
   "source": [
    "add2 = lambda a, b : a+b\n",
    "add2(3,4)"
   ]
  },
  {
   "cell_type": "code",
   "execution_count": 70,
   "id": "b5a3eb37",
   "metadata": {},
   "outputs": [
    {
     "data": {
      "text/plain": [
       "(function, function)"
      ]
     },
     "execution_count": 70,
     "metadata": {},
     "output_type": "execute_result"
    }
   ],
   "source": [
    "type(add), type(add2)"
   ]
  },
  {
   "cell_type": "code",
   "execution_count": 71,
   "id": "cd5e8321",
   "metadata": {},
   "outputs": [
    {
     "data": {
      "text/plain": [
       "7"
      ]
     },
     "execution_count": 71,
     "metadata": {},
     "output_type": "execute_result"
    }
   ],
   "source": [
    "(lambda a, b : a+b)(3,4)"
   ]
  },
  {
   "cell_type": "code",
   "execution_count": 80,
   "id": "bf256a6f",
   "metadata": {},
   "outputs": [
    {
     "data": {
      "text/plain": [
       "('짝수', '홀수')"
      ]
     },
     "execution_count": 80,
     "metadata": {},
     "output_type": "execute_result"
    }
   ],
   "source": [
    "#ex1. 매개변수로 들어온 값이 짝수인지 홀수인지 return\n",
    "def ex1(num):\n",
    "#     if num%2:\n",
    "#         result = '홀수'\n",
    "#     else:\n",
    "#         result = '짝수'\n",
    "    return '홀수' if num%2 else '짝수'\n",
    "ex1 = lambda num : '홀수' if num%2 else '짝수'\n",
    "ex1(10), ex1(-9)"
   ]
  },
  {
   "cell_type": "code",
   "execution_count": 81,
   "id": "67c1bca1",
   "metadata": {},
   "outputs": [
    {
     "data": {
      "text/plain": [
       "(5, 6)"
      ]
     },
     "execution_count": 81,
     "metadata": {},
     "output_type": "execute_result"
    }
   ],
   "source": [
    "#ex2. 두 매개변수의 차이를 return\n",
    "ex2 = lambda a,b : a-b if a>b else b-a\n",
    "ex2(10, 5), ex2(2, 8)"
   ]
  },
  {
   "cell_type": "code",
   "execution_count": 96,
   "id": "fca5b2e5",
   "metadata": {},
   "outputs": [
    {
     "data": {
      "text/plain": [
       "(1000, 'negative', 'negative')"
      ]
     },
     "execution_count": 96,
     "metadata": {},
     "output_type": "execute_result"
    }
   ],
   "source": [
    "#ex3. 매개변수로 잔액을 받아 잔액이 양수면 잔액을 return, 음수면 'negative'\n",
    "ex3 = lambda bal : bal if bal>0 else 'negative'\n",
    "ex3(1000), ex3(0), ex3(-5)"
   ]
  },
  {
   "cell_type": "code",
   "execution_count": 100,
   "id": "23b7eb18",
   "metadata": {},
   "outputs": [
    {
     "data": {
      "text/plain": [
       "('재시험', 'A팀', 'B팀')"
      ]
     },
     "execution_count": 100,
     "metadata": {},
     "output_type": "execute_result"
    }
   ],
   "source": [
    "#ex4. 점수를 입력받아 점수가 80점 이상은 A팀, 60점 이상은 B팀, 60점 미만은 재시험. 그외는 유효하지 않음\n",
    "ex4 = lambda point : 'A팀' if 100>=point>=80 else \\\n",
    "                     'B팀' if 80>point>=60 else \\\n",
    "                     '재시험' if 0<=point<60 else \\\n",
    "                     '유효하지 않음'\n",
    "ex4(40), ex4(90), ex4(70)"
   ]
  },
  {
   "cell_type": "code",
   "execution_count": 102,
   "id": "dd81e58b",
   "metadata": {},
   "outputs": [],
   "source": [
    "#ex5. safe_index를 람다식으로 표현\n",
    "def safe_index(vector, data):\n",
    "    if data in vector:\n",
    "        return vector.index(data)\n",
    "    else:\n",
    "        return -1"
   ]
  },
  {
   "cell_type": "code",
   "execution_count": 103,
   "id": "9cbfcc42",
   "metadata": {},
   "outputs": [
    {
     "data": {
      "text/plain": [
       "(-1, 1)"
      ]
     },
     "execution_count": 103,
     "metadata": {},
     "output_type": "execute_result"
    }
   ],
   "source": [
    "ex5 = lambda vector, data : vector.index(data) if data in vector else -1\n",
    "tup = (1,2,3)\n",
    "ex5(tup,4), ex5(tup,2)"
   ]
  },
  {
   "cell_type": "markdown",
   "id": "bb21a51b",
   "metadata": {},
   "source": [
    "## 4.2 함수의 매개변수에 람다식 이용\n",
    "### (1) map"
   ]
  },
  {
   "cell_type": "code",
   "execution_count": 16,
   "id": "af0f867e",
   "metadata": {},
   "outputs": [],
   "source": [
    "def map_template(func, L = []):\n",
    "    '''\n",
    "    L의 모든 요소를 func()함수를 적용시켜 return\n",
    "    [2, 4, 6]\n",
    "    '''\n",
    "#     result = []\n",
    "#     for l in L:\n",
    "#         result.append(func(l))\n",
    "#     return result\n",
    "    return [func(l) for l in L]"
   ]
  },
  {
   "cell_type": "code",
   "execution_count": 17,
   "id": "d64b73fd",
   "metadata": {},
   "outputs": [
    {
     "data": {
      "text/plain": [
       "[2, 4, 6, 8, 10, 12, 14, 16, 18, 20]"
      ]
     },
     "execution_count": 17,
     "metadata": {},
     "output_type": "execute_result"
    }
   ],
   "source": [
    "# 리스트 데이터를 가공하는 방법 1. map\n",
    "list_data = [1, 2, 3, 4, 5, 6, 7, 8, 9, 10]\n",
    "map_template(lambda x : x*2, list_data)\n",
    "# def x_2(x):\n",
    "#     return x*2\n",
    "# map_template(x_2, list_data)"
   ]
  },
  {
   "cell_type": "code",
   "execution_count": 4,
   "id": "ebf8b189",
   "metadata": {},
   "outputs": [
    {
     "data": {
      "text/plain": [
       "[2, 4, 6, 8, 10, 12, 14, 16, 18, 20]"
      ]
     },
     "execution_count": 4,
     "metadata": {},
     "output_type": "execute_result"
    }
   ],
   "source": [
    "# 리스트 데이터를 가공하는 방법 2. 리스트 컴프리핸션\n",
    "[l*2 for l in list_data]"
   ]
  },
  {
   "cell_type": "code",
   "execution_count": 6,
   "id": "f38ba2c5",
   "metadata": {},
   "outputs": [
    {
     "data": {
      "text/plain": [
       "[2, 4, 6, 8, 10, 12, 14, 16, 18, 20]"
      ]
     },
     "execution_count": 6,
     "metadata": {},
     "output_type": "execute_result"
    }
   ],
   "source": [
    "# 리스트 데이터를 가공하는 방법 3. map():파이썬 내장함수\n",
    "list(map(lambda x : x*2, list_data))"
   ]
  },
  {
   "cell_type": "code",
   "execution_count": 8,
   "id": "60df6a17",
   "metadata": {},
   "outputs": [
    {
     "name": "stdout",
     "output_type": "stream",
     "text": [
      "2 4 6 8 10 12 14 16 18 20 "
     ]
    }
   ],
   "source": [
    "for item in map(lambda x : x*2, list_data):\n",
    "    print(item, end = ' ')"
   ]
  },
  {
   "cell_type": "code",
   "execution_count": 10,
   "id": "880b3c02",
   "metadata": {},
   "outputs": [],
   "source": [
    "'''\n",
    "예제1.  [5000, 800, 1000, 6000]로 바꾸시오\n",
    "'''\n",
    "prices = ['5,000', '800', '1000', '6,000']"
   ]
  },
  {
   "cell_type": "code",
   "execution_count": null,
   "id": "2fd7b51b",
   "metadata": {},
   "outputs": [],
   "source": [
    "def func(x):\n",
    "    return int(x.replace(',',''))"
   ]
  },
  {
   "cell_type": "code",
   "execution_count": 23,
   "id": "97f85455",
   "metadata": {},
   "outputs": [
    {
     "data": {
      "text/plain": [
       "[5000, 800, 1000, 6000]"
      ]
     },
     "execution_count": 23,
     "metadata": {},
     "output_type": "execute_result"
    }
   ],
   "source": [
    "list(map(lambda x: int(x.replace(',','')), prices))"
   ]
  },
  {
   "cell_type": "code",
   "execution_count": 54,
   "id": "f60434a7",
   "metadata": {},
   "outputs": [],
   "source": [
    "'''\n",
    "예제2. member1 = [{'name':'홍길동', 'birth':'2000-01-01'},\n",
    "                  {'name':'신길동', 'birth':'1998-12-31'}]를\n",
    "      member2 = [{'name':'홍길동', 'year':2000, 'month':1, 'day':1},\n",
    "                  {'name':'신길동', 'year':1998, 'month':12, 'day':31}]로 바꿉니다\n",
    "'''\n",
    "member1 = [{'name':'홍길동', 'birth':'2000-01-01'},\n",
    "            {'name':'신길동', 'birth':'1998-12-31'}]\n",
    "member2 = [{'name':'홍길동', 'year':2000, 'month':1, 'day':1},\n",
    "            {'name':'신길동', 'year':1998, 'month':12, 'day':31}]"
   ]
  },
  {
   "cell_type": "code",
   "execution_count": 28,
   "id": "e08ba715",
   "metadata": {},
   "outputs": [],
   "source": [
    "#2000-01-01 -> {'year':1998, 'month':12, 'day':31}\n",
    "def split_date(date):\n",
    "    split_data = date.split('-')\n",
    "#     print(split_data[0], split_data[1], split_data[2])\n",
    "    return {'year': int(split_data[0]),\n",
    "           'month': int(split_data[1]),\n",
    "           'day'  : int(split_data[2])\n",
    "           }"
   ]
  },
  {
   "cell_type": "code",
   "execution_count": 29,
   "id": "f462d45a",
   "metadata": {},
   "outputs": [
    {
     "data": {
      "text/plain": [
       "{'year': 2000, 'month': 1, 'day': 1}"
      ]
     },
     "execution_count": 29,
     "metadata": {},
     "output_type": "execute_result"
    }
   ],
   "source": [
    "split_date('2000-01-01')"
   ]
  },
  {
   "cell_type": "code",
   "execution_count": 30,
   "id": "4f034fc8",
   "metadata": {},
   "outputs": [
    {
     "data": {
      "text/plain": [
       "{'name': '홍길동', 'year': 2000, 'month': 1, 'day': 1}"
      ]
     },
     "execution_count": 30,
     "metadata": {},
     "output_type": "execute_result"
    }
   ],
   "source": [
    "def member_func(member): #{'name':'신길동', 'birth':'1998-12-31'}\n",
    "    \"'name':'신길동', 'year':1998, 'month':12, 'day':31}식으로 return\"\n",
    "    return{\n",
    "        'name':member['name'],\n",
    "        'year':int(member['birth'].split('-')[0]),\n",
    "        'month':int(member['birth'].split('-')[1]),\n",
    "        'day':int(member['birth'].split('-')[2]),\n",
    "    }\n",
    "member_func(member1[0])"
   ]
  },
  {
   "cell_type": "code",
   "execution_count": 31,
   "id": "fa8d5054",
   "metadata": {},
   "outputs": [
    {
     "data": {
      "text/plain": [
       "[{'name': '홍길동', 'year': 2000, 'month': 1, 'day': 1},\n",
       " {'name': '신길동', 'year': 1998, 'month': 12, 'day': 31}]"
      ]
     },
     "execution_count": 31,
     "metadata": {},
     "output_type": "execute_result"
    }
   ],
   "source": [
    "list(map(lambda member : {\n",
    "    'name':member['name'],\n",
    "        'year':int(member['birth'].split('-')[0]),\n",
    "        'month':int(member['birth'].split('-')[1]),\n",
    "        'day':int(member['birth'].split('-')[2]),\n",
    "         }, \n",
    "         member1\n",
    "        )\n",
    "    )"
   ]
  },
  {
   "cell_type": "code",
   "execution_count": 32,
   "id": "5071e5db",
   "metadata": {},
   "outputs": [
    {
     "data": {
      "text/plain": [
       "'\\n예제3. member2를 member1로 바꿉니다\\n'"
      ]
     },
     "execution_count": 32,
     "metadata": {},
     "output_type": "execute_result"
    }
   ],
   "source": [
    "'''\n",
    "예제3. member2를 member1로 바꿉니다\n",
    "'''"
   ]
  },
  {
   "cell_type": "code",
   "execution_count": 40,
   "id": "3d4b1d0b",
   "metadata": {},
   "outputs": [],
   "source": [
    "def join_date(data):\n",
    "    year = str(data.get('year'))\n",
    "    month = data.get('month')\n",
    "    if month<10:\n",
    "        month = '0'+str(month)\n",
    "    else:\n",
    "        month = str(month)\n",
    "    day = data.get('day')\n",
    "    if day<10:\n",
    "        day = '0'+str(month)\n",
    "    else:\n",
    "        day = str(month)\n",
    "    return '-'.join([year, data.get('month'), data.get('day')])"
   ]
  },
  {
   "cell_type": "code",
   "execution_count": 45,
   "id": "5ebb7bb1",
   "metadata": {},
   "outputs": [],
   "source": [
    "def join_date(data):\n",
    "    print(\"{}-{:02}-{:02}\".format(data.get('year'), \n",
    "                                  data.get('month'), \n",
    "                                  data.get('day')))"
   ]
  },
  {
   "cell_type": "code",
   "execution_count": 47,
   "id": "b2875645",
   "metadata": {},
   "outputs": [],
   "source": [
    "def join_date(data):\n",
    "    print(\"{year}-{month:02}-{day:02}\".format(\n",
    "                                  year = data.get('year'), \n",
    "                                  month = data.get('month'), \n",
    "                                  day = data.get('day')))"
   ]
  },
  {
   "cell_type": "code",
   "execution_count": 49,
   "id": "6a329f3f",
   "metadata": {},
   "outputs": [],
   "source": [
    "def join_date(data):\n",
    "    return \"{year}-{month:02}-{day:02}\".format(**data)"
   ]
  },
  {
   "cell_type": "code",
   "execution_count": 50,
   "id": "260ef667",
   "metadata": {},
   "outputs": [
    {
     "data": {
      "text/plain": [
       "'2000-01-01'"
      ]
     },
     "execution_count": 50,
     "metadata": {},
     "output_type": "execute_result"
    }
   ],
   "source": [
    "join_date({'year':2000, 'month':1, 'day':1})"
   ]
  },
  {
   "cell_type": "code",
   "execution_count": 56,
   "id": "7fc7de82",
   "metadata": {},
   "outputs": [
    {
     "data": {
      "text/plain": [
       "[{'name': '홍길동', 'birth': '2000-01-01'},\n",
       " {'name': '신길동', 'birth': '1998-12-31'}]"
      ]
     },
     "execution_count": 56,
     "metadata": {},
     "output_type": "execute_result"
    }
   ],
   "source": [
    "#{'name':'홍길동', 'year':2000, 'month':1, 'day':1}(member2)를\n",
    "#{{'name':'홍길동', 'birth':'2000-01-01'}으로 가공\n",
    "list(map(lambda member : {\n",
    "    'name' : member.get('name'),\n",
    "    'birth': \"{year}-{month:02}-{day:02}\".format(**member)\n",
    "},\n",
    "         member2\n",
    "        )\n",
    "    )"
   ]
  },
  {
   "cell_type": "markdown",
   "id": "0ffb0f0a",
   "metadata": {},
   "source": [
    "### (2) filter\n",
    "- map처리: [1,2,3,4,5] => [2,4,6,8,10] (벡터의 모든 데이터를 가공)\n",
    "- filter: [1,2,3,4,5] => [2,4](원하는 정보를 추출)\n",
    "- *cf.리스트 컴프리핸션"
   ]
  },
  {
   "cell_type": "code",
   "execution_count": 57,
   "id": "87e3202c",
   "metadata": {},
   "outputs": [],
   "source": [
    "#map:[1,2,3,4,5]\n",
    "def filter_template(func, L = []):\n",
    "    result = []\n",
    "    for l in L:\n",
    "        if func(l):\n",
    "            result.append(l)\n",
    "    return result"
   ]
  },
  {
   "cell_type": "code",
   "execution_count": 59,
   "id": "ac0432ce",
   "metadata": {},
   "outputs": [
    {
     "data": {
      "text/plain": [
       "(True, False)"
      ]
     },
     "execution_count": 59,
     "metadata": {},
     "output_type": "execute_result"
    }
   ],
   "source": [
    "def evenChk(value):\n",
    "    return value%2 == 0\n",
    "evenChk(10), evenChk(-9)"
   ]
  },
  {
   "cell_type": "code",
   "execution_count": 60,
   "id": "2c3f3649",
   "metadata": {},
   "outputs": [
    {
     "data": {
      "text/plain": [
       "[2, 4]"
      ]
     },
     "execution_count": 60,
     "metadata": {},
     "output_type": "execute_result"
    }
   ],
   "source": [
    "list_data = [1,2,3,4,5]\n",
    "filter_template(lambda value : value%2 == 0, list_data)"
   ]
  },
  {
   "cell_type": "code",
   "execution_count": 61,
   "id": "5e895a4c",
   "metadata": {},
   "outputs": [
    {
     "data": {
      "text/plain": [
       "[2, 4]"
      ]
     },
     "execution_count": 61,
     "metadata": {},
     "output_type": "execute_result"
    }
   ],
   "source": [
    "list(filter(lambda value : value%2 == 0, list_data))"
   ]
  },
  {
   "cell_type": "code",
   "execution_count": 63,
   "id": "37dd0104",
   "metadata": {},
   "outputs": [
    {
     "data": {
      "text/plain": [
       "[2, 4]"
      ]
     },
     "execution_count": 63,
     "metadata": {},
     "output_type": "execute_result"
    }
   ],
   "source": [
    "[data for data in list_data if data%2 == 0]"
   ]
  },
  {
   "cell_type": "markdown",
   "id": "04037608",
   "metadata": {},
   "source": [
    "### (3) sort"
   ]
  },
  {
   "cell_type": "code",
   "execution_count": 65,
   "id": "b4c0f91e",
   "metadata": {},
   "outputs": [
    {
     "data": {
      "text/plain": [
       "[9, 7, 2]"
      ]
     },
     "execution_count": 65,
     "metadata": {},
     "output_type": "execute_result"
    }
   ],
   "source": [
    "p = [9, 2, 7]\n",
    "p.sort(reverse = True)\n",
    "p"
   ]
  },
  {
   "cell_type": "code",
   "execution_count": 70,
   "id": "9a2abb80",
   "metadata": {},
   "outputs": [
    {
     "data": {
      "text/plain": [
       "[(1, 'one'), (2, 'two'), (3, 'three'), (4, 'four')]"
      ]
     },
     "execution_count": 70,
     "metadata": {},
     "output_type": "execute_result"
    }
   ],
   "source": [
    "#무조건 0번 item기준으로 정렬\n",
    "pairs = [(2, 'two'), (1, 'one'), (4, 'four'), (3, 'three')]\n",
    "pairs.sort()\n",
    "pairs"
   ]
  },
  {
   "cell_type": "code",
   "execution_count": 72,
   "id": "70ca9357",
   "metadata": {},
   "outputs": [
    {
     "data": {
      "text/plain": [
       "[(4, 'four'), (1, 'one'), (3, 'three'), (2, 'two')]"
      ]
     },
     "execution_count": 72,
     "metadata": {},
     "output_type": "execute_result"
    }
   ],
   "source": [
    "#1번째 item기준으로 정렬(abc순)\n",
    "pairs.sort(key=lambda pair : pair[1])\n",
    "pairs"
   ]
  },
  {
   "cell_type": "code",
   "execution_count": 68,
   "id": "62c8ca14",
   "metadata": {},
   "outputs": [
    {
     "data": {
      "text/plain": [
       "[[10, 1], [9, 9], [1, 100]]"
      ]
     },
     "execution_count": 68,
     "metadata": {},
     "output_type": "execute_result"
    }
   ],
   "source": [
    "#무조건 0번 item기준으로 정렬\n",
    "number2d = [\n",
    "    [9, 9, 9, 9, 9],\n",
    "    [1, 100],\n",
    "    [10, 1]\n",
    "]\n",
    "number2d.sort(reverse = True)\n",
    "number2d"
   ]
  },
  {
   "cell_type": "code",
   "execution_count": 76,
   "id": "c4328308",
   "metadata": {},
   "outputs": [
    {
     "data": {
      "text/plain": [
       "[[1, 100], [9, 9], [10, 1]]"
      ]
     },
     "execution_count": 76,
     "metadata": {},
     "output_type": "execute_result"
    }
   ],
   "source": [
    "# 합이 큰 순으로 정렬\n",
    "number2d.sort(key = lambda item : sum(item), reverse = True)\n",
    "number2d"
   ]
  },
  {
   "cell_type": "code",
   "execution_count": 77,
   "id": "c2840257",
   "metadata": {},
   "outputs": [
    {
     "data": {
      "text/plain": [
       "6"
      ]
     },
     "execution_count": 77,
     "metadata": {},
     "output_type": "execute_result"
    }
   ],
   "source": [
    "#리스트를 매개변수로 받아 합을 return\n",
    "(lambda item : sum(item))([1,2,3,])"
   ]
  },
  {
   "cell_type": "code",
   "execution_count": 78,
   "id": "479b2bc1",
   "metadata": {},
   "outputs": [
    {
     "data": {
      "text/plain": [
       "[[1, 100], [9, 9], [10, 1]]"
      ]
     },
     "execution_count": 78,
     "metadata": {},
     "output_type": "execute_result"
    }
   ],
   "source": [
    "# 합이 큰 순으로 정렬\n",
    "number2d.sort(key = lambda item : sum(item), reverse = True)\n",
    "number2d"
   ]
  },
  {
   "cell_type": "code",
   "execution_count": 93,
   "id": "99f5c3f4",
   "metadata": {},
   "outputs": [],
   "source": [
    "students = [\n",
    "    {'name':'홍길동', 'score':90},\n",
    "    {'name':'김길동', 'score':50},\n",
    "    {'name':'윤길동', 'score':99},\n",
    "    {'score':100}\n",
    "]"
   ]
  },
  {
   "cell_type": "code",
   "execution_count": 94,
   "id": "4d9dc6e9",
   "metadata": {},
   "outputs": [
    {
     "data": {
      "text/plain": [
       "[{'name': '김길동', 'score': 50},\n",
       " {'name': '윤길동', 'score': 99},\n",
       " {'name': '홍길동', 'score': 90},\n",
       " {'score': 100}]"
      ]
     },
     "execution_count": 94,
     "metadata": {},
     "output_type": "execute_result"
    }
   ],
   "source": [
    "#이름순(ㄱㄴㄷ순)으로 정렬\n",
    "students.sort(key = lambda item : item.get('name', '힣'))\n",
    "students"
   ]
  },
  {
   "cell_type": "code",
   "execution_count": 97,
   "id": "a62aad76",
   "metadata": {},
   "outputs": [
    {
     "data": {
      "text/plain": [
       "[{'score': 100},\n",
       " {'name': '윤길동', 'score': 99},\n",
       " {'name': '홍길동', 'score': 90},\n",
       " {'name': '김길동', 'score': 50}]"
      ]
     },
     "execution_count": 97,
     "metadata": {},
     "output_type": "execute_result"
    }
   ],
   "source": [
    "#score순으로 내림차순 정렬\n",
    "students.sort(key = lambda item : item.get('score', 0), reverse = True)\n",
    "students"
   ]
  },
  {
   "cell_type": "code",
   "execution_count": 98,
   "id": "1902b759",
   "metadata": {},
   "outputs": [],
   "source": [
    "#책제목순(ㄱㄴㄷ순), 저자순 정렬(ㄱㄴㅇ순), 가격순 정렬\n",
    "books = [\n",
    "    {'no':1, 'title':'강남 아파트 인사이트', 'writter':'오스틀로이드', 'price':'25,200'},\n",
    "    {'no':2, 'title':'단 한 번의 삶', 'writter':'김영하', 'price':'18,100'},\n",
    "    {'no':3, 'title':'흔한남매19', 'writter':'백난도', 'price':'14220'},\n",
    "    {'no':4, 'title':'가격이잘못', 'writter':'홍길동', 'price':'-'},\n",
    "    {'no':5, 'title':'가격이숫자', 'writter':'신길동', 'price':900},\n",
    "    {'no':6, 'title':'가격이없음', 'writter':'김길동'}\n",
    "]"
   ]
  },
  {
   "cell_type": "code",
   "execution_count": 99,
   "id": "e7c7017e",
   "metadata": {},
   "outputs": [
    {
     "data": {
      "text/plain": [
       "[{'no': 5, 'title': '가격이숫자', 'writter': '신길동', 'price': 900},\n",
       " {'no': 6, 'title': '가격이없음', 'writter': '김길동'},\n",
       " {'no': 4, 'title': '가격이잘못', 'writter': '홍길동', 'price': '-'},\n",
       " {'no': 1, 'title': '강남 아파트 인사이트', 'writter': '오스틀로이드', 'price': '25,200'},\n",
       " {'no': 2, 'title': '단 한 번의 삶', 'writter': '김영하', 'price': '18,100'},\n",
       " {'no': 3, 'title': '흔한남매19', 'writter': '백난도', 'price': '14,220'}]"
      ]
     },
     "execution_count": 99,
     "metadata": {},
     "output_type": "execute_result"
    }
   ],
   "source": [
    "books.sort(key = lambda book : book.get('title'))\n",
    "books"
   ]
  },
  {
   "cell_type": "code",
   "execution_count": 100,
   "id": "fdf14712",
   "metadata": {},
   "outputs": [
    {
     "data": {
      "text/plain": [
       "[{'no': 6, 'title': '가격이없음', 'writter': '김길동'},\n",
       " {'no': 2, 'title': '단 한 번의 삶', 'writter': '김영하', 'price': '18,100'},\n",
       " {'no': 3, 'title': '흔한남매19', 'writter': '백난도', 'price': '14,220'},\n",
       " {'no': 5, 'title': '가격이숫자', 'writter': '신길동', 'price': 900},\n",
       " {'no': 1, 'title': '강남 아파트 인사이트', 'writter': '오스틀로이드', 'price': '25,200'},\n",
       " {'no': 4, 'title': '가격이잘못', 'writter': '홍길동', 'price': '-'}]"
      ]
     },
     "execution_count": 100,
     "metadata": {},
     "output_type": "execute_result"
    }
   ],
   "source": [
    "books.sort(key = lambda book : book.get('writter'))\n",
    "books"
   ]
  },
  {
   "cell_type": "code",
   "execution_count": 101,
   "id": "4d69eba2",
   "metadata": {},
   "outputs": [
    {
     "ename": "TypeError",
     "evalue": "'<' not supported between instances of 'str' and 'int'",
     "output_type": "error",
     "traceback": [
      "\u001b[1;31m---------------------------------------------------------------------------\u001b[0m",
      "\u001b[1;31mTypeError\u001b[0m                                 Traceback (most recent call last)",
      "Cell \u001b[1;32mIn[101], line 1\u001b[0m\n\u001b[1;32m----> 1\u001b[0m \u001b[43mbooks\u001b[49m\u001b[38;5;241;43m.\u001b[39;49m\u001b[43msort\u001b[49m\u001b[43m(\u001b[49m\u001b[43mkey\u001b[49m\u001b[43m \u001b[49m\u001b[38;5;241;43m=\u001b[39;49m\u001b[43m \u001b[49m\u001b[38;5;28;43;01mlambda\u001b[39;49;00m\u001b[43m \u001b[49m\u001b[43mbook\u001b[49m\u001b[43m \u001b[49m\u001b[43m:\u001b[49m\u001b[43m \u001b[49m\u001b[43mbook\u001b[49m\u001b[38;5;241;43m.\u001b[39;49m\u001b[43mget\u001b[49m\u001b[43m(\u001b[49m\u001b[38;5;124;43m'\u001b[39;49m\u001b[38;5;124;43mprice\u001b[39;49m\u001b[38;5;124;43m'\u001b[39;49m\u001b[43m,\u001b[49m\u001b[43m \u001b[49m\u001b[38;5;241;43m0\u001b[39;49m\u001b[43m)\u001b[49m\u001b[43m)\u001b[49m\n\u001b[0;32m      2\u001b[0m books\n",
      "\u001b[1;31mTypeError\u001b[0m: '<' not supported between instances of 'str' and 'int'"
     ]
    }
   ],
   "source": [
    "books.sort(key = lambda book : book.get('price', 0))\n",
    "books"
   ]
  },
  {
   "cell_type": "code",
   "execution_count": 114,
   "id": "628c9459",
   "metadata": {},
   "outputs": [],
   "source": [
    "# '1,4000', \"2000\", 800,'-' -> 14000, 2000, 800, 0\n",
    "def parse_int(price):\n",
    "    #print(type(price))\n",
    "    if isinstance(price, str) and price.replace(',','').isdigit():\n",
    "        return int(price.replace(',',''))\n",
    "    elif isinstance(price, int):\n",
    "        return price\n",
    "    else:\n",
    "        return 0"
   ]
  },
  {
   "cell_type": "code",
   "execution_count": 115,
   "id": "b008e6c9",
   "metadata": {},
   "outputs": [
    {
     "data": {
      "text/plain": [
       "(800, 0)"
      ]
     },
     "execution_count": 115,
     "metadata": {},
     "output_type": "execute_result"
    }
   ],
   "source": [
    "parse_int(\"800\"), parse_int('-')"
   ]
  },
  {
   "cell_type": "code",
   "execution_count": 123,
   "id": "3fb9c9e0",
   "metadata": {},
   "outputs": [
    {
     "data": {
      "text/plain": [
       "(0, 900, 14220, 0)"
      ]
     },
     "execution_count": 123,
     "metadata": {},
     "output_type": "execute_result"
    }
   ],
   "source": [
    "# # {'no': 6, 'title': '가격이없음', 'writter': '김길동'} => 0 리턴\n",
    "# {'no': 3, 'title': '흔한남매19', 'writter': '백난도', 'price': '14,220'} => 14220리턴\n",
    "# {'no': 5, 'title': '가격이숫자', 'writter': '신길동', 'price': 900} => 900\n",
    "def parse_int(book):\n",
    "    if isinstance(book.get('price'), str) and \\\n",
    "    book.get('price').replace(',','').isdigit():\n",
    "        return int(book.get('price').replace(',',''))\n",
    "    elif isinstance(book.get('price'), int):\n",
    "        return book.get('price')\n",
    "    else:\n",
    "        return 0\n",
    "parse_int(books[0]), parse_int(books[3]), parse_int(books[2]), parse_int(books[5])"
   ]
  },
  {
   "cell_type": "code",
   "execution_count": 127,
   "id": "efd53ab6",
   "metadata": {},
   "outputs": [],
   "source": [
    "books = [\n",
    "    {'no':1, 'title':'강남 아파트 인사이트', 'writter':'오스틀로이드', 'price':'25,200'},\n",
    "    {'no':2, 'title':'단 한 번의 삶', 'writter':'김영하', 'price':'18,100'},\n",
    "    {'no':3, 'title':'흔한남매19', 'writter':'백난도', 'price':'14220'},\n",
    "    {'no':4, 'title':'가격이잘못', 'writter':'홍길동', 'price':'-'},\n",
    "    {'no':5, 'title':'가격이숫자', 'writter':'신길동', 'price':900},\n",
    "    {'no':6, 'title':'가격이없음', 'writter':'김길동'}\n",
    "]\n",
    "copy_books = books.copy() #깊은 복사"
   ]
  },
  {
   "cell_type": "code",
   "execution_count": 128,
   "id": "40bfeaa3",
   "metadata": {},
   "outputs": [],
   "source": [
    "copy_books.sort(key = lambda book : \n",
    "                int(book.get('price').replace(',','')) \\\n",
    "                if isinstance(book.get('price'),str) and \\\n",
    "               book.get('price').replace(',','').isdigit() else\\\n",
    "               book.get('price') if isinstance(book.get('price'),int) else\\\n",
    "               0\n",
    "               )"
   ]
  },
  {
   "cell_type": "code",
   "execution_count": 132,
   "id": "fbb41852",
   "metadata": {},
   "outputs": [
    {
     "data": {
      "text/plain": [
       "25200"
      ]
     },
     "execution_count": 132,
     "metadata": {},
     "output_type": "execute_result"
    }
   ],
   "source": [
    "#람다식 테스트 확인\n",
    "(lambda book:\n",
    "               int(book.get('price').replace(',','')) \\\n",
    "                if isinstance(book.get('price'),str) and \\\n",
    "               book.get('price').replace(',','').isdigit() else\\\n",
    "               book.get('price') if isinstance(book.get('price'),int) else\\\n",
    "               0)(books[0])"
   ]
  },
  {
   "cell_type": "code",
   "execution_count": 129,
   "id": "032508e4",
   "metadata": {},
   "outputs": [
    {
     "data": {
      "text/plain": [
       "[{'no': 4, 'title': '가격이잘못', 'writter': '홍길동', 'price': '-'},\n",
       " {'no': 6, 'title': '가격이없음', 'writter': '김길동'},\n",
       " {'no': 5, 'title': '가격이숫자', 'writter': '신길동', 'price': 900},\n",
       " {'no': 3, 'title': '흔한남매19', 'writter': '백난도', 'price': '14220'},\n",
       " {'no': 2, 'title': '단 한 번의 삶', 'writter': '김영하', 'price': '18,100'},\n",
       " {'no': 1, 'title': '강남 아파트 인사이트', 'writter': '오스틀로이드', 'price': '25,200'}]"
      ]
     },
     "execution_count": 129,
     "metadata": {},
     "output_type": "execute_result"
    }
   ],
   "source": [
    "copy_books"
   ]
  },
  {
   "cell_type": "code",
   "execution_count": 131,
   "id": "dd8ba40e",
   "metadata": {},
   "outputs": [
    {
     "data": {
      "text/plain": [
       "[{'no': 1, 'title': '강남 아파트 인사이트', 'writter': '오스틀로이드', 'price': '25,200'},\n",
       " {'no': 2, 'title': '단 한 번의 삶', 'writter': '김영하', 'price': '18,100'},\n",
       " {'no': 3, 'title': '흔한남매19', 'writter': '백난도', 'price': '14220'},\n",
       " {'no': 4, 'title': '가격이잘못', 'writter': '홍길동', 'price': '-'},\n",
       " {'no': 5, 'title': '가격이숫자', 'writter': '신길동', 'price': 900},\n",
       " {'no': 6, 'title': '가격이없음', 'writter': '김길동'}]"
      ]
     },
     "execution_count": 131,
     "metadata": {},
     "output_type": "execute_result"
    }
   ],
   "source": [
    "books"
   ]
  },
  {
   "cell_type": "markdown",
   "id": "2cc34eca",
   "metadata": {},
   "source": [
    "## 4.3 return문에 람다식 이용"
   ]
  },
  {
   "cell_type": "code",
   "execution_count": 133,
   "id": "90360749",
   "metadata": {},
   "outputs": [],
   "source": [
    "#함수를 return\n",
    "def make_box(shape): #shape: [l]=>len가 l인 list를 생성하는 함수 return\n",
    "                     #       [r,c] => r행c열인 list를 생성하는 함수 return\n",
    "                     #       [d,r,c]=>d면 r행 c열 3차원 list를 생성하는 함수 return\n",
    "    def box(init_value):\n",
    "        if len(shape) == 1:\n",
    "            return [init_value]*shape[0]\n",
    "        elif len(shape) == 2:\n",
    "            return[[init_value]*shape[1]]*shape[0]\n",
    "    return box"
   ]
  },
  {
   "cell_type": "code",
   "execution_count": 139,
   "id": "08e00678",
   "metadata": {},
   "outputs": [],
   "source": [
    "def make_box(shape):\n",
    "    if len(shape) == 1:\n",
    "        return lambda init_value : [init_value]*shape[0]\n",
    "    elif len(shape) == 2:\n",
    "        return lambda init_value : [[init_value]*shape[1]]*shape[0]"
   ]
  },
  {
   "cell_type": "code",
   "execution_count": null,
   "id": "69f4f92a",
   "metadata": {},
   "outputs": [],
   "source": []
  },
  {
   "cell_type": "code",
   "execution_count": 136,
   "id": "ac81eae2",
   "metadata": {},
   "outputs": [
    {
     "data": {
      "text/plain": [
       "[[3, 3, 3], [3, 3, 3]]"
      ]
     },
     "execution_count": 136,
     "metadata": {},
     "output_type": "execute_result"
    }
   ],
   "source": [
    "line_func = make_box([2,3])\n",
    "line_func(3)"
   ]
  },
  {
   "cell_type": "code",
   "execution_count": 138,
   "id": "b52958dc",
   "metadata": {},
   "outputs": [
    {
     "data": {
      "text/plain": [
       "[3, 3, 3, 3, 3, 3, 3, 3, 3, 3]"
      ]
     },
     "execution_count": 138,
     "metadata": {},
     "output_type": "execute_result"
    }
   ],
   "source": [
    "line_func1 = make_box([10])\n",
    "line_func1(3)"
   ]
  },
  {
   "cell_type": "markdown",
   "id": "fd1b1ca8",
   "metadata": {},
   "source": [
    "# 5절. 파이썬 내장함수\n",
    "- import하지 않고 바로 사용 가능한 함수\n",
    "- 키워드처럼 간주되므로, 식별자(변수명, 함수명, 클래스명)로 사용하는 것을 피함."
   ]
  },
  {
   "cell_type": "code",
   "execution_count": 141,
   "id": "ec310fa2",
   "metadata": {},
   "outputs": [
    {
     "data": {
      "text/plain": [
       "{'__name__': '__main__',\n",
       " '__doc__': \"\\n예제2. member1 = [{'name':'홍길동', 'birth':'2000-01-01'},\\n                  {'name':'신길동', 'birth':'1998-12-31'}]를\\n      member2 = [{'name':'홍길동', 'year':2000, 'month':1, 'day':1},\\n                  {'name':'신길동', 'year':1998, 'month':12, 'day':31}]로 바꿉니다\\n\",\n",
       " '__package__': None,\n",
       " '__loader__': None,\n",
       " '__spec__': None,\n",
       " '__builtin__': <module 'builtins' (built-in)>,\n",
       " '__builtins__': <module 'builtins' (built-in)>,\n",
       " '_ih': ['',\n",
       "  \"'''\\n예제2. member1 = [{'name':'홍길동', 'birth':'2000-01-01'},\\n                  {'name':'신길동', 'birth':'1998-12-31'}]를\\n      member2 = [{'name':'홍길동', 'year':2000, 'month':1, 'day':1},\\n                  {'name':'신길동', 'year':1998, 'month':12, 'day':31}]로 바꿉니다\\n'''\\nmembers1 = [{'name':'홍길동', 'birth':'2000-01-01'},\\n            {'name':'신길동', 'birth':'1998-12-31'}]\",\n",
       "  \"#2000-01-01 -> {'year':1998, 'month':12, 'day':31}\\ndef split_data(date):\\n    split_data = date.split('-')\\n    print(split_data[0], split_data[1], split_data[2])\",\n",
       "  \"#2000-01-01 -> {'year':1998, 'month':12, 'day':31}\\ndef split_data(date):\\n    split_data = date.split('-')\\n    print(split_data[0], split_data[1], split_data[2])\\n    return {'year': int(split_data[0])\\n           'month': int(split_data[1])\\n           'day': int(split_data[2])}\",\n",
       "  \"#2000-01-01 -> {'year':1998, 'month':12, 'day':31}\\ndef split_date(date):\\n    split_data = date.split('-')\\n    print(split_data[0], split_data[1], split_data[2])\\n    return {'year': int(split_data[0])\\n           'month': int(split_data[1])\\n           'day': int(split_data[2])}\",\n",
       "  \"#2000-01-01 -> {'year':1998, 'month':12, 'day':31}\\ndef split_date(date):\\n    split_data = date.split('-')\\n    print(split_data[0], split_data[1], split_data[2])\\n    return {'year': int(split_data[0]),\\n           'month': int(split_data[1]),\\n           'day'  : int(split_data[2])\\n           }\",\n",
       "  \"split_data('2000-01-01')\",\n",
       "  \"#2000-01-01 -> {'year':1998, 'month':12, 'day':31}\\ndef split_date(date):\\n    split_data = date.split('-')\\n#     print(split_data[0], split_data[1], split_data[2])\\n    return {'year': int(split_data[0]),\\n           'month': int(split_data[1]),\\n           'day'  : int(split_data[2])\\n           }\",\n",
       "  \"split_data('2000-01-01')\",\n",
       "  \"split_data('2000-01-01')\",\n",
       "  \"split_date('2000-01-01')\",\n",
       "  'def member_func(member): #{\\'name\\':\\'신길동\\', \\'birth\\':\\'1998-12-31\\'}\\n    \"\\'name\\':\\'신길동\\', \\'year\\':1998, \\'month\\':12, \\'day\\':31}식으로 return\"\\n    return{\\n        \\'name\\':member[\\'name\\'],\\n        \\'year\\':int(member[\\'birth\\'].split(\\'-\\')[0]),\\n        \\'month\\':int(member[\\'birth\\'].split(\\'-\\')[1]),\\n        \\'day\\':int(member[\\'birth\\'].split(\\'-\\')[2]),\\n    }',\n",
       "  \"'''\\n예제2. member1 = [{'name':'홍길동', 'birth':'2000-01-01'},\\n                  {'name':'신길동', 'birth':'1998-12-31'}]를\\n      member2 = [{'name':'홍길동', 'year':2000, 'month':1, 'day':1},\\n                  {'name':'신길동', 'year':1998, 'month':12, 'day':31}]로 바꿉니다\\n'''\\nmembers1 = [{'name':'홍길동', 'birth':'2000-01-01'},\\n            {'name':'신길동', 'birth':'1998-12-31'}]\",\n",
       "  \"#2000-01-01 -> {'year':1998, 'month':12, 'day':31}\\ndef split_date(date):\\n    split_data = date.split('-')\\n#     print(split_data[0], split_data[1], split_data[2])\\n    return {'year': int(split_data[0]),\\n           'month': int(split_data[1]),\\n           'day'  : int(split_data[2])\\n           }\",\n",
       "  \"split_date('2000-01-01')\",\n",
       "  'def member_func(member): #{\\'name\\':\\'신길동\\', \\'birth\\':\\'1998-12-31\\'}\\n    \"\\'name\\':\\'신길동\\', \\'year\\':1998, \\'month\\':12, \\'day\\':31}식으로 return\"\\n    return{\\n        \\'name\\':member[\\'name\\'],\\n        \\'year\\':int(member[\\'birth\\'].split(\\'-\\')[0]),\\n        \\'month\\':int(member[\\'birth\\'].split(\\'-\\')[1]),\\n        \\'day\\':int(member[\\'birth\\'].split(\\'-\\')[2]),\\n    }\\nmember_func(menber1[0])',\n",
       "  \"'''\\n예제2. member1 = [{'name':'홍길동', 'birth':'2000-01-01'},\\n                  {'name':'신길동', 'birth':'1998-12-31'}]를\\n      member2 = [{'name':'홍길동', 'year':2000, 'month':1, 'day':1},\\n                  {'name':'신길동', 'year':1998, 'month':12, 'day':31}]로 바꿉니다\\n'''\\nmember1 = [{'name':'홍길동', 'birth':'2000-01-01'},\\n            {'name':'신길동', 'birth':'1998-12-31'}]\",\n",
       "  \"#2000-01-01 -> {'year':1998, 'month':12, 'day':31}\\ndef split_date(date):\\n    split_data = date.split('-')\\n#     print(split_data[0], split_data[1], split_data[2])\\n    return {'year': int(split_data[0]),\\n           'month': int(split_data[1]),\\n           'day'  : int(split_data[2])\\n           }\",\n",
       "  \"split_date('2000-01-01')\",\n",
       "  'def member_func(member): #{\\'name\\':\\'신길동\\', \\'birth\\':\\'1998-12-31\\'}\\n    \"\\'name\\':\\'신길동\\', \\'year\\':1998, \\'month\\':12, \\'day\\':31}식으로 return\"\\n    return{\\n        \\'name\\':member[\\'name\\'],\\n        \\'year\\':int(member[\\'birth\\'].split(\\'-\\')[0]),\\n        \\'month\\':int(member[\\'birth\\'].split(\\'-\\')[1]),\\n        \\'day\\':int(member[\\'birth\\'].split(\\'-\\')[2]),\\n    }\\nmember_func(menber1[0])',\n",
       "  'def member_func(member): #{\\'name\\':\\'신길동\\', \\'birth\\':\\'1998-12-31\\'}\\n    \"\\'name\\':\\'신길동\\', \\'year\\':1998, \\'month\\':12, \\'day\\':31}식으로 return\"\\n    return{\\n        \\'name\\':member[\\'name\\'],\\n        \\'year\\':int(member[\\'birth\\'].split(\\'-\\')[0]),\\n        \\'month\\':int(member[\\'birth\\'].split(\\'-\\')[1]),\\n        \\'day\\':int(member[\\'birth\\'].split(\\'-\\')[2]),\\n    }\\nmember_func(member1[0])',\n",
       "  \"list(map(lambda member : {\\n    'name':member['name'],\\n        'year':int(member['birth'].split('-')[0]),\\n        'month':int(member['birth'].split('-')[1]),\\n        'day':int(member['birth'].split('-')[2]),\\n}))\",\n",
       "  \"list(map(lambda member : {\\n    'name':member['name'],\\n        'year':int(member['birth'].split('-')[0]),\\n        'month':int(member['birth'].split('-')[1]),\\n        'day':int(member['birth'].split('-')[2]),\\n}, member1\\n        ))\",\n",
       "  \"'''\\n예제2. member1 = [{'name':'홍길동', 'birth':'2000-01-01'},\\n                  {'name':'신길동', 'birth':'1998-12-31'}]를\\n      member2 = [{'name':'홍길동', 'year':2000, 'month':1, 'day':1},\\n                  {'name':'신길동', 'year':1998, 'month':12, 'day':31}]로 바꿉니다\\n'''\\nmember1 = [{'name':'홍길동', 'birth':'2000-01-01'},\\n            {'name':'신길동', 'birth':'1998-12-31'}]\\nmember2 = [{'name':'홍길동', 'year':2000, 'month':1, 'day':1},\\n            {'name':'신길동', 'year':1998, 'month':12, 'day':31}]\",\n",
       "  \"lambda member2 : {'name': member['name'],\\n                  'birth': member['birth'].join('-'), member2\",\n",
       "  \"list(map(lambda member : {\\n    'name':member['name'],\\n        'year':int(member['birth'].split('-')[0]),\\n        'month':int(member['birth'].split('-')[1]),\\n        'day':int(member['birth'].split('-')[2]),\\n         }, \\n         member1\\n        )\\n    )\",\n",
       "  \"lambda member2 : {'name': member['name'],\\n                  'birth': member['birth'].join('-'), member2\",\n",
       "  \"'''\\n예제2. member1 = [{'name':'홍길동', 'birth':'2000-01-01'},\\n                  {'name':'신길동', 'birth':'1998-12-31'}]를\\n      member2 = [{'name':'홍길동', 'year':2000, 'month':1, 'day':1},\\n                  {'name':'신길동', 'year':1998, 'month':12, 'day':31}]로 바꿉니다\\n'''\\nmember1 = [{'name':'홍길동', 'birth':'2000-01-01'},\\n            {'name':'신길동', 'birth':'1998-12-31'}]\\nmember2 = [{'name':'홍길동', 'year':2000, 'month':1, 'day':1},\\n            {'name':'신길동', 'year':1998, 'month':12, 'day':31}]\",\n",
       "  \"#2000-01-01 -> {'year':1998, 'month':12, 'day':31}\\ndef split_date(date):\\n    split_data = date.split('-')\\n#     print(split_data[0], split_data[1], split_data[2])\\n    return {'year': int(split_data[0]),\\n           'month': int(split_data[1]),\\n           'day'  : int(split_data[2])\\n           }\",\n",
       "  \"split_date('2000-01-01')\",\n",
       "  'def member_func(member): #{\\'name\\':\\'신길동\\', \\'birth\\':\\'1998-12-31\\'}\\n    \"\\'name\\':\\'신길동\\', \\'year\\':1998, \\'month\\':12, \\'day\\':31}식으로 return\"\\n    return{\\n        \\'name\\':member[\\'name\\'],\\n        \\'year\\':int(member[\\'birth\\'].split(\\'-\\')[0]),\\n        \\'month\\':int(member[\\'birth\\'].split(\\'-\\')[1]),\\n        \\'day\\':int(member[\\'birth\\'].split(\\'-\\')[2]),\\n    }\\nmember_func(member1[0])',\n",
       "  \"list(map(lambda member : {\\n    'name':member['name'],\\n        'year':int(member['birth'].split('-')[0]),\\n        'month':int(member['birth'].split('-')[1]),\\n        'day':int(member['birth'].split('-')[2]),\\n         }, \\n         member1\\n        )\\n    )\",\n",
       "  \"'''\\n예제3. member2를 member1로 바꿉니다\\n'''\",\n",
       "  \"lambda member2 : {'name': member['name'],\\n                  'birth': member['birth'].join('-')[], member2\",\n",
       "  \"lambda member2 : {'name': member['name'],\\n                  'birth': member['birth'].join('-')[]}, member2\",\n",
       "  \"list(map(lambda member2 : {'name': member['name'],\\n                  'birth': member['birth'].join('-')[]}, member2\\n        )\\n    )\",\n",
       "  \"list(map(lambda member : {'name': member['name'],\\n                  'birth': member['birth'].join('-')[]}, member2\\n        )\\n    )\",\n",
       "  \"list(map(lambda member : {'name': member['name'],\\n                  'birth': '-'.join(member['birth'])}, member2\\n        )\\n    )\",\n",
       "  \"list(map(lambda member : {'name': member['name'],\\n                  'birth': '-'.join(member['year', 'month', 'day'])}, member2\\n        )\\n    )\",\n",
       "  \"def join_date(data):\\n    print{[data.get('year'), data.get('month'), data.get('day')]}\\n    year = str(data.get('year'))\\n    month = data.get('month')\\n    if month<10:\\n        month = '0'+str(month)\\n    else:\\n        month = str(month)\\n    day = data.get('day')\\n    if day<10:\\n        day = '0'+str(month)\\n    else:\\n        day = str(month)\\n    return '-'.join([year, data.get('month'), data.get('day')])\",\n",
       "  \"def join_date(data):\\n    year = str(data.get('year'))\\n    month = data.get('month')\\n    if month<10:\\n        month = '0'+str(month)\\n    else:\\n        month = str(month)\\n    day = data.get('day')\\n    if day<10:\\n        day = '0'+str(month)\\n    else:\\n        day = str(month)\\n    return '-'.join([year, data.get('month'), data.get('day')])\",\n",
       "  'def join_date(data):\\n    print(\"{}-{}-{}\".format(data.get(\\'year\\'), data.get(\\'month\\'), data.get(\\'day\\')))',\n",
       "  \"join_date({'year':2000, 'month':1, 'day':1})\",\n",
       "  'def join_date(data):\\n    print(\"{}-{:02}-{:02}\".format(data.get(\\'year\\'), data.get(\\'month\\'), data.get(\\'day\\')))',\n",
       "  \"join_date({'year':2000, 'month':1, 'day':1})\",\n",
       "  'def join_date(data):\\n    print(\"{}-{:02}-{:02}\".format(data.get(\\'year\\'), \\n                                  data.get(\\'month\\'), \\n                                  data.get(\\'day\\')))',\n",
       "  'def join_date(data):\\n    print(\"{year}-{month:02}-{day:02}\".format\\n                                  year = (data.get(\\'year\\'), \\n                                  month = data.get(\\'month\\'), \\n                                  day = data.get(\\'day\\')))',\n",
       "  'def join_date(data):\\n    print(\"{year}-{month:02}-{day:02}\".format(\\n                                  year = data.get(\\'year\\'), \\n                                  month = data.get(\\'month\\'), \\n                                  day = data.get(\\'day\\')))',\n",
       "  'def join_date(data):\\n    print(\"{year}-{month:02}-{day:02}\".format(**data)',\n",
       "  'def join_date(data):\\n    return \"{year}-{month:02}-{day:02}\".format(**data)',\n",
       "  \"join_date({'year':2000, 'month':1, 'day':1})\",\n",
       "  '#{\\'name\\':\\'홍길동\\', \\'year\\':2000, \\'month\\':1, \\'day\\':1}(member2)를\\n#{{\\'name\\':\\'홍길동\\', \\'birth\\':\\'2000-01-01\\'}으로 가공\\nlist(map(lambda member : {\\n    \\'name\\' : member.get(\\'name\\')\\n    \\'birth\\': \"{year}-{month:02}-{day:02}\".format(**data)\\n}\\n        )\\n    )',\n",
       "  '#{\\'name\\':\\'홍길동\\', \\'year\\':2000, \\'month\\':1, \\'day\\':1}(member2)를\\n#{{\\'name\\':\\'홍길동\\', \\'birth\\':\\'2000-01-01\\'}으로 가공\\nlist(map(lambda member : {\\n    \\'name\\' : member.get(\\'name\\'),\\n    \\'birth\\': \"{year}-{month:02}-{day:02}\".format(**data)\\n}\\n        )\\n    )',\n",
       "  '#{\\'name\\':\\'홍길동\\', \\'year\\':2000, \\'month\\':1, \\'day\\':1}(member2)를\\n#{{\\'name\\':\\'홍길동\\', \\'birth\\':\\'2000-01-01\\'}으로 가공\\nlist(map(lambda member : {\\n    \\'name\\' : member.get(\\'name\\'),\\n    \\'birth\\': \"{year}-{month:02}-{day:02}\".format(**data)\\n},\\n         member2\\n        )\\n    )',\n",
       "  \"'''\\n예제2. member1 = [{'name':'홍길동', 'birth':'2000-01-01'},\\n                  {'name':'신길동', 'birth':'1998-12-31'}]를\\n      member2 = [{'name':'홍길동', 'year':2000, 'month':1, 'day':1},\\n                  {'name':'신길동', 'year':1998, 'month':12, 'day':31}]로 바꿉니다\\n'''\\nmember1 = [{'name':'홍길동', 'birth':'2000-01-01'},\\n            {'name':'신길동', 'birth':'1998-12-31'}]\\nmember2 = [{'name':'홍길동', 'year':2000, 'month':1, 'day':1},\\n            {'name':'신길동', 'year':1998, 'month':12, 'day':31}]\",\n",
       "  '#{\\'name\\':\\'홍길동\\', \\'year\\':2000, \\'month\\':1, \\'day\\':1}(member2)를\\n#{{\\'name\\':\\'홍길동\\', \\'birth\\':\\'2000-01-01\\'}으로 가공\\nlist(map(lambda member : {\\n    \\'name\\' : member.get(\\'name\\'),\\n    \\'birth\\': \"{year}-{month:02}-{day:02}\".format(**data)\\n},\\n         member2\\n        )\\n    )',\n",
       "  '#{\\'name\\':\\'홍길동\\', \\'year\\':2000, \\'month\\':1, \\'day\\':1}(member2)를\\n#{{\\'name\\':\\'홍길동\\', \\'birth\\':\\'2000-01-01\\'}으로 가공\\nlist(map(lambda member : {\\n    \\'name\\' : member.get(\\'name\\'),\\n    \\'birth\\': \"{year}-{month:02}-{day:02}\".format(**member)\\n},\\n         member2\\n        )\\n    )',\n",
       "  '#map:[1,2,3,4,5]\\ndef filter_template(func, L = []):\\n    result = []\\n    for l in L:\\n        if func(l):\\n            result.append(l)\\n    return result',\n",
       "  'def everChk(value):\\n    return value%2 == 0\\nevenChk(10), evenChk(-9)',\n",
       "  'def evenChk(value):\\n    return value%2 == 0\\nevenChk(10), evenChk(-9)',\n",
       "  'list_data = [1,2,3,4,5]\\nfilter_template(lambda value : value%2 == 0, list_data)',\n",
       "  'list(filter(lambda value : value%2 == 0, list_data))',\n",
       "  '[for data in list_data if data%2 == 0]',\n",
       "  '[data for data in list_data if data%2 == 0]',\n",
       "  'p = [9, 2, 7]\\np.sort(reverst = True)\\np',\n",
       "  'p = [9, 2, 7]\\np.sort(reverse = True)\\np',\n",
       "  'number2d = [\\n    [9, 9],\\n    [1, 100],\\n    [10, 1]\\n]\\nnumber2d.sort()\\nnumber2d',\n",
       "  'number2d = [\\n    [9, 9],\\n    [1, 100],\\n    [10, 1]\\n]\\nnumber2d.sort(reversr = True)\\nnumber2d',\n",
       "  'number2d = [\\n    [9, 9],\\n    [1, 100],\\n    [10, 1]\\n]\\nnumber2d.sort(reverse = True)\\nnumber2d',\n",
       "  \"pairs = [(1, 'two'), (1, 'one'), (4, 'four'), (3, 'three')]\\npairs.sort()\\npairs\",\n",
       "  \"pairs = [(2, 'two'), (1, 'one'), (4, 'four'), (3, 'three')]\\npairs.sort()\\npairs\",\n",
       "  '#1번째 item기준으로 정렬(abc순)\\npairs.sort(key=lambda pair : pair[1])',\n",
       "  '#1번째 item기준으로 정렬(abc순)\\npairs.sort(key=lambda pair : pair[1])\\npairs',\n",
       "  '# 합이 큰 순으로 정렬\\nnumber2d.sort(key = lambda item : sum(item))',\n",
       "  '(lambda item : sum(item))',\n",
       "  '(lambda item : sum(item))[1,2,3,]',\n",
       "  '# 합이 큰 순으로 정렬\\nnumber2d.sort(key = lambda item : sum(item), reverse = True)\\nnumber2d',\n",
       "  '(lambda item : sum(item))([1,2,3,])',\n",
       "  '# 합이 큰 순으로 정렬\\nnumber2d.sort(key = lambda item : sum(item), reverse = True)\\nnumber2d',\n",
       "  'def add(key, reverse=5):\\n    return key+reverse',\n",
       "  'add(reverse = 5, key)',\n",
       "  'students.sort()',\n",
       "  '#이름순(ㄱㄴㄷ순)으로 정렬\\nstudents.sort(key = lambda item : int(item))',\n",
       "  \"student = [\\n    {'name':'홍길동', 'score':90}\\n    {'name':'김길동', 'score':50}\\n    {'name':'윤길동', 'score':99}\\n]\",\n",
       "  \"student = [\\n    {'name':'홍길동', 'score':90},\\n    {'name':'김길동', 'score':50},\\n    {'name':'윤길동', 'score':99}\\n]\",\n",
       "  '#이름순(ㄱㄴㄷ순)으로 정렬\\nstudents.sort(key = lambda item : int(item))',\n",
       "  \"students = [\\n    {'name':'홍길동', 'score':90},\\n    {'name':'김길동', 'score':50},\\n    {'name':'윤길동', 'score':99}\\n]\",\n",
       "  '#이름순(ㄱㄴㄷ순)으로 정렬\\nstudents.sort(key = lambda item : int(item))',\n",
       "  '#이름순(ㄱㄴㄷ순)으로 정렬\\nstudents.sort(key = lambda item : str(item))',\n",
       "  '#이름순(ㄱㄴㄷ순)으로 정렬\\nstudents.sort(key = lambda item : str(item))\\nstudents',\n",
       "  '#score순으로 내림차순 정렬\\nstudents.sort(key = lambda item : int(item), reverse = True)',\n",
       "  \"#이름순(ㄱㄴㄷ순)으로 정렬\\nstudents.sort(key = lambda item : item.get('name', '힣'))\\nstudents\",\n",
       "  \"students = [\\n    {'name':'홍길동', 'score':90},\\n    {'name':'김길동', 'score':50},\\n    {'name':'윤길동', 'score':99}\\n    {'score':100}\\n]\",\n",
       "  \"students = [\\n    {'name':'홍길동', 'score':90},\\n    {'name':'김길동', 'score':50},\\n    {'name':'윤길동', 'score':99},\\n    {'score':100}\\n]\",\n",
       "  \"#이름순(ㄱㄴㄷ순)으로 정렬\\nstudents.sort(key = lambda item : item.get('name', '힣'))\\nstudents\",\n",
       "  \"#score순으로 내림차순 정렬\\nstudents.sort(key = lambda item : item.get('score'), reverse = True)\",\n",
       "  \"#score순으로 내림차순 정렬\\nstudents.sort(key = lambda item : item.get('score'), reverse = True)\\nstudents\",\n",
       "  \"#score순으로 내림차순 정렬\\nstudents.sort(key = lambda item : item.get('score', 0), reverse = True)\\nstudents\",\n",
       "  \"#책제목순(ㄱㄴㄷ순), 저자순 정렬(ㄱㄴㅇ순), 가격순 정렬\\nbooks = [\\n    {'no':1, 'title':'강남 아파트 인사이트', 'writter':'오스틀로이드', 'price':'25,200'},\\n    {'no':2, 'title':'단 한 번의 삶', 'writter':'김영하', 'price':'18,100'},\\n    {'no':3, 'title':'흔한남매19', 'writter':'백난도', 'price':'14,220'},\\n    {'no':4, 'title':'가격이잘못', 'writter':'홍길동', 'price':'-'},\\n    {'no':5, 'title':'가격이숫자', 'writter':'신길동', 'price':900},\\n    {'no':6, 'title':'가격이없음', 'writter':'김길동'}\\n]\",\n",
       "  \"books.sort(key = lambda book : book.get('title'))\\nbooks\",\n",
       "  \"books.sort(key = lambda book : book.get('writter'))\\nbooks\",\n",
       "  \"books.sort(key = lambda book : book.get('price', 0))\\nbooks\",\n",
       "  \"# '1,4000',800,'-' -> 14000, 800, 0\\ndef parse_int(price):\\n    print(type(price))\",\n",
       "  'parse_int(800)',\n",
       "  \"# '1,4000',800,'-' -> 14000, 800, 0\\ndef parse_int(price):\\n    #print(type(price))\\n    if isinstance(price, int):\\n        return price\",\n",
       "  'parse_int(800)',\n",
       "  '# \\'1,4000\\', \"2000\", 800,\\'-\\' -> 14000, 2000, 800, 0\\ndef parse_int(price):\\n    #print(type(price))\\n    if price.replace(\\',\\',\\'\\').isdigit():\\n        return int(price.replace(\\',\\',\\'\\'))\\n    elif isinstance(price, int):\\n        return price',\n",
       "  'parse_int(800)',\n",
       "  '# \\'1,4000\\', \"2000\", 800,\\'-\\' -> 14000, 2000, 800, 0\\ndef parse_int(price):\\n    #print(type(price))\\n    if isinstance(price, str) and price.replace(\\',\\',\\'\\').isdigit():\\n        return int(price.replace(\\',\\',\\'\\'))\\n    elif isinstance(price, int):\\n        return price',\n",
       "  'parse_int(800)',\n",
       "  'parse_int(\"800\")',\n",
       "  'parse_int(\"800\"), parse_int(\\'-\\')',\n",
       "  'parse_int(\"800\"), parse_int(-)',\n",
       "  'parse_int(\"800\"), parse_int(\\'-\\')',\n",
       "  '# \\'1,4000\\', \"2000\", 800,\\'-\\' -> 14000, 2000, 800, 0\\ndef parse_int(price):\\n    #print(type(price))\\n    if isinstance(price, str) and price.replace(\\',\\',\\'\\').isdigit():\\n        return int(price.replace(\\',\\',\\'\\'))\\n    elif isinstance(price, int):\\n        return price\\n    else:\\n        return 0',\n",
       "  'parse_int(\"800\"), parse_int(\\'-\\')',\n",
       "  \"# # {'no': 6, 'title': '가격이없음', 'writter': '김길동'} => 0 리턴\\n# {'no': 3, 'title': '흔한남매19', 'writter': '백난도', 'price': '14,220'} => 14220리턴\\n# {'no': 5, 'title': '가격이숫자', 'writter': '신길동', 'price': 900} => 900\\ndef parse_int(book):\\n    if isinstance(book.get('price'), str) and book.get(price).replace(',','').isdigit():\\n        return int(book.get('price').replace(',',''))\\n    elif isinstance(book.get('price'), int):\\n        return book.get('price')\\n    else:\\n        return 0\",\n",
       "  \"# # {'no': 6, 'title': '가격이없음', 'writter': '김길동'} => 0 리턴\\n# {'no': 3, 'title': '흔한남매19', 'writter': '백난도', 'price': '14,220'} => 14220리턴\\n# {'no': 5, 'title': '가격이숫자', 'writter': '신길동', 'price': 900} => 900\\ndef parse_int(book):\\n    if isinstance(book.get('price'), str) and \\\\\\n    book.get(price).replace(',','').isdigit():\\n        return int(book.get('price').replace(',',''))\\n    elif isinstance(book.get('price'), int):\\n        return book.get('price')\\n    else:\\n        return 0\\nparse_int(book[0])\",\n",
       "  \"# # {'no': 6, 'title': '가격이없음', 'writter': '김길동'} => 0 리턴\\n# {'no': 3, 'title': '흔한남매19', 'writter': '백난도', 'price': '14,220'} => 14220리턴\\n# {'no': 5, 'title': '가격이숫자', 'writter': '신길동', 'price': 900} => 900\\ndef parse_int(book):\\n    if isinstance(book.get('price'), str) and \\\\\\n    book.get(price).replace(',','').isdigit():\\n        return int(book.get('price').replace(',',''))\\n    elif isinstance(book.get('price'), int):\\n        return book.get('price')\\n    else:\\n        return 0\\nparse_int(books[0])\",\n",
       "  \"# # {'no': 6, 'title': '가격이없음', 'writter': '김길동'} => 0 리턴\\n# {'no': 3, 'title': '흔한남매19', 'writter': '백난도', 'price': '14,220'} => 14220리턴\\n# {'no': 5, 'title': '가격이숫자', 'writter': '신길동', 'price': 900} => 900\\ndef parse_int(book):\\n    if isinstance(book.get('price'), str) and \\\\\\n    book.get(price).replace(',','').isdigit():\\n        return int(book.get('price').replace(',',''))\\n    elif isinstance(book.get('price'), int):\\n        return book.get('price')\\n    else:\\n        return 0\\nparse_int(books[0]), parse_int(book[3])\",\n",
       "  \"# # {'no': 6, 'title': '가격이없음', 'writter': '김길동'} => 0 리턴\\n# {'no': 3, 'title': '흔한남매19', 'writter': '백난도', 'price': '14,220'} => 14220리턴\\n# {'no': 5, 'title': '가격이숫자', 'writter': '신길동', 'price': 900} => 900\\ndef parse_int(book):\\n    if isinstance(book.get('price'), str) and \\\\\\n    book.get(price).replace(',','').isdigit():\\n        return int(book.get('price').replace(',',''))\\n    elif isinstance(book.get('price'), int):\\n        return book.get('price')\\n    else:\\n        return 0\\nparse_int(books[0]), parse_int(books[3])\",\n",
       "  \"# # {'no': 6, 'title': '가격이없음', 'writter': '김길동'} => 0 리턴\\n# {'no': 3, 'title': '흔한남매19', 'writter': '백난도', 'price': '14,220'} => 14220리턴\\n# {'no': 5, 'title': '가격이숫자', 'writter': '신길동', 'price': 900} => 900\\ndef parse_int(book):\\n    if isinstance(book.get('price'), str) and \\\\\\n    book.get(price).replace(',','').isdigit():\\n        return int(book.get('price').replace(',',''))\\n    elif isinstance(book.get('price'), int):\\n        return book.get('price')\\n    else:\\n        return 0\\nparse_int(books[0]), parse_int(books[3]), parse_int(books[2])\",\n",
       "  \"# # {'no': 6, 'title': '가격이없음', 'writter': '김길동'} => 0 리턴\\n# {'no': 3, 'title': '흔한남매19', 'writter': '백난도', 'price': '14,220'} => 14220리턴\\n# {'no': 5, 'title': '가격이숫자', 'writter': '신길동', 'price': 900} => 900\\ndef parse_int(book):\\n    if isinstance(book.get('price'), str) and \\\\\\n    book.get('price').replace(',','').isdigit():\\n        return int(book.get('price').replace(',',''))\\n    elif isinstance(book.get('price'), int):\\n        return book.get('price')\\n    else:\\n        return 0\\nparse_int(books[0]), parse_int(books[3]), parse_int(books[2])\",\n",
       "  \"# # {'no': 6, 'title': '가격이없음', 'writter': '김길동'} => 0 리턴\\n# {'no': 3, 'title': '흔한남매19', 'writter': '백난도', 'price': '14,220'} => 14220리턴\\n# {'no': 5, 'title': '가격이숫자', 'writter': '신길동', 'price': 900} => 900\\ndef parse_int(book):\\n    if isinstance(book.get('price'), str) and \\\\\\n    book.get('price').replace(',','').isdigit():\\n        return int(book.get('price').replace(',',''))\\n    elif isinstance(book.get('price'), int):\\n        return book.get('price')\\n    else:\\n        return 0\\nparse_int(books[0]), parse_int(books[3]), parse_int(books[2]), parse_int(books[5])\",\n",
       "  \"books = [\\n    {'no':1, 'title':'강남 아파트 인사이트', 'writter':'오스틀로이드', 'price':'25,200'},\\n    {'no':2, 'title':'단 한 번의 삶', 'writter':'김영하', 'price':'18,100'},\\n    {'no':3, 'title':'흔한남매19', 'writter':'백난도', 'price':'14220'},\\n    {'no':4, 'title':'가격이잘못', 'writter':'홍길동', 'price':'-'},\\n    {'no':5, 'title':'가격이숫자', 'writter':'신길동', 'price':900},\\n    {'no':6, 'title':'가격이없음', 'writter':'김길동'}\\n]\\ncopy_books = books.copy()\\ncopy_books.sort()\",\n",
       "  \"books = [\\n    {'no':1, 'title':'강남 아파트 인사이트', 'writter':'오스틀로이드', 'price':'25,200'},\\n    {'no':2, 'title':'단 한 번의 삶', 'writter':'김영하', 'price':'18,100'},\\n    {'no':3, 'title':'흔한남매19', 'writter':'백난도', 'price':'14220'},\\n    {'no':4, 'title':'가격이잘못', 'writter':'홍길동', 'price':'-'},\\n    {'no':5, 'title':'가격이숫자', 'writter':'신길동', 'price':900},\\n    {'no':6, 'title':'가격이없음', 'writter':'김길동'}\\n]\\ncopy_books = books.copy()\",\n",
       "  'copy_books',\n",
       "  \"books = [\\n    {'no':1, 'title':'강남 아파트 인사이트', 'writter':'오스틀로이드', 'price':'25,200'},\\n    {'no':2, 'title':'단 한 번의 삶', 'writter':'김영하', 'price':'18,100'},\\n    {'no':3, 'title':'흔한남매19', 'writter':'백난도', 'price':'14220'},\\n    {'no':4, 'title':'가격이잘못', 'writter':'홍길동', 'price':'-'},\\n    {'no':5, 'title':'가격이숫자', 'writter':'신길동', 'price':900},\\n    {'no':6, 'title':'가격이없음', 'writter':'김길동'}\\n]\\ncopy_books = books.copy()\",\n",
       "  \"copy_books.sort(key = lambda book : \\n                int(book.get('price').replace(',','')) \\\\\\n                if isinstance(book.get('price'),str) and \\\\\\n               book.get('price').replace(',','').isdigit() else\\\\\\n               book.get('price') if isinstance(book.get('price'),int) else\\\\\\n               0\\n               )\",\n",
       "  'copy_books',\n",
       "  'books',\n",
       "  'books',\n",
       "  \"#람다식 테스트 확인\\n(lambda book:\\n               int(book.get('price').replace(',','')) \\\\\\n                if isinstance(book.get('price'),str) and \\\\\\n               book.get('price').replace(',','').isdigit() else\\\\\\n               book.get('price') if isinstance(book.get('price'),int) else\\\\\\n               0)(books[0])\",\n",
       "  '#함수를 return\\ndef make_box(shape): #shape: [l]=>len가 l인 list를 생성하는 함수 return\\n                     #       [r,c] => r행c열인 list를 생성하는 함수 return\\n                     #       [d,r,c]=>d면 r행 c열 3차원 list를 생성하는 함수 return\\n    def box(init_value):\\n        if len(shape) == 1:\\n            return [init_value]*shape[0]\\n        elif len(shape) == 2:\\n            return[[init_value]*shape[1]]*shape[0]\\n    return box',\n",
       "  'line_func = make_box([2,3])',\n",
       "  'line_func = make_box([2,3])\\nline_finc(3)',\n",
       "  'line_func = make_box([2,3])\\nline_func(3)',\n",
       "  'line_func1 = make_box([10])\\nline_finc1(3)',\n",
       "  'line_func1 = make_box([10])\\nline_func1(3)',\n",
       "  'def make_box(shape):\\n    if len(shape) == 1:\\n        return lambda init_value : [init_value]*shape[0]\\n    elif len(shape) == 2:\\n        return lambda init_value : [[init_value]*shape[1]]*shape[0]',\n",
       "  'golbals() #전역변수 리스트',\n",
       "  'globals() #전역변수 리스트'],\n",
       " '_oh': {10: {'year': 2000, 'month': 1, 'day': 1},\n",
       "  14: {'year': 2000, 'month': 1, 'day': 1},\n",
       "  18: {'year': 2000, 'month': 1, 'day': 1},\n",
       "  20: {'name': '홍길동', 'year': 2000, 'month': 1, 'day': 1},\n",
       "  22: [{'name': '홍길동', 'year': 2000, 'month': 1, 'day': 1},\n",
       "   {'name': '신길동', 'year': 1998, 'month': 12, 'day': 31}],\n",
       "  25: [{'name': '홍길동', 'year': 2000, 'month': 1, 'day': 1},\n",
       "   {'name': '신길동', 'year': 1998, 'month': 12, 'day': 31}],\n",
       "  29: {'year': 2000, 'month': 1, 'day': 1},\n",
       "  30: {'name': '홍길동', 'year': 2000, 'month': 1, 'day': 1},\n",
       "  31: [{'name': '홍길동', 'year': 2000, 'month': 1, 'day': 1},\n",
       "   {'name': '신길동', 'year': 1998, 'month': 12, 'day': 31}],\n",
       "  32: '\\n예제3. member2를 member1로 바꿉니다\\n',\n",
       "  50: '2000-01-01',\n",
       "  56: [{'name': '홍길동', 'birth': '2000-01-01'},\n",
       "   {'name': '신길동', 'birth': '1998-12-31'}],\n",
       "  59: (True, False),\n",
       "  60: [2, 4],\n",
       "  61: [2, 4],\n",
       "  63: [2, 4],\n",
       "  65: [9, 7, 2],\n",
       "  66: [[1, 100], [9, 9], [10, 1]],\n",
       "  68: [[1, 100], [9, 9], [10, 1]],\n",
       "  69: [(1, 'one'), (1, 'two'), (3, 'three'), (4, 'four')],\n",
       "  70: [(4, 'four'), (1, 'one'), (3, 'three'), (2, 'two')],\n",
       "  72: [(4, 'four'), (1, 'one'), (3, 'three'), (2, 'two')],\n",
       "  74: <function __main__.<lambda>(item)>,\n",
       "  76: [[1, 100], [9, 9], [10, 1]],\n",
       "  77: 6,\n",
       "  78: [[1, 100], [9, 9], [10, 1]],\n",
       "  89: [{'name': '김길동', 'score': 50},\n",
       "   {'name': '윤길동', 'score': 99},\n",
       "   {'name': '홍길동', 'score': 90}],\n",
       "  91: [{'name': '김길동', 'score': 50},\n",
       "   {'name': '윤길동', 'score': 99},\n",
       "   {'name': '홍길동', 'score': 90}],\n",
       "  94: [{'score': 100},\n",
       "   {'name': '윤길동', 'score': 99},\n",
       "   {'name': '홍길동', 'score': 90},\n",
       "   {'name': '김길동', 'score': 50}],\n",
       "  96: [{'score': 100},\n",
       "   {'name': '윤길동', 'score': 99},\n",
       "   {'name': '홍길동', 'score': 90},\n",
       "   {'name': '김길동', 'score': 50}],\n",
       "  97: [{'score': 100},\n",
       "   {'name': '윤길동', 'score': 99},\n",
       "   {'name': '홍길동', 'score': 90},\n",
       "   {'name': '김길동', 'score': 50}],\n",
       "  99: [{'no': 6, 'title': '가격이없음', 'writter': '김길동'},\n",
       "   {'no': 2, 'title': '단 한 번의 삶', 'writter': '김영하', 'price': '18,100'},\n",
       "   {'no': 3, 'title': '흔한남매19', 'writter': '백난도', 'price': '14,220'},\n",
       "   {'no': 5, 'title': '가격이숫자', 'writter': '신길동', 'price': 900},\n",
       "   {'no': 1, 'title': '강남 아파트 인사이트', 'writter': '오스틀로이드', 'price': '25,200'},\n",
       "   {'no': 4, 'title': '가격이잘못', 'writter': '홍길동', 'price': '-'}],\n",
       "  100: [{'no': 6, 'title': '가격이없음', 'writter': '김길동'},\n",
       "   {'no': 2, 'title': '단 한 번의 삶', 'writter': '김영하', 'price': '18,100'},\n",
       "   {'no': 3, 'title': '흔한남매19', 'writter': '백난도', 'price': '14,220'},\n",
       "   {'no': 5, 'title': '가격이숫자', 'writter': '신길동', 'price': 900},\n",
       "   {'no': 1, 'title': '강남 아파트 인사이트', 'writter': '오스틀로이드', 'price': '25,200'},\n",
       "   {'no': 4, 'title': '가격이잘못', 'writter': '홍길동', 'price': '-'}],\n",
       "  105: 800,\n",
       "  109: 800,\n",
       "  110: 800,\n",
       "  111: (800, None),\n",
       "  113: (800, None),\n",
       "  115: (800, 0),\n",
       "  118: 0,\n",
       "  120: (0, 900),\n",
       "  122: (0, 900, 14220),\n",
       "  123: (0, 900, 14220, 0),\n",
       "  126: [{'no': 1,\n",
       "    'title': '강남 아파트 인사이트',\n",
       "    'writter': '오스틀로이드',\n",
       "    'price': '25,200'},\n",
       "   {'no': 2, 'title': '단 한 번의 삶', 'writter': '김영하', 'price': '18,100'},\n",
       "   {'no': 3, 'title': '흔한남매19', 'writter': '백난도', 'price': '14220'},\n",
       "   {'no': 4, 'title': '가격이잘못', 'writter': '홍길동', 'price': '-'},\n",
       "   {'no': 5, 'title': '가격이숫자', 'writter': '신길동', 'price': 900},\n",
       "   {'no': 6, 'title': '가격이없음', 'writter': '김길동'}],\n",
       "  129: [{'no': 4, 'title': '가격이잘못', 'writter': '홍길동', 'price': '-'},\n",
       "   {'no': 6, 'title': '가격이없음', 'writter': '김길동'},\n",
       "   {'no': 5, 'title': '가격이숫자', 'writter': '신길동', 'price': 900},\n",
       "   {'no': 3, 'title': '흔한남매19', 'writter': '백난도', 'price': '14220'},\n",
       "   {'no': 2, 'title': '단 한 번의 삶', 'writter': '김영하', 'price': '18,100'},\n",
       "   {'no': 1, 'title': '강남 아파트 인사이트', 'writter': '오스틀로이드', 'price': '25,200'}],\n",
       "  130: [{'no': 1,\n",
       "    'title': '강남 아파트 인사이트',\n",
       "    'writter': '오스틀로이드',\n",
       "    'price': '25,200'},\n",
       "   {'no': 2, 'title': '단 한 번의 삶', 'writter': '김영하', 'price': '18,100'},\n",
       "   {'no': 3, 'title': '흔한남매19', 'writter': '백난도', 'price': '14220'},\n",
       "   {'no': 4, 'title': '가격이잘못', 'writter': '홍길동', 'price': '-'},\n",
       "   {'no': 5, 'title': '가격이숫자', 'writter': '신길동', 'price': 900},\n",
       "   {'no': 6, 'title': '가격이없음', 'writter': '김길동'}],\n",
       "  131: [{'no': 1,\n",
       "    'title': '강남 아파트 인사이트',\n",
       "    'writter': '오스틀로이드',\n",
       "    'price': '25,200'},\n",
       "   {'no': 2, 'title': '단 한 번의 삶', 'writter': '김영하', 'price': '18,100'},\n",
       "   {'no': 3, 'title': '흔한남매19', 'writter': '백난도', 'price': '14220'},\n",
       "   {'no': 4, 'title': '가격이잘못', 'writter': '홍길동', 'price': '-'},\n",
       "   {'no': 5, 'title': '가격이숫자', 'writter': '신길동', 'price': 900},\n",
       "   {'no': 6, 'title': '가격이없음', 'writter': '김길동'}],\n",
       "  132: 25200,\n",
       "  136: [[3, 3, 3], [3, 3, 3]],\n",
       "  138: [3, 3, 3, 3, 3, 3, 3, 3, 3, 3]},\n",
       " '_dh': [WindowsPath('C:/ai_x/source/01_python')],\n",
       " 'In': ['',\n",
       "  \"'''\\n예제2. member1 = [{'name':'홍길동', 'birth':'2000-01-01'},\\n                  {'name':'신길동', 'birth':'1998-12-31'}]를\\n      member2 = [{'name':'홍길동', 'year':2000, 'month':1, 'day':1},\\n                  {'name':'신길동', 'year':1998, 'month':12, 'day':31}]로 바꿉니다\\n'''\\nmembers1 = [{'name':'홍길동', 'birth':'2000-01-01'},\\n            {'name':'신길동', 'birth':'1998-12-31'}]\",\n",
       "  \"#2000-01-01 -> {'year':1998, 'month':12, 'day':31}\\ndef split_data(date):\\n    split_data = date.split('-')\\n    print(split_data[0], split_data[1], split_data[2])\",\n",
       "  \"#2000-01-01 -> {'year':1998, 'month':12, 'day':31}\\ndef split_data(date):\\n    split_data = date.split('-')\\n    print(split_data[0], split_data[1], split_data[2])\\n    return {'year': int(split_data[0])\\n           'month': int(split_data[1])\\n           'day': int(split_data[2])}\",\n",
       "  \"#2000-01-01 -> {'year':1998, 'month':12, 'day':31}\\ndef split_date(date):\\n    split_data = date.split('-')\\n    print(split_data[0], split_data[1], split_data[2])\\n    return {'year': int(split_data[0])\\n           'month': int(split_data[1])\\n           'day': int(split_data[2])}\",\n",
       "  \"#2000-01-01 -> {'year':1998, 'month':12, 'day':31}\\ndef split_date(date):\\n    split_data = date.split('-')\\n    print(split_data[0], split_data[1], split_data[2])\\n    return {'year': int(split_data[0]),\\n           'month': int(split_data[1]),\\n           'day'  : int(split_data[2])\\n           }\",\n",
       "  \"split_data('2000-01-01')\",\n",
       "  \"#2000-01-01 -> {'year':1998, 'month':12, 'day':31}\\ndef split_date(date):\\n    split_data = date.split('-')\\n#     print(split_data[0], split_data[1], split_data[2])\\n    return {'year': int(split_data[0]),\\n           'month': int(split_data[1]),\\n           'day'  : int(split_data[2])\\n           }\",\n",
       "  \"split_data('2000-01-01')\",\n",
       "  \"split_data('2000-01-01')\",\n",
       "  \"split_date('2000-01-01')\",\n",
       "  'def member_func(member): #{\\'name\\':\\'신길동\\', \\'birth\\':\\'1998-12-31\\'}\\n    \"\\'name\\':\\'신길동\\', \\'year\\':1998, \\'month\\':12, \\'day\\':31}식으로 return\"\\n    return{\\n        \\'name\\':member[\\'name\\'],\\n        \\'year\\':int(member[\\'birth\\'].split(\\'-\\')[0]),\\n        \\'month\\':int(member[\\'birth\\'].split(\\'-\\')[1]),\\n        \\'day\\':int(member[\\'birth\\'].split(\\'-\\')[2]),\\n    }',\n",
       "  \"'''\\n예제2. member1 = [{'name':'홍길동', 'birth':'2000-01-01'},\\n                  {'name':'신길동', 'birth':'1998-12-31'}]를\\n      member2 = [{'name':'홍길동', 'year':2000, 'month':1, 'day':1},\\n                  {'name':'신길동', 'year':1998, 'month':12, 'day':31}]로 바꿉니다\\n'''\\nmembers1 = [{'name':'홍길동', 'birth':'2000-01-01'},\\n            {'name':'신길동', 'birth':'1998-12-31'}]\",\n",
       "  \"#2000-01-01 -> {'year':1998, 'month':12, 'day':31}\\ndef split_date(date):\\n    split_data = date.split('-')\\n#     print(split_data[0], split_data[1], split_data[2])\\n    return {'year': int(split_data[0]),\\n           'month': int(split_data[1]),\\n           'day'  : int(split_data[2])\\n           }\",\n",
       "  \"split_date('2000-01-01')\",\n",
       "  'def member_func(member): #{\\'name\\':\\'신길동\\', \\'birth\\':\\'1998-12-31\\'}\\n    \"\\'name\\':\\'신길동\\', \\'year\\':1998, \\'month\\':12, \\'day\\':31}식으로 return\"\\n    return{\\n        \\'name\\':member[\\'name\\'],\\n        \\'year\\':int(member[\\'birth\\'].split(\\'-\\')[0]),\\n        \\'month\\':int(member[\\'birth\\'].split(\\'-\\')[1]),\\n        \\'day\\':int(member[\\'birth\\'].split(\\'-\\')[2]),\\n    }\\nmember_func(menber1[0])',\n",
       "  \"'''\\n예제2. member1 = [{'name':'홍길동', 'birth':'2000-01-01'},\\n                  {'name':'신길동', 'birth':'1998-12-31'}]를\\n      member2 = [{'name':'홍길동', 'year':2000, 'month':1, 'day':1},\\n                  {'name':'신길동', 'year':1998, 'month':12, 'day':31}]로 바꿉니다\\n'''\\nmember1 = [{'name':'홍길동', 'birth':'2000-01-01'},\\n            {'name':'신길동', 'birth':'1998-12-31'}]\",\n",
       "  \"#2000-01-01 -> {'year':1998, 'month':12, 'day':31}\\ndef split_date(date):\\n    split_data = date.split('-')\\n#     print(split_data[0], split_data[1], split_data[2])\\n    return {'year': int(split_data[0]),\\n           'month': int(split_data[1]),\\n           'day'  : int(split_data[2])\\n           }\",\n",
       "  \"split_date('2000-01-01')\",\n",
       "  'def member_func(member): #{\\'name\\':\\'신길동\\', \\'birth\\':\\'1998-12-31\\'}\\n    \"\\'name\\':\\'신길동\\', \\'year\\':1998, \\'month\\':12, \\'day\\':31}식으로 return\"\\n    return{\\n        \\'name\\':member[\\'name\\'],\\n        \\'year\\':int(member[\\'birth\\'].split(\\'-\\')[0]),\\n        \\'month\\':int(member[\\'birth\\'].split(\\'-\\')[1]),\\n        \\'day\\':int(member[\\'birth\\'].split(\\'-\\')[2]),\\n    }\\nmember_func(menber1[0])',\n",
       "  'def member_func(member): #{\\'name\\':\\'신길동\\', \\'birth\\':\\'1998-12-31\\'}\\n    \"\\'name\\':\\'신길동\\', \\'year\\':1998, \\'month\\':12, \\'day\\':31}식으로 return\"\\n    return{\\n        \\'name\\':member[\\'name\\'],\\n        \\'year\\':int(member[\\'birth\\'].split(\\'-\\')[0]),\\n        \\'month\\':int(member[\\'birth\\'].split(\\'-\\')[1]),\\n        \\'day\\':int(member[\\'birth\\'].split(\\'-\\')[2]),\\n    }\\nmember_func(member1[0])',\n",
       "  \"list(map(lambda member : {\\n    'name':member['name'],\\n        'year':int(member['birth'].split('-')[0]),\\n        'month':int(member['birth'].split('-')[1]),\\n        'day':int(member['birth'].split('-')[2]),\\n}))\",\n",
       "  \"list(map(lambda member : {\\n    'name':member['name'],\\n        'year':int(member['birth'].split('-')[0]),\\n        'month':int(member['birth'].split('-')[1]),\\n        'day':int(member['birth'].split('-')[2]),\\n}, member1\\n        ))\",\n",
       "  \"'''\\n예제2. member1 = [{'name':'홍길동', 'birth':'2000-01-01'},\\n                  {'name':'신길동', 'birth':'1998-12-31'}]를\\n      member2 = [{'name':'홍길동', 'year':2000, 'month':1, 'day':1},\\n                  {'name':'신길동', 'year':1998, 'month':12, 'day':31}]로 바꿉니다\\n'''\\nmember1 = [{'name':'홍길동', 'birth':'2000-01-01'},\\n            {'name':'신길동', 'birth':'1998-12-31'}]\\nmember2 = [{'name':'홍길동', 'year':2000, 'month':1, 'day':1},\\n            {'name':'신길동', 'year':1998, 'month':12, 'day':31}]\",\n",
       "  \"lambda member2 : {'name': member['name'],\\n                  'birth': member['birth'].join('-'), member2\",\n",
       "  \"list(map(lambda member : {\\n    'name':member['name'],\\n        'year':int(member['birth'].split('-')[0]),\\n        'month':int(member['birth'].split('-')[1]),\\n        'day':int(member['birth'].split('-')[2]),\\n         }, \\n         member1\\n        )\\n    )\",\n",
       "  \"lambda member2 : {'name': member['name'],\\n                  'birth': member['birth'].join('-'), member2\",\n",
       "  \"'''\\n예제2. member1 = [{'name':'홍길동', 'birth':'2000-01-01'},\\n                  {'name':'신길동', 'birth':'1998-12-31'}]를\\n      member2 = [{'name':'홍길동', 'year':2000, 'month':1, 'day':1},\\n                  {'name':'신길동', 'year':1998, 'month':12, 'day':31}]로 바꿉니다\\n'''\\nmember1 = [{'name':'홍길동', 'birth':'2000-01-01'},\\n            {'name':'신길동', 'birth':'1998-12-31'}]\\nmember2 = [{'name':'홍길동', 'year':2000, 'month':1, 'day':1},\\n            {'name':'신길동', 'year':1998, 'month':12, 'day':31}]\",\n",
       "  \"#2000-01-01 -> {'year':1998, 'month':12, 'day':31}\\ndef split_date(date):\\n    split_data = date.split('-')\\n#     print(split_data[0], split_data[1], split_data[2])\\n    return {'year': int(split_data[0]),\\n           'month': int(split_data[1]),\\n           'day'  : int(split_data[2])\\n           }\",\n",
       "  \"split_date('2000-01-01')\",\n",
       "  'def member_func(member): #{\\'name\\':\\'신길동\\', \\'birth\\':\\'1998-12-31\\'}\\n    \"\\'name\\':\\'신길동\\', \\'year\\':1998, \\'month\\':12, \\'day\\':31}식으로 return\"\\n    return{\\n        \\'name\\':member[\\'name\\'],\\n        \\'year\\':int(member[\\'birth\\'].split(\\'-\\')[0]),\\n        \\'month\\':int(member[\\'birth\\'].split(\\'-\\')[1]),\\n        \\'day\\':int(member[\\'birth\\'].split(\\'-\\')[2]),\\n    }\\nmember_func(member1[0])',\n",
       "  \"list(map(lambda member : {\\n    'name':member['name'],\\n        'year':int(member['birth'].split('-')[0]),\\n        'month':int(member['birth'].split('-')[1]),\\n        'day':int(member['birth'].split('-')[2]),\\n         }, \\n         member1\\n        )\\n    )\",\n",
       "  \"'''\\n예제3. member2를 member1로 바꿉니다\\n'''\",\n",
       "  \"lambda member2 : {'name': member['name'],\\n                  'birth': member['birth'].join('-')[], member2\",\n",
       "  \"lambda member2 : {'name': member['name'],\\n                  'birth': member['birth'].join('-')[]}, member2\",\n",
       "  \"list(map(lambda member2 : {'name': member['name'],\\n                  'birth': member['birth'].join('-')[]}, member2\\n        )\\n    )\",\n",
       "  \"list(map(lambda member : {'name': member['name'],\\n                  'birth': member['birth'].join('-')[]}, member2\\n        )\\n    )\",\n",
       "  \"list(map(lambda member : {'name': member['name'],\\n                  'birth': '-'.join(member['birth'])}, member2\\n        )\\n    )\",\n",
       "  \"list(map(lambda member : {'name': member['name'],\\n                  'birth': '-'.join(member['year', 'month', 'day'])}, member2\\n        )\\n    )\",\n",
       "  \"def join_date(data):\\n    print{[data.get('year'), data.get('month'), data.get('day')]}\\n    year = str(data.get('year'))\\n    month = data.get('month')\\n    if month<10:\\n        month = '0'+str(month)\\n    else:\\n        month = str(month)\\n    day = data.get('day')\\n    if day<10:\\n        day = '0'+str(month)\\n    else:\\n        day = str(month)\\n    return '-'.join([year, data.get('month'), data.get('day')])\",\n",
       "  \"def join_date(data):\\n    year = str(data.get('year'))\\n    month = data.get('month')\\n    if month<10:\\n        month = '0'+str(month)\\n    else:\\n        month = str(month)\\n    day = data.get('day')\\n    if day<10:\\n        day = '0'+str(month)\\n    else:\\n        day = str(month)\\n    return '-'.join([year, data.get('month'), data.get('day')])\",\n",
       "  'def join_date(data):\\n    print(\"{}-{}-{}\".format(data.get(\\'year\\'), data.get(\\'month\\'), data.get(\\'day\\')))',\n",
       "  \"join_date({'year':2000, 'month':1, 'day':1})\",\n",
       "  'def join_date(data):\\n    print(\"{}-{:02}-{:02}\".format(data.get(\\'year\\'), data.get(\\'month\\'), data.get(\\'day\\')))',\n",
       "  \"join_date({'year':2000, 'month':1, 'day':1})\",\n",
       "  'def join_date(data):\\n    print(\"{}-{:02}-{:02}\".format(data.get(\\'year\\'), \\n                                  data.get(\\'month\\'), \\n                                  data.get(\\'day\\')))',\n",
       "  'def join_date(data):\\n    print(\"{year}-{month:02}-{day:02}\".format\\n                                  year = (data.get(\\'year\\'), \\n                                  month = data.get(\\'month\\'), \\n                                  day = data.get(\\'day\\')))',\n",
       "  'def join_date(data):\\n    print(\"{year}-{month:02}-{day:02}\".format(\\n                                  year = data.get(\\'year\\'), \\n                                  month = data.get(\\'month\\'), \\n                                  day = data.get(\\'day\\')))',\n",
       "  'def join_date(data):\\n    print(\"{year}-{month:02}-{day:02}\".format(**data)',\n",
       "  'def join_date(data):\\n    return \"{year}-{month:02}-{day:02}\".format(**data)',\n",
       "  \"join_date({'year':2000, 'month':1, 'day':1})\",\n",
       "  '#{\\'name\\':\\'홍길동\\', \\'year\\':2000, \\'month\\':1, \\'day\\':1}(member2)를\\n#{{\\'name\\':\\'홍길동\\', \\'birth\\':\\'2000-01-01\\'}으로 가공\\nlist(map(lambda member : {\\n    \\'name\\' : member.get(\\'name\\')\\n    \\'birth\\': \"{year}-{month:02}-{day:02}\".format(**data)\\n}\\n        )\\n    )',\n",
       "  '#{\\'name\\':\\'홍길동\\', \\'year\\':2000, \\'month\\':1, \\'day\\':1}(member2)를\\n#{{\\'name\\':\\'홍길동\\', \\'birth\\':\\'2000-01-01\\'}으로 가공\\nlist(map(lambda member : {\\n    \\'name\\' : member.get(\\'name\\'),\\n    \\'birth\\': \"{year}-{month:02}-{day:02}\".format(**data)\\n}\\n        )\\n    )',\n",
       "  '#{\\'name\\':\\'홍길동\\', \\'year\\':2000, \\'month\\':1, \\'day\\':1}(member2)를\\n#{{\\'name\\':\\'홍길동\\', \\'birth\\':\\'2000-01-01\\'}으로 가공\\nlist(map(lambda member : {\\n    \\'name\\' : member.get(\\'name\\'),\\n    \\'birth\\': \"{year}-{month:02}-{day:02}\".format(**data)\\n},\\n         member2\\n        )\\n    )',\n",
       "  \"'''\\n예제2. member1 = [{'name':'홍길동', 'birth':'2000-01-01'},\\n                  {'name':'신길동', 'birth':'1998-12-31'}]를\\n      member2 = [{'name':'홍길동', 'year':2000, 'month':1, 'day':1},\\n                  {'name':'신길동', 'year':1998, 'month':12, 'day':31}]로 바꿉니다\\n'''\\nmember1 = [{'name':'홍길동', 'birth':'2000-01-01'},\\n            {'name':'신길동', 'birth':'1998-12-31'}]\\nmember2 = [{'name':'홍길동', 'year':2000, 'month':1, 'day':1},\\n            {'name':'신길동', 'year':1998, 'month':12, 'day':31}]\",\n",
       "  '#{\\'name\\':\\'홍길동\\', \\'year\\':2000, \\'month\\':1, \\'day\\':1}(member2)를\\n#{{\\'name\\':\\'홍길동\\', \\'birth\\':\\'2000-01-01\\'}으로 가공\\nlist(map(lambda member : {\\n    \\'name\\' : member.get(\\'name\\'),\\n    \\'birth\\': \"{year}-{month:02}-{day:02}\".format(**data)\\n},\\n         member2\\n        )\\n    )',\n",
       "  '#{\\'name\\':\\'홍길동\\', \\'year\\':2000, \\'month\\':1, \\'day\\':1}(member2)를\\n#{{\\'name\\':\\'홍길동\\', \\'birth\\':\\'2000-01-01\\'}으로 가공\\nlist(map(lambda member : {\\n    \\'name\\' : member.get(\\'name\\'),\\n    \\'birth\\': \"{year}-{month:02}-{day:02}\".format(**member)\\n},\\n         member2\\n        )\\n    )',\n",
       "  '#map:[1,2,3,4,5]\\ndef filter_template(func, L = []):\\n    result = []\\n    for l in L:\\n        if func(l):\\n            result.append(l)\\n    return result',\n",
       "  'def everChk(value):\\n    return value%2 == 0\\nevenChk(10), evenChk(-9)',\n",
       "  'def evenChk(value):\\n    return value%2 == 0\\nevenChk(10), evenChk(-9)',\n",
       "  'list_data = [1,2,3,4,5]\\nfilter_template(lambda value : value%2 == 0, list_data)',\n",
       "  'list(filter(lambda value : value%2 == 0, list_data))',\n",
       "  '[for data in list_data if data%2 == 0]',\n",
       "  '[data for data in list_data if data%2 == 0]',\n",
       "  'p = [9, 2, 7]\\np.sort(reverst = True)\\np',\n",
       "  'p = [9, 2, 7]\\np.sort(reverse = True)\\np',\n",
       "  'number2d = [\\n    [9, 9],\\n    [1, 100],\\n    [10, 1]\\n]\\nnumber2d.sort()\\nnumber2d',\n",
       "  'number2d = [\\n    [9, 9],\\n    [1, 100],\\n    [10, 1]\\n]\\nnumber2d.sort(reversr = True)\\nnumber2d',\n",
       "  'number2d = [\\n    [9, 9],\\n    [1, 100],\\n    [10, 1]\\n]\\nnumber2d.sort(reverse = True)\\nnumber2d',\n",
       "  \"pairs = [(1, 'two'), (1, 'one'), (4, 'four'), (3, 'three')]\\npairs.sort()\\npairs\",\n",
       "  \"pairs = [(2, 'two'), (1, 'one'), (4, 'four'), (3, 'three')]\\npairs.sort()\\npairs\",\n",
       "  '#1번째 item기준으로 정렬(abc순)\\npairs.sort(key=lambda pair : pair[1])',\n",
       "  '#1번째 item기준으로 정렬(abc순)\\npairs.sort(key=lambda pair : pair[1])\\npairs',\n",
       "  '# 합이 큰 순으로 정렬\\nnumber2d.sort(key = lambda item : sum(item))',\n",
       "  '(lambda item : sum(item))',\n",
       "  '(lambda item : sum(item))[1,2,3,]',\n",
       "  '# 합이 큰 순으로 정렬\\nnumber2d.sort(key = lambda item : sum(item), reverse = True)\\nnumber2d',\n",
       "  '(lambda item : sum(item))([1,2,3,])',\n",
       "  '# 합이 큰 순으로 정렬\\nnumber2d.sort(key = lambda item : sum(item), reverse = True)\\nnumber2d',\n",
       "  'def add(key, reverse=5):\\n    return key+reverse',\n",
       "  'add(reverse = 5, key)',\n",
       "  'students.sort()',\n",
       "  '#이름순(ㄱㄴㄷ순)으로 정렬\\nstudents.sort(key = lambda item : int(item))',\n",
       "  \"student = [\\n    {'name':'홍길동', 'score':90}\\n    {'name':'김길동', 'score':50}\\n    {'name':'윤길동', 'score':99}\\n]\",\n",
       "  \"student = [\\n    {'name':'홍길동', 'score':90},\\n    {'name':'김길동', 'score':50},\\n    {'name':'윤길동', 'score':99}\\n]\",\n",
       "  '#이름순(ㄱㄴㄷ순)으로 정렬\\nstudents.sort(key = lambda item : int(item))',\n",
       "  \"students = [\\n    {'name':'홍길동', 'score':90},\\n    {'name':'김길동', 'score':50},\\n    {'name':'윤길동', 'score':99}\\n]\",\n",
       "  '#이름순(ㄱㄴㄷ순)으로 정렬\\nstudents.sort(key = lambda item : int(item))',\n",
       "  '#이름순(ㄱㄴㄷ순)으로 정렬\\nstudents.sort(key = lambda item : str(item))',\n",
       "  '#이름순(ㄱㄴㄷ순)으로 정렬\\nstudents.sort(key = lambda item : str(item))\\nstudents',\n",
       "  '#score순으로 내림차순 정렬\\nstudents.sort(key = lambda item : int(item), reverse = True)',\n",
       "  \"#이름순(ㄱㄴㄷ순)으로 정렬\\nstudents.sort(key = lambda item : item.get('name', '힣'))\\nstudents\",\n",
       "  \"students = [\\n    {'name':'홍길동', 'score':90},\\n    {'name':'김길동', 'score':50},\\n    {'name':'윤길동', 'score':99}\\n    {'score':100}\\n]\",\n",
       "  \"students = [\\n    {'name':'홍길동', 'score':90},\\n    {'name':'김길동', 'score':50},\\n    {'name':'윤길동', 'score':99},\\n    {'score':100}\\n]\",\n",
       "  \"#이름순(ㄱㄴㄷ순)으로 정렬\\nstudents.sort(key = lambda item : item.get('name', '힣'))\\nstudents\",\n",
       "  \"#score순으로 내림차순 정렬\\nstudents.sort(key = lambda item : item.get('score'), reverse = True)\",\n",
       "  \"#score순으로 내림차순 정렬\\nstudents.sort(key = lambda item : item.get('score'), reverse = True)\\nstudents\",\n",
       "  \"#score순으로 내림차순 정렬\\nstudents.sort(key = lambda item : item.get('score', 0), reverse = True)\\nstudents\",\n",
       "  \"#책제목순(ㄱㄴㄷ순), 저자순 정렬(ㄱㄴㅇ순), 가격순 정렬\\nbooks = [\\n    {'no':1, 'title':'강남 아파트 인사이트', 'writter':'오스틀로이드', 'price':'25,200'},\\n    {'no':2, 'title':'단 한 번의 삶', 'writter':'김영하', 'price':'18,100'},\\n    {'no':3, 'title':'흔한남매19', 'writter':'백난도', 'price':'14,220'},\\n    {'no':4, 'title':'가격이잘못', 'writter':'홍길동', 'price':'-'},\\n    {'no':5, 'title':'가격이숫자', 'writter':'신길동', 'price':900},\\n    {'no':6, 'title':'가격이없음', 'writter':'김길동'}\\n]\",\n",
       "  \"books.sort(key = lambda book : book.get('title'))\\nbooks\",\n",
       "  \"books.sort(key = lambda book : book.get('writter'))\\nbooks\",\n",
       "  \"books.sort(key = lambda book : book.get('price', 0))\\nbooks\",\n",
       "  \"# '1,4000',800,'-' -> 14000, 800, 0\\ndef parse_int(price):\\n    print(type(price))\",\n",
       "  'parse_int(800)',\n",
       "  \"# '1,4000',800,'-' -> 14000, 800, 0\\ndef parse_int(price):\\n    #print(type(price))\\n    if isinstance(price, int):\\n        return price\",\n",
       "  'parse_int(800)',\n",
       "  '# \\'1,4000\\', \"2000\", 800,\\'-\\' -> 14000, 2000, 800, 0\\ndef parse_int(price):\\n    #print(type(price))\\n    if price.replace(\\',\\',\\'\\').isdigit():\\n        return int(price.replace(\\',\\',\\'\\'))\\n    elif isinstance(price, int):\\n        return price',\n",
       "  'parse_int(800)',\n",
       "  '# \\'1,4000\\', \"2000\", 800,\\'-\\' -> 14000, 2000, 800, 0\\ndef parse_int(price):\\n    #print(type(price))\\n    if isinstance(price, str) and price.replace(\\',\\',\\'\\').isdigit():\\n        return int(price.replace(\\',\\',\\'\\'))\\n    elif isinstance(price, int):\\n        return price',\n",
       "  'parse_int(800)',\n",
       "  'parse_int(\"800\")',\n",
       "  'parse_int(\"800\"), parse_int(\\'-\\')',\n",
       "  'parse_int(\"800\"), parse_int(-)',\n",
       "  'parse_int(\"800\"), parse_int(\\'-\\')',\n",
       "  '# \\'1,4000\\', \"2000\", 800,\\'-\\' -> 14000, 2000, 800, 0\\ndef parse_int(price):\\n    #print(type(price))\\n    if isinstance(price, str) and price.replace(\\',\\',\\'\\').isdigit():\\n        return int(price.replace(\\',\\',\\'\\'))\\n    elif isinstance(price, int):\\n        return price\\n    else:\\n        return 0',\n",
       "  'parse_int(\"800\"), parse_int(\\'-\\')',\n",
       "  \"# # {'no': 6, 'title': '가격이없음', 'writter': '김길동'} => 0 리턴\\n# {'no': 3, 'title': '흔한남매19', 'writter': '백난도', 'price': '14,220'} => 14220리턴\\n# {'no': 5, 'title': '가격이숫자', 'writter': '신길동', 'price': 900} => 900\\ndef parse_int(book):\\n    if isinstance(book.get('price'), str) and book.get(price).replace(',','').isdigit():\\n        return int(book.get('price').replace(',',''))\\n    elif isinstance(book.get('price'), int):\\n        return book.get('price')\\n    else:\\n        return 0\",\n",
       "  \"# # {'no': 6, 'title': '가격이없음', 'writter': '김길동'} => 0 리턴\\n# {'no': 3, 'title': '흔한남매19', 'writter': '백난도', 'price': '14,220'} => 14220리턴\\n# {'no': 5, 'title': '가격이숫자', 'writter': '신길동', 'price': 900} => 900\\ndef parse_int(book):\\n    if isinstance(book.get('price'), str) and \\\\\\n    book.get(price).replace(',','').isdigit():\\n        return int(book.get('price').replace(',',''))\\n    elif isinstance(book.get('price'), int):\\n        return book.get('price')\\n    else:\\n        return 0\\nparse_int(book[0])\",\n",
       "  \"# # {'no': 6, 'title': '가격이없음', 'writter': '김길동'} => 0 리턴\\n# {'no': 3, 'title': '흔한남매19', 'writter': '백난도', 'price': '14,220'} => 14220리턴\\n# {'no': 5, 'title': '가격이숫자', 'writter': '신길동', 'price': 900} => 900\\ndef parse_int(book):\\n    if isinstance(book.get('price'), str) and \\\\\\n    book.get(price).replace(',','').isdigit():\\n        return int(book.get('price').replace(',',''))\\n    elif isinstance(book.get('price'), int):\\n        return book.get('price')\\n    else:\\n        return 0\\nparse_int(books[0])\",\n",
       "  \"# # {'no': 6, 'title': '가격이없음', 'writter': '김길동'} => 0 리턴\\n# {'no': 3, 'title': '흔한남매19', 'writter': '백난도', 'price': '14,220'} => 14220리턴\\n# {'no': 5, 'title': '가격이숫자', 'writter': '신길동', 'price': 900} => 900\\ndef parse_int(book):\\n    if isinstance(book.get('price'), str) and \\\\\\n    book.get(price).replace(',','').isdigit():\\n        return int(book.get('price').replace(',',''))\\n    elif isinstance(book.get('price'), int):\\n        return book.get('price')\\n    else:\\n        return 0\\nparse_int(books[0]), parse_int(book[3])\",\n",
       "  \"# # {'no': 6, 'title': '가격이없음', 'writter': '김길동'} => 0 리턴\\n# {'no': 3, 'title': '흔한남매19', 'writter': '백난도', 'price': '14,220'} => 14220리턴\\n# {'no': 5, 'title': '가격이숫자', 'writter': '신길동', 'price': 900} => 900\\ndef parse_int(book):\\n    if isinstance(book.get('price'), str) and \\\\\\n    book.get(price).replace(',','').isdigit():\\n        return int(book.get('price').replace(',',''))\\n    elif isinstance(book.get('price'), int):\\n        return book.get('price')\\n    else:\\n        return 0\\nparse_int(books[0]), parse_int(books[3])\",\n",
       "  \"# # {'no': 6, 'title': '가격이없음', 'writter': '김길동'} => 0 리턴\\n# {'no': 3, 'title': '흔한남매19', 'writter': '백난도', 'price': '14,220'} => 14220리턴\\n# {'no': 5, 'title': '가격이숫자', 'writter': '신길동', 'price': 900} => 900\\ndef parse_int(book):\\n    if isinstance(book.get('price'), str) and \\\\\\n    book.get(price).replace(',','').isdigit():\\n        return int(book.get('price').replace(',',''))\\n    elif isinstance(book.get('price'), int):\\n        return book.get('price')\\n    else:\\n        return 0\\nparse_int(books[0]), parse_int(books[3]), parse_int(books[2])\",\n",
       "  \"# # {'no': 6, 'title': '가격이없음', 'writter': '김길동'} => 0 리턴\\n# {'no': 3, 'title': '흔한남매19', 'writter': '백난도', 'price': '14,220'} => 14220리턴\\n# {'no': 5, 'title': '가격이숫자', 'writter': '신길동', 'price': 900} => 900\\ndef parse_int(book):\\n    if isinstance(book.get('price'), str) and \\\\\\n    book.get('price').replace(',','').isdigit():\\n        return int(book.get('price').replace(',',''))\\n    elif isinstance(book.get('price'), int):\\n        return book.get('price')\\n    else:\\n        return 0\\nparse_int(books[0]), parse_int(books[3]), parse_int(books[2])\",\n",
       "  \"# # {'no': 6, 'title': '가격이없음', 'writter': '김길동'} => 0 리턴\\n# {'no': 3, 'title': '흔한남매19', 'writter': '백난도', 'price': '14,220'} => 14220리턴\\n# {'no': 5, 'title': '가격이숫자', 'writter': '신길동', 'price': 900} => 900\\ndef parse_int(book):\\n    if isinstance(book.get('price'), str) and \\\\\\n    book.get('price').replace(',','').isdigit():\\n        return int(book.get('price').replace(',',''))\\n    elif isinstance(book.get('price'), int):\\n        return book.get('price')\\n    else:\\n        return 0\\nparse_int(books[0]), parse_int(books[3]), parse_int(books[2]), parse_int(books[5])\",\n",
       "  \"books = [\\n    {'no':1, 'title':'강남 아파트 인사이트', 'writter':'오스틀로이드', 'price':'25,200'},\\n    {'no':2, 'title':'단 한 번의 삶', 'writter':'김영하', 'price':'18,100'},\\n    {'no':3, 'title':'흔한남매19', 'writter':'백난도', 'price':'14220'},\\n    {'no':4, 'title':'가격이잘못', 'writter':'홍길동', 'price':'-'},\\n    {'no':5, 'title':'가격이숫자', 'writter':'신길동', 'price':900},\\n    {'no':6, 'title':'가격이없음', 'writter':'김길동'}\\n]\\ncopy_books = books.copy()\\ncopy_books.sort()\",\n",
       "  \"books = [\\n    {'no':1, 'title':'강남 아파트 인사이트', 'writter':'오스틀로이드', 'price':'25,200'},\\n    {'no':2, 'title':'단 한 번의 삶', 'writter':'김영하', 'price':'18,100'},\\n    {'no':3, 'title':'흔한남매19', 'writter':'백난도', 'price':'14220'},\\n    {'no':4, 'title':'가격이잘못', 'writter':'홍길동', 'price':'-'},\\n    {'no':5, 'title':'가격이숫자', 'writter':'신길동', 'price':900},\\n    {'no':6, 'title':'가격이없음', 'writter':'김길동'}\\n]\\ncopy_books = books.copy()\",\n",
       "  'copy_books',\n",
       "  \"books = [\\n    {'no':1, 'title':'강남 아파트 인사이트', 'writter':'오스틀로이드', 'price':'25,200'},\\n    {'no':2, 'title':'단 한 번의 삶', 'writter':'김영하', 'price':'18,100'},\\n    {'no':3, 'title':'흔한남매19', 'writter':'백난도', 'price':'14220'},\\n    {'no':4, 'title':'가격이잘못', 'writter':'홍길동', 'price':'-'},\\n    {'no':5, 'title':'가격이숫자', 'writter':'신길동', 'price':900},\\n    {'no':6, 'title':'가격이없음', 'writter':'김길동'}\\n]\\ncopy_books = books.copy()\",\n",
       "  \"copy_books.sort(key = lambda book : \\n                int(book.get('price').replace(',','')) \\\\\\n                if isinstance(book.get('price'),str) and \\\\\\n               book.get('price').replace(',','').isdigit() else\\\\\\n               book.get('price') if isinstance(book.get('price'),int) else\\\\\\n               0\\n               )\",\n",
       "  'copy_books',\n",
       "  'books',\n",
       "  'books',\n",
       "  \"#람다식 테스트 확인\\n(lambda book:\\n               int(book.get('price').replace(',','')) \\\\\\n                if isinstance(book.get('price'),str) and \\\\\\n               book.get('price').replace(',','').isdigit() else\\\\\\n               book.get('price') if isinstance(book.get('price'),int) else\\\\\\n               0)(books[0])\",\n",
       "  '#함수를 return\\ndef make_box(shape): #shape: [l]=>len가 l인 list를 생성하는 함수 return\\n                     #       [r,c] => r행c열인 list를 생성하는 함수 return\\n                     #       [d,r,c]=>d면 r행 c열 3차원 list를 생성하는 함수 return\\n    def box(init_value):\\n        if len(shape) == 1:\\n            return [init_value]*shape[0]\\n        elif len(shape) == 2:\\n            return[[init_value]*shape[1]]*shape[0]\\n    return box',\n",
       "  'line_func = make_box([2,3])',\n",
       "  'line_func = make_box([2,3])\\nline_finc(3)',\n",
       "  'line_func = make_box([2,3])\\nline_func(3)',\n",
       "  'line_func1 = make_box([10])\\nline_finc1(3)',\n",
       "  'line_func1 = make_box([10])\\nline_func1(3)',\n",
       "  'def make_box(shape):\\n    if len(shape) == 1:\\n        return lambda init_value : [init_value]*shape[0]\\n    elif len(shape) == 2:\\n        return lambda init_value : [[init_value]*shape[1]]*shape[0]',\n",
       "  'golbals() #전역변수 리스트',\n",
       "  'globals() #전역변수 리스트'],\n",
       " 'Out': {10: {'year': 2000, 'month': 1, 'day': 1},\n",
       "  14: {'year': 2000, 'month': 1, 'day': 1},\n",
       "  18: {'year': 2000, 'month': 1, 'day': 1},\n",
       "  20: {'name': '홍길동', 'year': 2000, 'month': 1, 'day': 1},\n",
       "  22: [{'name': '홍길동', 'year': 2000, 'month': 1, 'day': 1},\n",
       "   {'name': '신길동', 'year': 1998, 'month': 12, 'day': 31}],\n",
       "  25: [{'name': '홍길동', 'year': 2000, 'month': 1, 'day': 1},\n",
       "   {'name': '신길동', 'year': 1998, 'month': 12, 'day': 31}],\n",
       "  29: {'year': 2000, 'month': 1, 'day': 1},\n",
       "  30: {'name': '홍길동', 'year': 2000, 'month': 1, 'day': 1},\n",
       "  31: [{'name': '홍길동', 'year': 2000, 'month': 1, 'day': 1},\n",
       "   {'name': '신길동', 'year': 1998, 'month': 12, 'day': 31}],\n",
       "  32: '\\n예제3. member2를 member1로 바꿉니다\\n',\n",
       "  50: '2000-01-01',\n",
       "  56: [{'name': '홍길동', 'birth': '2000-01-01'},\n",
       "   {'name': '신길동', 'birth': '1998-12-31'}],\n",
       "  59: (True, False),\n",
       "  60: [2, 4],\n",
       "  61: [2, 4],\n",
       "  63: [2, 4],\n",
       "  65: [9, 7, 2],\n",
       "  66: [[1, 100], [9, 9], [10, 1]],\n",
       "  68: [[1, 100], [9, 9], [10, 1]],\n",
       "  69: [(1, 'one'), (1, 'two'), (3, 'three'), (4, 'four')],\n",
       "  70: [(4, 'four'), (1, 'one'), (3, 'three'), (2, 'two')],\n",
       "  72: [(4, 'four'), (1, 'one'), (3, 'three'), (2, 'two')],\n",
       "  74: <function __main__.<lambda>(item)>,\n",
       "  76: [[1, 100], [9, 9], [10, 1]],\n",
       "  77: 6,\n",
       "  78: [[1, 100], [9, 9], [10, 1]],\n",
       "  89: [{'name': '김길동', 'score': 50},\n",
       "   {'name': '윤길동', 'score': 99},\n",
       "   {'name': '홍길동', 'score': 90}],\n",
       "  91: [{'name': '김길동', 'score': 50},\n",
       "   {'name': '윤길동', 'score': 99},\n",
       "   {'name': '홍길동', 'score': 90}],\n",
       "  94: [{'score': 100},\n",
       "   {'name': '윤길동', 'score': 99},\n",
       "   {'name': '홍길동', 'score': 90},\n",
       "   {'name': '김길동', 'score': 50}],\n",
       "  96: [{'score': 100},\n",
       "   {'name': '윤길동', 'score': 99},\n",
       "   {'name': '홍길동', 'score': 90},\n",
       "   {'name': '김길동', 'score': 50}],\n",
       "  97: [{'score': 100},\n",
       "   {'name': '윤길동', 'score': 99},\n",
       "   {'name': '홍길동', 'score': 90},\n",
       "   {'name': '김길동', 'score': 50}],\n",
       "  99: [{'no': 6, 'title': '가격이없음', 'writter': '김길동'},\n",
       "   {'no': 2, 'title': '단 한 번의 삶', 'writter': '김영하', 'price': '18,100'},\n",
       "   {'no': 3, 'title': '흔한남매19', 'writter': '백난도', 'price': '14,220'},\n",
       "   {'no': 5, 'title': '가격이숫자', 'writter': '신길동', 'price': 900},\n",
       "   {'no': 1, 'title': '강남 아파트 인사이트', 'writter': '오스틀로이드', 'price': '25,200'},\n",
       "   {'no': 4, 'title': '가격이잘못', 'writter': '홍길동', 'price': '-'}],\n",
       "  100: [{'no': 6, 'title': '가격이없음', 'writter': '김길동'},\n",
       "   {'no': 2, 'title': '단 한 번의 삶', 'writter': '김영하', 'price': '18,100'},\n",
       "   {'no': 3, 'title': '흔한남매19', 'writter': '백난도', 'price': '14,220'},\n",
       "   {'no': 5, 'title': '가격이숫자', 'writter': '신길동', 'price': 900},\n",
       "   {'no': 1, 'title': '강남 아파트 인사이트', 'writter': '오스틀로이드', 'price': '25,200'},\n",
       "   {'no': 4, 'title': '가격이잘못', 'writter': '홍길동', 'price': '-'}],\n",
       "  105: 800,\n",
       "  109: 800,\n",
       "  110: 800,\n",
       "  111: (800, None),\n",
       "  113: (800, None),\n",
       "  115: (800, 0),\n",
       "  118: 0,\n",
       "  120: (0, 900),\n",
       "  122: (0, 900, 14220),\n",
       "  123: (0, 900, 14220, 0),\n",
       "  126: [{'no': 1,\n",
       "    'title': '강남 아파트 인사이트',\n",
       "    'writter': '오스틀로이드',\n",
       "    'price': '25,200'},\n",
       "   {'no': 2, 'title': '단 한 번의 삶', 'writter': '김영하', 'price': '18,100'},\n",
       "   {'no': 3, 'title': '흔한남매19', 'writter': '백난도', 'price': '14220'},\n",
       "   {'no': 4, 'title': '가격이잘못', 'writter': '홍길동', 'price': '-'},\n",
       "   {'no': 5, 'title': '가격이숫자', 'writter': '신길동', 'price': 900},\n",
       "   {'no': 6, 'title': '가격이없음', 'writter': '김길동'}],\n",
       "  129: [{'no': 4, 'title': '가격이잘못', 'writter': '홍길동', 'price': '-'},\n",
       "   {'no': 6, 'title': '가격이없음', 'writter': '김길동'},\n",
       "   {'no': 5, 'title': '가격이숫자', 'writter': '신길동', 'price': 900},\n",
       "   {'no': 3, 'title': '흔한남매19', 'writter': '백난도', 'price': '14220'},\n",
       "   {'no': 2, 'title': '단 한 번의 삶', 'writter': '김영하', 'price': '18,100'},\n",
       "   {'no': 1, 'title': '강남 아파트 인사이트', 'writter': '오스틀로이드', 'price': '25,200'}],\n",
       "  130: [{'no': 1,\n",
       "    'title': '강남 아파트 인사이트',\n",
       "    'writter': '오스틀로이드',\n",
       "    'price': '25,200'},\n",
       "   {'no': 2, 'title': '단 한 번의 삶', 'writter': '김영하', 'price': '18,100'},\n",
       "   {'no': 3, 'title': '흔한남매19', 'writter': '백난도', 'price': '14220'},\n",
       "   {'no': 4, 'title': '가격이잘못', 'writter': '홍길동', 'price': '-'},\n",
       "   {'no': 5, 'title': '가격이숫자', 'writter': '신길동', 'price': 900},\n",
       "   {'no': 6, 'title': '가격이없음', 'writter': '김길동'}],\n",
       "  131: [{'no': 1,\n",
       "    'title': '강남 아파트 인사이트',\n",
       "    'writter': '오스틀로이드',\n",
       "    'price': '25,200'},\n",
       "   {'no': 2, 'title': '단 한 번의 삶', 'writter': '김영하', 'price': '18,100'},\n",
       "   {'no': 3, 'title': '흔한남매19', 'writter': '백난도', 'price': '14220'},\n",
       "   {'no': 4, 'title': '가격이잘못', 'writter': '홍길동', 'price': '-'},\n",
       "   {'no': 5, 'title': '가격이숫자', 'writter': '신길동', 'price': 900},\n",
       "   {'no': 6, 'title': '가격이없음', 'writter': '김길동'}],\n",
       "  132: 25200,\n",
       "  136: [[3, 3, 3], [3, 3, 3]],\n",
       "  138: [3, 3, 3, 3, 3, 3, 3, 3, 3, 3]},\n",
       " 'get_ipython': <bound method InteractiveShell.get_ipython of <ipykernel.zmqshell.ZMQInteractiveShell object at 0x000001B12A73FD60>>,\n",
       " 'exit': <IPython.core.autocall.ZMQExitAutocall at 0x1b12a74f5e0>,\n",
       " 'quit': <IPython.core.autocall.ZMQExitAutocall at 0x1b12a74f5e0>,\n",
       " 'open': <function io.open(file, mode='r', buffering=-1, encoding=None, errors=None, newline=None, closefd=True, opener=None)>,\n",
       " '_': [3, 3, 3, 3, 3, 3, 3, 3, 3, 3],\n",
       " '__': [[3, 3, 3], [3, 3, 3]],\n",
       " '___': 25200,\n",
       " '_i': 'golbals() #전역변수 리스트',\n",
       " '_ii': 'def make_box(shape):\\n    if len(shape) == 1:\\n        return lambda init_value : [init_value]*shape[0]\\n    elif len(shape) == 2:\\n        return lambda init_value : [[init_value]*shape[1]]*shape[0]',\n",
       " '_iii': 'line_func1 = make_box([10])\\nline_func1(3)',\n",
       " '_i1': \"'''\\n예제2. member1 = [{'name':'홍길동', 'birth':'2000-01-01'},\\n                  {'name':'신길동', 'birth':'1998-12-31'}]를\\n      member2 = [{'name':'홍길동', 'year':2000, 'month':1, 'day':1},\\n                  {'name':'신길동', 'year':1998, 'month':12, 'day':31}]로 바꿉니다\\n'''\\nmembers1 = [{'name':'홍길동', 'birth':'2000-01-01'},\\n            {'name':'신길동', 'birth':'1998-12-31'}]\",\n",
       " 'members1': [{'name': '홍길동', 'birth': '2000-01-01'},\n",
       "  {'name': '신길동', 'birth': '1998-12-31'}],\n",
       " '_i2': \"#2000-01-01 -> {'year':1998, 'month':12, 'day':31}\\ndef split_data(date):\\n    split_data = date.split('-')\\n    print(split_data[0], split_data[1], split_data[2])\",\n",
       " 'split_data': <function __main__.split_data(date)>,\n",
       " '_i3': \"#2000-01-01 -> {'year':1998, 'month':12, 'day':31}\\ndef split_data(date):\\n    split_data = date.split('-')\\n    print(split_data[0], split_data[1], split_data[2])\\n    return {'year': int(split_data[0])\\n           'month': int(split_data[1])\\n           'day': int(split_data[2])}\",\n",
       " '_i4': \"#2000-01-01 -> {'year':1998, 'month':12, 'day':31}\\ndef split_date(date):\\n    split_data = date.split('-')\\n    print(split_data[0], split_data[1], split_data[2])\\n    return {'year': int(split_data[0])\\n           'month': int(split_data[1])\\n           'day': int(split_data[2])}\",\n",
       " '_i5': \"#2000-01-01 -> {'year':1998, 'month':12, 'day':31}\\ndef split_date(date):\\n    split_data = date.split('-')\\n    print(split_data[0], split_data[1], split_data[2])\\n    return {'year': int(split_data[0]),\\n           'month': int(split_data[1]),\\n           'day'  : int(split_data[2])\\n           }\",\n",
       " 'split_date': <function __main__.split_date(date)>,\n",
       " '_i6': \"split_data('2000-01-01')\",\n",
       " '_i7': \"#2000-01-01 -> {'year':1998, 'month':12, 'day':31}\\ndef split_date(date):\\n    split_data = date.split('-')\\n#     print(split_data[0], split_data[1], split_data[2])\\n    return {'year': int(split_data[0]),\\n           'month': int(split_data[1]),\\n           'day'  : int(split_data[2])\\n           }\",\n",
       " '_i8': \"split_data('2000-01-01')\",\n",
       " '_i9': \"split_data('2000-01-01')\",\n",
       " '_i10': \"split_date('2000-01-01')\",\n",
       " '_10': {'year': 2000, 'month': 1, 'day': 1},\n",
       " '_i11': 'def member_func(member): #{\\'name\\':\\'신길동\\', \\'birth\\':\\'1998-12-31\\'}\\n    \"\\'name\\':\\'신길동\\', \\'year\\':1998, \\'month\\':12, \\'day\\':31}식으로 return\"\\n    return{\\n        \\'name\\':member[\\'name\\'],\\n        \\'year\\':int(member[\\'birth\\'].split(\\'-\\')[0]),\\n        \\'month\\':int(member[\\'birth\\'].split(\\'-\\')[1]),\\n        \\'day\\':int(member[\\'birth\\'].split(\\'-\\')[2]),\\n    }',\n",
       " 'member_func': <function __main__.member_func(member)>,\n",
       " '_i12': \"'''\\n예제2. member1 = [{'name':'홍길동', 'birth':'2000-01-01'},\\n                  {'name':'신길동', 'birth':'1998-12-31'}]를\\n      member2 = [{'name':'홍길동', 'year':2000, 'month':1, 'day':1},\\n                  {'name':'신길동', 'year':1998, 'month':12, 'day':31}]로 바꿉니다\\n'''\\nmembers1 = [{'name':'홍길동', 'birth':'2000-01-01'},\\n            {'name':'신길동', 'birth':'1998-12-31'}]\",\n",
       " '_i13': \"#2000-01-01 -> {'year':1998, 'month':12, 'day':31}\\ndef split_date(date):\\n    split_data = date.split('-')\\n#     print(split_data[0], split_data[1], split_data[2])\\n    return {'year': int(split_data[0]),\\n           'month': int(split_data[1]),\\n           'day'  : int(split_data[2])\\n           }\",\n",
       " '_i14': \"split_date('2000-01-01')\",\n",
       " '_14': {'year': 2000, 'month': 1, 'day': 1},\n",
       " '_i15': 'def member_func(member): #{\\'name\\':\\'신길동\\', \\'birth\\':\\'1998-12-31\\'}\\n    \"\\'name\\':\\'신길동\\', \\'year\\':1998, \\'month\\':12, \\'day\\':31}식으로 return\"\\n    return{\\n        \\'name\\':member[\\'name\\'],\\n        \\'year\\':int(member[\\'birth\\'].split(\\'-\\')[0]),\\n        \\'month\\':int(member[\\'birth\\'].split(\\'-\\')[1]),\\n        \\'day\\':int(member[\\'birth\\'].split(\\'-\\')[2]),\\n    }\\nmember_func(menber1[0])',\n",
       " '_i16': \"'''\\n예제2. member1 = [{'name':'홍길동', 'birth':'2000-01-01'},\\n                  {'name':'신길동', 'birth':'1998-12-31'}]를\\n      member2 = [{'name':'홍길동', 'year':2000, 'month':1, 'day':1},\\n                  {'name':'신길동', 'year':1998, 'month':12, 'day':31}]로 바꿉니다\\n'''\\nmember1 = [{'name':'홍길동', 'birth':'2000-01-01'},\\n            {'name':'신길동', 'birth':'1998-12-31'}]\",\n",
       " 'member1': [{'name': '홍길동', 'birth': '2000-01-01'},\n",
       "  {'name': '신길동', 'birth': '1998-12-31'}],\n",
       " '_i17': \"#2000-01-01 -> {'year':1998, 'month':12, 'day':31}\\ndef split_date(date):\\n    split_data = date.split('-')\\n#     print(split_data[0], split_data[1], split_data[2])\\n    return {'year': int(split_data[0]),\\n           'month': int(split_data[1]),\\n           'day'  : int(split_data[2])\\n           }\",\n",
       " '_i18': \"split_date('2000-01-01')\",\n",
       " '_18': {'year': 2000, 'month': 1, 'day': 1},\n",
       " '_i19': 'def member_func(member): #{\\'name\\':\\'신길동\\', \\'birth\\':\\'1998-12-31\\'}\\n    \"\\'name\\':\\'신길동\\', \\'year\\':1998, \\'month\\':12, \\'day\\':31}식으로 return\"\\n    return{\\n        \\'name\\':member[\\'name\\'],\\n        \\'year\\':int(member[\\'birth\\'].split(\\'-\\')[0]),\\n        \\'month\\':int(member[\\'birth\\'].split(\\'-\\')[1]),\\n        \\'day\\':int(member[\\'birth\\'].split(\\'-\\')[2]),\\n    }\\nmember_func(menber1[0])',\n",
       " '_i20': 'def member_func(member): #{\\'name\\':\\'신길동\\', \\'birth\\':\\'1998-12-31\\'}\\n    \"\\'name\\':\\'신길동\\', \\'year\\':1998, \\'month\\':12, \\'day\\':31}식으로 return\"\\n    return{\\n        \\'name\\':member[\\'name\\'],\\n        \\'year\\':int(member[\\'birth\\'].split(\\'-\\')[0]),\\n        \\'month\\':int(member[\\'birth\\'].split(\\'-\\')[1]),\\n        \\'day\\':int(member[\\'birth\\'].split(\\'-\\')[2]),\\n    }\\nmember_func(member1[0])',\n",
       " '_20': {'name': '홍길동', 'year': 2000, 'month': 1, 'day': 1},\n",
       " '_i21': \"list(map(lambda member : {\\n    'name':member['name'],\\n        'year':int(member['birth'].split('-')[0]),\\n        'month':int(member['birth'].split('-')[1]),\\n        'day':int(member['birth'].split('-')[2]),\\n}))\",\n",
       " '_i22': \"list(map(lambda member : {\\n    'name':member['name'],\\n        'year':int(member['birth'].split('-')[0]),\\n        'month':int(member['birth'].split('-')[1]),\\n        'day':int(member['birth'].split('-')[2]),\\n}, member1\\n        ))\",\n",
       " '_22': [{'name': '홍길동', 'year': 2000, 'month': 1, 'day': 1},\n",
       "  {'name': '신길동', 'year': 1998, 'month': 12, 'day': 31}],\n",
       " '_i23': \"'''\\n예제2. member1 = [{'name':'홍길동', 'birth':'2000-01-01'},\\n                  {'name':'신길동', 'birth':'1998-12-31'}]를\\n      member2 = [{'name':'홍길동', 'year':2000, 'month':1, 'day':1},\\n                  {'name':'신길동', 'year':1998, 'month':12, 'day':31}]로 바꿉니다\\n'''\\nmember1 = [{'name':'홍길동', 'birth':'2000-01-01'},\\n            {'name':'신길동', 'birth':'1998-12-31'}]\\nmember2 = [{'name':'홍길동', 'year':2000, 'month':1, 'day':1},\\n            {'name':'신길동', 'year':1998, 'month':12, 'day':31}]\",\n",
       " 'member2': [{'name': '홍길동', 'year': 2000, 'month': 1, 'day': 1},\n",
       "  {'name': '신길동', 'year': 1998, 'month': 12, 'day': 31}],\n",
       " '_i24': \"lambda member2 : {'name': member['name'],\\n                  'birth': member['birth'].join('-'), member2\",\n",
       " '_i25': \"list(map(lambda member : {\\n    'name':member['name'],\\n        'year':int(member['birth'].split('-')[0]),\\n        'month':int(member['birth'].split('-')[1]),\\n        'day':int(member['birth'].split('-')[2]),\\n         }, \\n         member1\\n        )\\n    )\",\n",
       " '_25': [{'name': '홍길동', 'year': 2000, 'month': 1, 'day': 1},\n",
       "  {'name': '신길동', 'year': 1998, 'month': 12, 'day': 31}],\n",
       " '_i26': \"lambda member2 : {'name': member['name'],\\n                  'birth': member['birth'].join('-'), member2\",\n",
       " '_i27': \"'''\\n예제2. member1 = [{'name':'홍길동', 'birth':'2000-01-01'},\\n                  {'name':'신길동', 'birth':'1998-12-31'}]를\\n      member2 = [{'name':'홍길동', 'year':2000, 'month':1, 'day':1},\\n                  {'name':'신길동', 'year':1998, 'month':12, 'day':31}]로 바꿉니다\\n'''\\nmember1 = [{'name':'홍길동', 'birth':'2000-01-01'},\\n            {'name':'신길동', 'birth':'1998-12-31'}]\\nmember2 = [{'name':'홍길동', 'year':2000, 'month':1, 'day':1},\\n            {'name':'신길동', 'year':1998, 'month':12, 'day':31}]\",\n",
       " '_i28': \"#2000-01-01 -> {'year':1998, 'month':12, 'day':31}\\ndef split_date(date):\\n    split_data = date.split('-')\\n#     print(split_data[0], split_data[1], split_data[2])\\n    return {'year': int(split_data[0]),\\n           'month': int(split_data[1]),\\n           'day'  : int(split_data[2])\\n           }\",\n",
       " '_i29': \"split_date('2000-01-01')\",\n",
       " '_29': {'year': 2000, 'month': 1, 'day': 1},\n",
       " '_i30': 'def member_func(member): #{\\'name\\':\\'신길동\\', \\'birth\\':\\'1998-12-31\\'}\\n    \"\\'name\\':\\'신길동\\', \\'year\\':1998, \\'month\\':12, \\'day\\':31}식으로 return\"\\n    return{\\n        \\'name\\':member[\\'name\\'],\\n        \\'year\\':int(member[\\'birth\\'].split(\\'-\\')[0]),\\n        \\'month\\':int(member[\\'birth\\'].split(\\'-\\')[1]),\\n        \\'day\\':int(member[\\'birth\\'].split(\\'-\\')[2]),\\n    }\\nmember_func(member1[0])',\n",
       " '_30': {'name': '홍길동', 'year': 2000, 'month': 1, 'day': 1},\n",
       " '_i31': \"list(map(lambda member : {\\n    'name':member['name'],\\n        'year':int(member['birth'].split('-')[0]),\\n        'month':int(member['birth'].split('-')[1]),\\n        'day':int(member['birth'].split('-')[2]),\\n         }, \\n         member1\\n        )\\n    )\",\n",
       " '_31': [{'name': '홍길동', 'year': 2000, 'month': 1, 'day': 1},\n",
       "  {'name': '신길동', 'year': 1998, 'month': 12, 'day': 31}],\n",
       " '_i32': \"'''\\n예제3. member2를 member1로 바꿉니다\\n'''\",\n",
       " '_32': '\\n예제3. member2를 member1로 바꿉니다\\n',\n",
       " '_i33': \"lambda member2 : {'name': member['name'],\\n                  'birth': member['birth'].join('-')[], member2\",\n",
       " '_i34': \"lambda member2 : {'name': member['name'],\\n                  'birth': member['birth'].join('-')[]}, member2\",\n",
       " '_i35': \"list(map(lambda member2 : {'name': member['name'],\\n                  'birth': member['birth'].join('-')[]}, member2\\n        )\\n    )\",\n",
       " '_i36': \"list(map(lambda member : {'name': member['name'],\\n                  'birth': member['birth'].join('-')[]}, member2\\n        )\\n    )\",\n",
       " '_i37': \"list(map(lambda member : {'name': member['name'],\\n                  'birth': '-'.join(member['birth'])}, member2\\n        )\\n    )\",\n",
       " '_i38': \"list(map(lambda member : {'name': member['name'],\\n                  'birth': '-'.join(member['year', 'month', 'day'])}, member2\\n        )\\n    )\",\n",
       " '_i39': \"def join_date(data):\\n    print{[data.get('year'), data.get('month'), data.get('day')]}\\n    year = str(data.get('year'))\\n    month = data.get('month')\\n    if month<10:\\n        month = '0'+str(month)\\n    else:\\n        month = str(month)\\n    day = data.get('day')\\n    if day<10:\\n        day = '0'+str(month)\\n    else:\\n        day = str(month)\\n    return '-'.join([year, data.get('month'), data.get('day')])\",\n",
       " '_i40': \"def join_date(data):\\n    year = str(data.get('year'))\\n    month = data.get('month')\\n    if month<10:\\n        month = '0'+str(month)\\n    else:\\n        month = str(month)\\n    day = data.get('day')\\n    if day<10:\\n        day = '0'+str(month)\\n    else:\\n        day = str(month)\\n    return '-'.join([year, data.get('month'), data.get('day')])\",\n",
       " 'join_date': <function __main__.join_date(data)>,\n",
       " '_i41': 'def join_date(data):\\n    print(\"{}-{}-{}\".format(data.get(\\'year\\'), data.get(\\'month\\'), data.get(\\'day\\')))',\n",
       " '_i42': \"join_date({'year':2000, 'month':1, 'day':1})\",\n",
       " '_i43': 'def join_date(data):\\n    print(\"{}-{:02}-{:02}\".format(data.get(\\'year\\'), data.get(\\'month\\'), data.get(\\'day\\')))',\n",
       " '_i44': \"join_date({'year':2000, 'month':1, 'day':1})\",\n",
       " '_i45': 'def join_date(data):\\n    print(\"{}-{:02}-{:02}\".format(data.get(\\'year\\'), \\n                                  data.get(\\'month\\'), \\n                                  data.get(\\'day\\')))',\n",
       " '_i46': 'def join_date(data):\\n    print(\"{year}-{month:02}-{day:02}\".format\\n                                  year = (data.get(\\'year\\'), \\n                                  month = data.get(\\'month\\'), \\n                                  day = data.get(\\'day\\')))',\n",
       " '_i47': 'def join_date(data):\\n    print(\"{year}-{month:02}-{day:02}\".format(\\n                                  year = data.get(\\'year\\'), \\n                                  month = data.get(\\'month\\'), \\n                                  day = data.get(\\'day\\')))',\n",
       " '_i48': 'def join_date(data):\\n    print(\"{year}-{month:02}-{day:02}\".format(**data)',\n",
       " '_i49': 'def join_date(data):\\n    return \"{year}-{month:02}-{day:02}\".format(**data)',\n",
       " '_i50': \"join_date({'year':2000, 'month':1, 'day':1})\",\n",
       " '_50': '2000-01-01',\n",
       " '_i51': '#{\\'name\\':\\'홍길동\\', \\'year\\':2000, \\'month\\':1, \\'day\\':1}(member2)를\\n#{{\\'name\\':\\'홍길동\\', \\'birth\\':\\'2000-01-01\\'}으로 가공\\nlist(map(lambda member : {\\n    \\'name\\' : member.get(\\'name\\')\\n    \\'birth\\': \"{year}-{month:02}-{day:02}\".format(**data)\\n}\\n        )\\n    )',\n",
       " '_i52': '#{\\'name\\':\\'홍길동\\', \\'year\\':2000, \\'month\\':1, \\'day\\':1}(member2)를\\n#{{\\'name\\':\\'홍길동\\', \\'birth\\':\\'2000-01-01\\'}으로 가공\\nlist(map(lambda member : {\\n    \\'name\\' : member.get(\\'name\\'),\\n    \\'birth\\': \"{year}-{month:02}-{day:02}\".format(**data)\\n}\\n        )\\n    )',\n",
       " '_i53': '#{\\'name\\':\\'홍길동\\', \\'year\\':2000, \\'month\\':1, \\'day\\':1}(member2)를\\n#{{\\'name\\':\\'홍길동\\', \\'birth\\':\\'2000-01-01\\'}으로 가공\\nlist(map(lambda member : {\\n    \\'name\\' : member.get(\\'name\\'),\\n    \\'birth\\': \"{year}-{month:02}-{day:02}\".format(**data)\\n},\\n         member2\\n        )\\n    )',\n",
       " '_i54': \"'''\\n예제2. member1 = [{'name':'홍길동', 'birth':'2000-01-01'},\\n                  {'name':'신길동', 'birth':'1998-12-31'}]를\\n      member2 = [{'name':'홍길동', 'year':2000, 'month':1, 'day':1},\\n                  {'name':'신길동', 'year':1998, 'month':12, 'day':31}]로 바꿉니다\\n'''\\nmember1 = [{'name':'홍길동', 'birth':'2000-01-01'},\\n            {'name':'신길동', 'birth':'1998-12-31'}]\\nmember2 = [{'name':'홍길동', 'year':2000, 'month':1, 'day':1},\\n            {'name':'신길동', 'year':1998, 'month':12, 'day':31}]\",\n",
       " '_i55': '#{\\'name\\':\\'홍길동\\', \\'year\\':2000, \\'month\\':1, \\'day\\':1}(member2)를\\n#{{\\'name\\':\\'홍길동\\', \\'birth\\':\\'2000-01-01\\'}으로 가공\\nlist(map(lambda member : {\\n    \\'name\\' : member.get(\\'name\\'),\\n    \\'birth\\': \"{year}-{month:02}-{day:02}\".format(**data)\\n},\\n         member2\\n        )\\n    )',\n",
       " '_i56': '#{\\'name\\':\\'홍길동\\', \\'year\\':2000, \\'month\\':1, \\'day\\':1}(member2)를\\n#{{\\'name\\':\\'홍길동\\', \\'birth\\':\\'2000-01-01\\'}으로 가공\\nlist(map(lambda member : {\\n    \\'name\\' : member.get(\\'name\\'),\\n    \\'birth\\': \"{year}-{month:02}-{day:02}\".format(**member)\\n},\\n         member2\\n        )\\n    )',\n",
       " '_56': [{'name': '홍길동', 'birth': '2000-01-01'},\n",
       "  {'name': '신길동', 'birth': '1998-12-31'}],\n",
       " '_i57': '#map:[1,2,3,4,5]\\ndef filter_template(func, L = []):\\n    result = []\\n    for l in L:\\n        if func(l):\\n            result.append(l)\\n    return result',\n",
       " 'filter_template': <function __main__.filter_template(func, L=[])>,\n",
       " '_i58': 'def everChk(value):\\n    return value%2 == 0\\nevenChk(10), evenChk(-9)',\n",
       " 'everChk': <function __main__.everChk(value)>,\n",
       " '_i59': 'def evenChk(value):\\n    return value%2 == 0\\nevenChk(10), evenChk(-9)',\n",
       " 'evenChk': <function __main__.evenChk(value)>,\n",
       " '_59': (True, False),\n",
       " '_i60': 'list_data = [1,2,3,4,5]\\nfilter_template(lambda value : value%2 == 0, list_data)',\n",
       " 'list_data': [1, 2, 3, 4, 5],\n",
       " '_60': [2, 4],\n",
       " '_i61': 'list(filter(lambda value : value%2 == 0, list_data))',\n",
       " '_61': [2, 4],\n",
       " '_i62': '[for data in list_data if data%2 == 0]',\n",
       " '_i63': '[data for data in list_data if data%2 == 0]',\n",
       " '_63': [2, 4],\n",
       " '_i64': 'p = [9, 2, 7]\\np.sort(reverst = True)\\np',\n",
       " 'p': [9, 7, 2],\n",
       " '_i65': 'p = [9, 2, 7]\\np.sort(reverse = True)\\np',\n",
       " '_65': [9, 7, 2],\n",
       " '_i66': 'number2d = [\\n    [9, 9],\\n    [1, 100],\\n    [10, 1]\\n]\\nnumber2d.sort()\\nnumber2d',\n",
       " 'number2d': [[1, 100], [9, 9], [10, 1]],\n",
       " '_66': [[1, 100], [9, 9], [10, 1]],\n",
       " '_i67': 'number2d = [\\n    [9, 9],\\n    [1, 100],\\n    [10, 1]\\n]\\nnumber2d.sort(reversr = True)\\nnumber2d',\n",
       " '_i68': 'number2d = [\\n    [9, 9],\\n    [1, 100],\\n    [10, 1]\\n]\\nnumber2d.sort(reverse = True)\\nnumber2d',\n",
       " '_68': [[1, 100], [9, 9], [10, 1]],\n",
       " '_i69': \"pairs = [(1, 'two'), (1, 'one'), (4, 'four'), (3, 'three')]\\npairs.sort()\\npairs\",\n",
       " 'pairs': [(4, 'four'), (1, 'one'), (3, 'three'), (2, 'two')],\n",
       " '_69': [(1, 'one'), (1, 'two'), (3, 'three'), (4, 'four')],\n",
       " '_i70': \"pairs = [(2, 'two'), (1, 'one'), (4, 'four'), (3, 'three')]\\npairs.sort()\\npairs\",\n",
       " '_70': [(4, 'four'), (1, 'one'), (3, 'three'), (2, 'two')],\n",
       " '_i71': '#1번째 item기준으로 정렬(abc순)\\npairs.sort(key=lambda pair : pair[1])',\n",
       " '_i72': '#1번째 item기준으로 정렬(abc순)\\npairs.sort(key=lambda pair : pair[1])\\npairs',\n",
       " '_72': [(4, 'four'), (1, 'one'), (3, 'three'), (2, 'two')],\n",
       " '_i73': '# 합이 큰 순으로 정렬\\nnumber2d.sort(key = lambda item : sum(item))',\n",
       " '_i74': '(lambda item : sum(item))',\n",
       " '_74': <function __main__.<lambda>(item)>,\n",
       " '_i75': '(lambda item : sum(item))[1,2,3,]',\n",
       " '_i76': '# 합이 큰 순으로 정렬\\nnumber2d.sort(key = lambda item : sum(item), reverse = True)\\nnumber2d',\n",
       " '_76': [[1, 100], [9, 9], [10, 1]],\n",
       " '_i77': '(lambda item : sum(item))([1,2,3,])',\n",
       " '_77': 6,\n",
       " '_i78': '# 합이 큰 순으로 정렬\\nnumber2d.sort(key = lambda item : sum(item), reverse = True)\\nnumber2d',\n",
       " '_78': [[1, 100], [9, 9], [10, 1]],\n",
       " '_i79': 'def add(key, reverse=5):\\n    return key+reverse',\n",
       " 'add': <function __main__.add(key, reverse=5)>,\n",
       " '_i80': 'add(reverse = 5, key)',\n",
       " '_i81': 'students.sort()',\n",
       " '_i82': '#이름순(ㄱㄴㄷ순)으로 정렬\\nstudents.sort(key = lambda item : int(item))',\n",
       " '_i83': \"student = [\\n    {'name':'홍길동', 'score':90}\\n    {'name':'김길동', 'score':50}\\n    {'name':'윤길동', 'score':99}\\n]\",\n",
       " '_i84': \"student = [\\n    {'name':'홍길동', 'score':90},\\n    {'name':'김길동', 'score':50},\\n    {'name':'윤길동', 'score':99}\\n]\",\n",
       " 'student': [{'name': '홍길동', 'score': 90},\n",
       "  {'name': '김길동', 'score': 50},\n",
       "  {'name': '윤길동', 'score': 99}],\n",
       " '_i85': '#이름순(ㄱㄴㄷ순)으로 정렬\\nstudents.sort(key = lambda item : int(item))',\n",
       " '_i86': \"students = [\\n    {'name':'홍길동', 'score':90},\\n    {'name':'김길동', 'score':50},\\n    {'name':'윤길동', 'score':99}\\n]\",\n",
       " 'students': [{'score': 100},\n",
       "  {'name': '윤길동', 'score': 99},\n",
       "  {'name': '홍길동', 'score': 90},\n",
       "  {'name': '김길동', 'score': 50}],\n",
       " '_i87': '#이름순(ㄱㄴㄷ순)으로 정렬\\nstudents.sort(key = lambda item : int(item))',\n",
       " '_i88': '#이름순(ㄱㄴㄷ순)으로 정렬\\nstudents.sort(key = lambda item : str(item))',\n",
       " '_i89': '#이름순(ㄱㄴㄷ순)으로 정렬\\nstudents.sort(key = lambda item : str(item))\\nstudents',\n",
       " '_89': [{'name': '김길동', 'score': 50},\n",
       "  {'name': '윤길동', 'score': 99},\n",
       "  {'name': '홍길동', 'score': 90}],\n",
       " '_i90': '#score순으로 내림차순 정렬\\nstudents.sort(key = lambda item : int(item), reverse = True)',\n",
       " '_i91': \"#이름순(ㄱㄴㄷ순)으로 정렬\\nstudents.sort(key = lambda item : item.get('name', '힣'))\\nstudents\",\n",
       " '_91': [{'name': '김길동', 'score': 50},\n",
       "  {'name': '윤길동', 'score': 99},\n",
       "  {'name': '홍길동', 'score': 90}],\n",
       " '_i92': \"students = [\\n    {'name':'홍길동', 'score':90},\\n    {'name':'김길동', 'score':50},\\n    {'name':'윤길동', 'score':99}\\n    {'score':100}\\n]\",\n",
       " '_i93': \"students = [\\n    {'name':'홍길동', 'score':90},\\n    {'name':'김길동', 'score':50},\\n    {'name':'윤길동', 'score':99},\\n    {'score':100}\\n]\",\n",
       " '_i94': \"#이름순(ㄱㄴㄷ순)으로 정렬\\nstudents.sort(key = lambda item : item.get('name', '힣'))\\nstudents\",\n",
       " '_94': [{'score': 100},\n",
       "  {'name': '윤길동', 'score': 99},\n",
       "  {'name': '홍길동', 'score': 90},\n",
       "  {'name': '김길동', 'score': 50}],\n",
       " '_i95': \"#score순으로 내림차순 정렬\\nstudents.sort(key = lambda item : item.get('score'), reverse = True)\",\n",
       " '_i96': \"#score순으로 내림차순 정렬\\nstudents.sort(key = lambda item : item.get('score'), reverse = True)\\nstudents\",\n",
       " '_96': [{'score': 100},\n",
       "  {'name': '윤길동', 'score': 99},\n",
       "  {'name': '홍길동', 'score': 90},\n",
       "  {'name': '김길동', 'score': 50}],\n",
       " '_i97': \"#score순으로 내림차순 정렬\\nstudents.sort(key = lambda item : item.get('score', 0), reverse = True)\\nstudents\",\n",
       " '_97': [{'score': 100},\n",
       "  {'name': '윤길동', 'score': 99},\n",
       "  {'name': '홍길동', 'score': 90},\n",
       "  {'name': '김길동', 'score': 50}],\n",
       " '_i98': \"#책제목순(ㄱㄴㄷ순), 저자순 정렬(ㄱㄴㅇ순), 가격순 정렬\\nbooks = [\\n    {'no':1, 'title':'강남 아파트 인사이트', 'writter':'오스틀로이드', 'price':'25,200'},\\n    {'no':2, 'title':'단 한 번의 삶', 'writter':'김영하', 'price':'18,100'},\\n    {'no':3, 'title':'흔한남매19', 'writter':'백난도', 'price':'14,220'},\\n    {'no':4, 'title':'가격이잘못', 'writter':'홍길동', 'price':'-'},\\n    {'no':5, 'title':'가격이숫자', 'writter':'신길동', 'price':900},\\n    {'no':6, 'title':'가격이없음', 'writter':'김길동'}\\n]\",\n",
       " 'books': [{'no': 1,\n",
       "   'title': '강남 아파트 인사이트',\n",
       "   'writter': '오스틀로이드',\n",
       "   'price': '25,200'},\n",
       "  {'no': 2, 'title': '단 한 번의 삶', 'writter': '김영하', 'price': '18,100'},\n",
       "  {'no': 3, 'title': '흔한남매19', 'writter': '백난도', 'price': '14220'},\n",
       "  {'no': 4, 'title': '가격이잘못', 'writter': '홍길동', 'price': '-'},\n",
       "  {'no': 5, 'title': '가격이숫자', 'writter': '신길동', 'price': 900},\n",
       "  {'no': 6, 'title': '가격이없음', 'writter': '김길동'}],\n",
       " '_i99': \"books.sort(key = lambda book : book.get('title'))\\nbooks\",\n",
       " '_99': [{'no': 6, 'title': '가격이없음', 'writter': '김길동'},\n",
       "  {'no': 2, 'title': '단 한 번의 삶', 'writter': '김영하', 'price': '18,100'},\n",
       "  {'no': 3, 'title': '흔한남매19', 'writter': '백난도', 'price': '14,220'},\n",
       "  {'no': 5, 'title': '가격이숫자', 'writter': '신길동', 'price': 900},\n",
       "  {'no': 1, 'title': '강남 아파트 인사이트', 'writter': '오스틀로이드', 'price': '25,200'},\n",
       "  {'no': 4, 'title': '가격이잘못', 'writter': '홍길동', 'price': '-'}],\n",
       " '_i100': \"books.sort(key = lambda book : book.get('writter'))\\nbooks\",\n",
       " '_100': [{'no': 6, 'title': '가격이없음', 'writter': '김길동'},\n",
       "  {'no': 2, 'title': '단 한 번의 삶', 'writter': '김영하', 'price': '18,100'},\n",
       "  {'no': 3, 'title': '흔한남매19', 'writter': '백난도', 'price': '14,220'},\n",
       "  {'no': 5, 'title': '가격이숫자', 'writter': '신길동', 'price': 900},\n",
       "  {'no': 1, 'title': '강남 아파트 인사이트', 'writter': '오스틀로이드', 'price': '25,200'},\n",
       "  {'no': 4, 'title': '가격이잘못', 'writter': '홍길동', 'price': '-'}],\n",
       " '_i101': \"books.sort(key = lambda book : book.get('price', 0))\\nbooks\",\n",
       " '_i102': \"# '1,4000',800,'-' -> 14000, 800, 0\\ndef parse_int(price):\\n    print(type(price))\",\n",
       " 'parse_int': <function __main__.parse_int(book)>,\n",
       " '_i103': 'parse_int(800)',\n",
       " '_i104': \"# '1,4000',800,'-' -> 14000, 800, 0\\ndef parse_int(price):\\n    #print(type(price))\\n    if isinstance(price, int):\\n        return price\",\n",
       " '_i105': 'parse_int(800)',\n",
       " '_105': 800,\n",
       " '_i106': '# \\'1,4000\\', \"2000\", 800,\\'-\\' -> 14000, 2000, 800, 0\\ndef parse_int(price):\\n    #print(type(price))\\n    if price.replace(\\',\\',\\'\\').isdigit():\\n        return int(price.replace(\\',\\',\\'\\'))\\n    elif isinstance(price, int):\\n        return price',\n",
       " '_i107': 'parse_int(800)',\n",
       " '_i108': '# \\'1,4000\\', \"2000\", 800,\\'-\\' -> 14000, 2000, 800, 0\\ndef parse_int(price):\\n    #print(type(price))\\n    if isinstance(price, str) and price.replace(\\',\\',\\'\\').isdigit():\\n        return int(price.replace(\\',\\',\\'\\'))\\n    elif isinstance(price, int):\\n        return price',\n",
       " '_i109': 'parse_int(800)',\n",
       " '_109': 800,\n",
       " '_i110': 'parse_int(\"800\")',\n",
       " '_110': 800,\n",
       " '_i111': 'parse_int(\"800\"), parse_int(\\'-\\')',\n",
       " '_111': (800, None),\n",
       " '_i112': 'parse_int(\"800\"), parse_int(-)',\n",
       " '_i113': 'parse_int(\"800\"), parse_int(\\'-\\')',\n",
       " '_113': (800, None),\n",
       " '_i114': '# \\'1,4000\\', \"2000\", 800,\\'-\\' -> 14000, 2000, 800, 0\\ndef parse_int(price):\\n    #print(type(price))\\n    if isinstance(price, str) and price.replace(\\',\\',\\'\\').isdigit():\\n        return int(price.replace(\\',\\',\\'\\'))\\n    elif isinstance(price, int):\\n        return price\\n    else:\\n        return 0',\n",
       " '_i115': 'parse_int(\"800\"), parse_int(\\'-\\')',\n",
       " '_115': (800, 0),\n",
       " '_i116': \"# # {'no': 6, 'title': '가격이없음', 'writter': '김길동'} => 0 리턴\\n# {'no': 3, 'title': '흔한남매19', 'writter': '백난도', 'price': '14,220'} => 14220리턴\\n# {'no': 5, 'title': '가격이숫자', 'writter': '신길동', 'price': 900} => 900\\ndef parse_int(book):\\n    if isinstance(book.get('price'), str) and book.get(price).replace(',','').isdigit():\\n        return int(book.get('price').replace(',',''))\\n    elif isinstance(book.get('price'), int):\\n        return book.get('price')\\n    else:\\n        return 0\",\n",
       " '_i117': \"# # {'no': 6, 'title': '가격이없음', 'writter': '김길동'} => 0 리턴\\n# {'no': 3, 'title': '흔한남매19', 'writter': '백난도', 'price': '14,220'} => 14220리턴\\n# {'no': 5, 'title': '가격이숫자', 'writter': '신길동', 'price': 900} => 900\\ndef parse_int(book):\\n    if isinstance(book.get('price'), str) and \\\\\\n    book.get(price).replace(',','').isdigit():\\n        return int(book.get('price').replace(',',''))\\n    elif isinstance(book.get('price'), int):\\n        return book.get('price')\\n    else:\\n        return 0\\nparse_int(book[0])\",\n",
       " '_i118': \"# # {'no': 6, 'title': '가격이없음', 'writter': '김길동'} => 0 리턴\\n# {'no': 3, 'title': '흔한남매19', 'writter': '백난도', 'price': '14,220'} => 14220리턴\\n# {'no': 5, 'title': '가격이숫자', 'writter': '신길동', 'price': 900} => 900\\ndef parse_int(book):\\n    if isinstance(book.get('price'), str) and \\\\\\n    book.get(price).replace(',','').isdigit():\\n        return int(book.get('price').replace(',',''))\\n    elif isinstance(book.get('price'), int):\\n        return book.get('price')\\n    else:\\n        return 0\\nparse_int(books[0])\",\n",
       " '_118': 0,\n",
       " '_i119': \"# # {'no': 6, 'title': '가격이없음', 'writter': '김길동'} => 0 리턴\\n# {'no': 3, 'title': '흔한남매19', 'writter': '백난도', 'price': '14,220'} => 14220리턴\\n# {'no': 5, 'title': '가격이숫자', 'writter': '신길동', 'price': 900} => 900\\ndef parse_int(book):\\n    if isinstance(book.get('price'), str) and \\\\\\n    book.get(price).replace(',','').isdigit():\\n        return int(book.get('price').replace(',',''))\\n    elif isinstance(book.get('price'), int):\\n        return book.get('price')\\n    else:\\n        return 0\\nparse_int(books[0]), parse_int(book[3])\",\n",
       " '_i120': \"# # {'no': 6, 'title': '가격이없음', 'writter': '김길동'} => 0 리턴\\n# {'no': 3, 'title': '흔한남매19', 'writter': '백난도', 'price': '14,220'} => 14220리턴\\n# {'no': 5, 'title': '가격이숫자', 'writter': '신길동', 'price': 900} => 900\\ndef parse_int(book):\\n    if isinstance(book.get('price'), str) and \\\\\\n    book.get(price).replace(',','').isdigit():\\n        return int(book.get('price').replace(',',''))\\n    elif isinstance(book.get('price'), int):\\n        return book.get('price')\\n    else:\\n        return 0\\nparse_int(books[0]), parse_int(books[3])\",\n",
       " '_120': (0, 900),\n",
       " '_i121': \"# # {'no': 6, 'title': '가격이없음', 'writter': '김길동'} => 0 리턴\\n# {'no': 3, 'title': '흔한남매19', 'writter': '백난도', 'price': '14,220'} => 14220리턴\\n# {'no': 5, 'title': '가격이숫자', 'writter': '신길동', 'price': 900} => 900\\ndef parse_int(book):\\n    if isinstance(book.get('price'), str) and \\\\\\n    book.get(price).replace(',','').isdigit():\\n        return int(book.get('price').replace(',',''))\\n    elif isinstance(book.get('price'), int):\\n        return book.get('price')\\n    else:\\n        return 0\\nparse_int(books[0]), parse_int(books[3]), parse_int(books[2])\",\n",
       " '_i122': \"# # {'no': 6, 'title': '가격이없음', 'writter': '김길동'} => 0 리턴\\n# {'no': 3, 'title': '흔한남매19', 'writter': '백난도', 'price': '14,220'} => 14220리턴\\n# {'no': 5, 'title': '가격이숫자', 'writter': '신길동', 'price': 900} => 900\\ndef parse_int(book):\\n    if isinstance(book.get('price'), str) and \\\\\\n    book.get('price').replace(',','').isdigit():\\n        return int(book.get('price').replace(',',''))\\n    elif isinstance(book.get('price'), int):\\n        return book.get('price')\\n    else:\\n        return 0\\nparse_int(books[0]), parse_int(books[3]), parse_int(books[2])\",\n",
       " '_122': (0, 900, 14220),\n",
       " '_i123': \"# # {'no': 6, 'title': '가격이없음', 'writter': '김길동'} => 0 리턴\\n# {'no': 3, 'title': '흔한남매19', 'writter': '백난도', 'price': '14,220'} => 14220리턴\\n# {'no': 5, 'title': '가격이숫자', 'writter': '신길동', 'price': 900} => 900\\ndef parse_int(book):\\n    if isinstance(book.get('price'), str) and \\\\\\n    book.get('price').replace(',','').isdigit():\\n        return int(book.get('price').replace(',',''))\\n    elif isinstance(book.get('price'), int):\\n        return book.get('price')\\n    else:\\n        return 0\\nparse_int(books[0]), parse_int(books[3]), parse_int(books[2]), parse_int(books[5])\",\n",
       " '_123': (0, 900, 14220, 0),\n",
       " '_i124': \"books = [\\n    {'no':1, 'title':'강남 아파트 인사이트', 'writter':'오스틀로이드', 'price':'25,200'},\\n    {'no':2, 'title':'단 한 번의 삶', 'writter':'김영하', 'price':'18,100'},\\n    {'no':3, 'title':'흔한남매19', 'writter':'백난도', 'price':'14220'},\\n    {'no':4, 'title':'가격이잘못', 'writter':'홍길동', 'price':'-'},\\n    {'no':5, 'title':'가격이숫자', 'writter':'신길동', 'price':900},\\n    {'no':6, 'title':'가격이없음', 'writter':'김길동'}\\n]\\ncopy_books = books.copy()\\ncopy_books.sort()\",\n",
       " 'copy_books': [{'no': 4, 'title': '가격이잘못', 'writter': '홍길동', 'price': '-'},\n",
       "  {'no': 6, 'title': '가격이없음', 'writter': '김길동'},\n",
       "  {'no': 5, 'title': '가격이숫자', 'writter': '신길동', 'price': 900},\n",
       "  {'no': 3, 'title': '흔한남매19', 'writter': '백난도', 'price': '14220'},\n",
       "  {'no': 2, 'title': '단 한 번의 삶', 'writter': '김영하', 'price': '18,100'},\n",
       "  {'no': 1, 'title': '강남 아파트 인사이트', 'writter': '오스틀로이드', 'price': '25,200'}],\n",
       " '_i125': \"books = [\\n    {'no':1, 'title':'강남 아파트 인사이트', 'writter':'오스틀로이드', 'price':'25,200'},\\n    {'no':2, 'title':'단 한 번의 삶', 'writter':'김영하', 'price':'18,100'},\\n    {'no':3, 'title':'흔한남매19', 'writter':'백난도', 'price':'14220'},\\n    {'no':4, 'title':'가격이잘못', 'writter':'홍길동', 'price':'-'},\\n    {'no':5, 'title':'가격이숫자', 'writter':'신길동', 'price':900},\\n    {'no':6, 'title':'가격이없음', 'writter':'김길동'}\\n]\\ncopy_books = books.copy()\",\n",
       " '_i126': 'copy_books',\n",
       " '_126': [{'no': 1,\n",
       "   'title': '강남 아파트 인사이트',\n",
       "   'writter': '오스틀로이드',\n",
       "   'price': '25,200'},\n",
       "  {'no': 2, 'title': '단 한 번의 삶', 'writter': '김영하', 'price': '18,100'},\n",
       "  {'no': 3, 'title': '흔한남매19', 'writter': '백난도', 'price': '14220'},\n",
       "  {'no': 4, 'title': '가격이잘못', 'writter': '홍길동', 'price': '-'},\n",
       "  {'no': 5, 'title': '가격이숫자', 'writter': '신길동', 'price': 900},\n",
       "  {'no': 6, 'title': '가격이없음', 'writter': '김길동'}],\n",
       " '_i127': \"books = [\\n    {'no':1, 'title':'강남 아파트 인사이트', 'writter':'오스틀로이드', 'price':'25,200'},\\n    {'no':2, 'title':'단 한 번의 삶', 'writter':'김영하', 'price':'18,100'},\\n    {'no':3, 'title':'흔한남매19', 'writter':'백난도', 'price':'14220'},\\n    {'no':4, 'title':'가격이잘못', 'writter':'홍길동', 'price':'-'},\\n    {'no':5, 'title':'가격이숫자', 'writter':'신길동', 'price':900},\\n    {'no':6, 'title':'가격이없음', 'writter':'김길동'}\\n]\\ncopy_books = books.copy()\",\n",
       " '_i128': \"copy_books.sort(key = lambda book : \\n                int(book.get('price').replace(',','')) \\\\\\n                if isinstance(book.get('price'),str) and \\\\\\n               book.get('price').replace(',','').isdigit() else\\\\\\n               book.get('price') if isinstance(book.get('price'),int) else\\\\\\n               0\\n               )\",\n",
       " '_i129': 'copy_books',\n",
       " '_129': [{'no': 4, 'title': '가격이잘못', 'writter': '홍길동', 'price': '-'},\n",
       "  {'no': 6, 'title': '가격이없음', 'writter': '김길동'},\n",
       "  {'no': 5, 'title': '가격이숫자', 'writter': '신길동', 'price': 900},\n",
       "  {'no': 3, 'title': '흔한남매19', 'writter': '백난도', 'price': '14220'},\n",
       "  {'no': 2, 'title': '단 한 번의 삶', 'writter': '김영하', 'price': '18,100'},\n",
       "  {'no': 1, 'title': '강남 아파트 인사이트', 'writter': '오스틀로이드', 'price': '25,200'}],\n",
       " '_i130': 'books',\n",
       " '_130': [{'no': 1,\n",
       "   'title': '강남 아파트 인사이트',\n",
       "   'writter': '오스틀로이드',\n",
       "   'price': '25,200'},\n",
       "  {'no': 2, 'title': '단 한 번의 삶', 'writter': '김영하', 'price': '18,100'},\n",
       "  {'no': 3, 'title': '흔한남매19', 'writter': '백난도', 'price': '14220'},\n",
       "  {'no': 4, 'title': '가격이잘못', 'writter': '홍길동', 'price': '-'},\n",
       "  {'no': 5, 'title': '가격이숫자', 'writter': '신길동', 'price': 900},\n",
       "  {'no': 6, 'title': '가격이없음', 'writter': '김길동'}],\n",
       " '_i131': 'books',\n",
       " '_131': [{'no': 1,\n",
       "   'title': '강남 아파트 인사이트',\n",
       "   'writter': '오스틀로이드',\n",
       "   'price': '25,200'},\n",
       "  {'no': 2, 'title': '단 한 번의 삶', 'writter': '김영하', 'price': '18,100'},\n",
       "  {'no': 3, 'title': '흔한남매19', 'writter': '백난도', 'price': '14220'},\n",
       "  {'no': 4, 'title': '가격이잘못', 'writter': '홍길동', 'price': '-'},\n",
       "  {'no': 5, 'title': '가격이숫자', 'writter': '신길동', 'price': 900},\n",
       "  {'no': 6, 'title': '가격이없음', 'writter': '김길동'}],\n",
       " '_i132': \"#람다식 테스트 확인\\n(lambda book:\\n               int(book.get('price').replace(',','')) \\\\\\n                if isinstance(book.get('price'),str) and \\\\\\n               book.get('price').replace(',','').isdigit() else\\\\\\n               book.get('price') if isinstance(book.get('price'),int) else\\\\\\n               0)(books[0])\",\n",
       " '_132': 25200,\n",
       " '_i133': '#함수를 return\\ndef make_box(shape): #shape: [l]=>len가 l인 list를 생성하는 함수 return\\n                     #       [r,c] => r행c열인 list를 생성하는 함수 return\\n                     #       [d,r,c]=>d면 r행 c열 3차원 list를 생성하는 함수 return\\n    def box(init_value):\\n        if len(shape) == 1:\\n            return [init_value]*shape[0]\\n        elif len(shape) == 2:\\n            return[[init_value]*shape[1]]*shape[0]\\n    return box',\n",
       " 'make_box': <function __main__.make_box(shape)>,\n",
       " '_i134': 'line_func = make_box([2,3])',\n",
       " 'line_func': <function __main__.make_box.<locals>.box(init_value)>,\n",
       " '_i135': 'line_func = make_box([2,3])\\nline_finc(3)',\n",
       " '_i136': 'line_func = make_box([2,3])\\nline_func(3)',\n",
       " '_136': [[3, 3, 3], [3, 3, 3]],\n",
       " '_i137': 'line_func1 = make_box([10])\\nline_finc1(3)',\n",
       " 'line_func1': <function __main__.make_box.<locals>.box(init_value)>,\n",
       " '_i138': 'line_func1 = make_box([10])\\nline_func1(3)',\n",
       " '_138': [3, 3, 3, 3, 3, 3, 3, 3, 3, 3],\n",
       " '_i139': 'def make_box(shape):\\n    if len(shape) == 1:\\n        return lambda init_value : [init_value]*shape[0]\\n    elif len(shape) == 2:\\n        return lambda init_value : [[init_value]*shape[1]]*shape[0]',\n",
       " '_i140': 'golbals() #전역변수 리스트',\n",
       " '_i141': 'globals() #전역변수 리스트'}"
      ]
     },
     "execution_count": 141,
     "metadata": {},
     "output_type": "execute_result"
    }
   ],
   "source": [
    "globals() #전역변수 리스트"
   ]
  },
  {
   "cell_type": "code",
   "execution_count": 142,
   "id": "f246b35e",
   "metadata": {},
   "outputs": [
    {
     "data": {
      "text/plain": [
       "False"
      ]
     },
     "execution_count": 142,
     "metadata": {},
     "output_type": "execute_result"
    }
   ],
   "source": [
    "all([True, True, False]) #전부 True인지 여부"
   ]
  },
  {
   "cell_type": "code",
   "execution_count": 143,
   "id": "f8001d2f",
   "metadata": {},
   "outputs": [
    {
     "data": {
      "text/plain": [
       "4"
      ]
     },
     "execution_count": 143,
     "metadata": {},
     "output_type": "execute_result"
    }
   ],
   "source": [
    "round(3.5) #반올림"
   ]
  },
  {
   "cell_type": "code",
   "execution_count": 147,
   "id": "5e061b26",
   "metadata": {},
   "outputs": [
    {
     "data": {
      "text/plain": [
       "(4.0, 4.0, 3.0)"
      ]
     },
     "execution_count": 147,
     "metadata": {},
     "output_type": "execute_result"
    }
   ],
   "source": [
    "import numpy as np # numpy 모듈을 np라는 이름으로 로드\n",
    "np.round(3.5),  np.ceil(3.5), np.floor(3.2) #반올림, 올림, 내림"
   ]
  },
  {
   "cell_type": "markdown",
   "id": "cf2c193b",
   "metadata": {},
   "source": [
    "# 6절. 연습문제"
   ]
  },
  {
   "cell_type": "code",
   "execution_count": 155,
   "id": "60315252",
   "metadata": {},
   "outputs": [
    {
     "name": "stdout",
     "output_type": "stream",
     "text": [
      "65698\n"
     ]
    },
    {
     "data": {
      "text/plain": [
       "('9', '5')"
      ]
     },
     "execution_count": 155,
     "metadata": {},
     "output_type": "execute_result"
    }
   ],
   "source": [
    "#(실습형)\n",
    "#1.함수의인자로 리스트를 받은 후 리스트 내에 있는 모든 정수값에 대한 최대값과 최소값을 리턴하는 함수를 작성하세요\n",
    "# def get_max_min(data_list):\n",
    "# get_max_min= lambda ~\n",
    "\n",
    "def get_max_min(data_list): \n",
    "        return max(data_list), min(data_list)\n",
    "    \n",
    "get_max_min = lambda data_list : (max(data_list), min(data_list))\n",
    "get_max_min(input())"
   ]
  },
  {
   "cell_type": "code",
   "execution_count": 2,
   "id": "97d9228e",
   "metadata": {},
   "outputs": [
    {
     "name": "stdout",
     "output_type": "stream",
     "text": [
      "체중:50\n",
      "신장:160\n"
     ]
    },
    {
     "data": {
      "text/plain": [
       "'마른체형'"
      ]
     },
     "execution_count": 2,
     "metadata": {},
     "output_type": "execute_result"
    }
   ],
   "source": [
    "#2. 체질량 지수(Body Mass Index, BMI)는 체중과 키를 이용해 비만도를 나타내는 지수로 아래의 수식에 의해 계산됩니다. \n",
    "#함수의 인자로 체중(kg)과 신장(m)를입력받은 후 BMI값에 따라 ‘마른 체형‘, ‘표준‘, ‘비만‘, ‘고도비만‘ \n",
    "#중 하나의 상태를 출력하는 함수를 구현해 보세요.\n",
    "# getBMI(kg, m):\n",
    "# BMI지수 = 체중(kg) / 신장(m)의 제곱\n",
    "# BMI<18.5 : 마른체형\n",
    "# 18.5<=BMI<25 : 표준\n",
    "# 25<=BMI<30 : 비만\n",
    "# BMI >=30 : 고도비만\n",
    "\n",
    "def getBMI(kg,m):\n",
    "    BMI = (kg/m)**2\n",
    "    if BMI<18.5:\n",
    "        return '마른체형'\n",
    "    elif 18.5<=BMI<30:\n",
    "        return '표준'\n",
    "    elif 25<=BMI<30:\n",
    "        return '비만'\n",
    "    elif BMI>=30:\n",
    "        return '고도비만'\n",
    "    \n",
    "getBMI(int(input('체중:')),int(input('신장:')))"
   ]
  },
  {
   "cell_type": "code",
   "execution_count": null,
   "id": "cc0f94f4",
   "metadata": {},
   "outputs": [],
   "source": [
    "# 3.직각삼각형의 밑변과 높이를 입력받은 후 삼각형의 면적과 둘레를 계산하는 함수를 작성하세요\n",
    "# 리턴값은 면적과 둘레를 return하도록 구현하세요\n",
    "# math.sqrt() : 제곱근을 구하는 함수이용 (ex)math.sqrt(25) : 5.0\n",
    "# def get_triangle(width, height):\n",
    "def get_triangle(width, height):\n",
    "    return width*heigh*0.5\n",
    "    return \n",
    "\n",
    "get_triangle(int(input('밑변길이: ')), int(input('높이:')))"
   ]
  },
  {
   "cell_type": "code",
   "execution_count": 22,
   "id": "ddccf950",
   "metadata": {},
   "outputs": [
    {
     "ename": "TypeError",
     "evalue": "'int' object is not iterable",
     "output_type": "error",
     "traceback": [
      "\u001b[1;31m---------------------------------------------------------------------------\u001b[0m",
      "\u001b[1;31mTypeError\u001b[0m                                 Traceback (most recent call last)",
      "Cell \u001b[1;32mIn[22], line 7\u001b[0m\n\u001b[0;32m      5\u001b[0m     \u001b[38;5;28;01mreturn\u001b[39;00m \u001b[38;5;28msum\u001b[39m(\u001b[38;5;28mint\u001b[39m(fRom),\u001b[38;5;28mint\u001b[39m(end))\n\u001b[0;32m      6\u001b[0m mysum \u001b[38;5;241m=\u001b[39m \u001b[38;5;28;01mlambda\u001b[39;00m fRom, end : \u001b[38;5;28msum\u001b[39m(\u001b[38;5;28mint\u001b[39m(fRom), \u001b[38;5;28mint\u001b[39m(end))\n\u001b[1;32m----> 7\u001b[0m \u001b[43mmysum\u001b[49m\u001b[43m(\u001b[49m\u001b[38;5;124;43m'\u001b[39;49m\u001b[38;5;124;43m1\u001b[39;49m\u001b[38;5;124;43m'\u001b[39;49m\u001b[43m,\u001b[49m\u001b[38;5;124;43m'\u001b[39;49m\u001b[38;5;124;43m2\u001b[39;49m\u001b[38;5;124;43m'\u001b[39;49m\u001b[43m)\u001b[49m\n",
      "Cell \u001b[1;32mIn[22], line 6\u001b[0m, in \u001b[0;36m<lambda>\u001b[1;34m(fRom, end)\u001b[0m\n\u001b[0;32m      4\u001b[0m \u001b[38;5;28;01mdef\u001b[39;00m \u001b[38;5;21mmysum\u001b[39m(fRom,end):\n\u001b[0;32m      5\u001b[0m     \u001b[38;5;28;01mreturn\u001b[39;00m \u001b[38;5;28msum\u001b[39m(\u001b[38;5;28mint\u001b[39m(fRom),\u001b[38;5;28mint\u001b[39m(end))\n\u001b[1;32m----> 6\u001b[0m mysum \u001b[38;5;241m=\u001b[39m \u001b[38;5;28;01mlambda\u001b[39;00m fRom, end : \u001b[38;5;28;43msum\u001b[39;49m\u001b[43m(\u001b[49m\u001b[38;5;28;43mint\u001b[39;49m\u001b[43m(\u001b[49m\u001b[43mfRom\u001b[49m\u001b[43m)\u001b[49m\u001b[43m,\u001b[49m\u001b[43m \u001b[49m\u001b[38;5;28;43mint\u001b[39;49m\u001b[43m(\u001b[49m\u001b[43mend\u001b[49m\u001b[43m)\u001b[49m\u001b[43m)\u001b[49m\n\u001b[0;32m      7\u001b[0m mysum(\u001b[38;5;124m'\u001b[39m\u001b[38;5;124m1\u001b[39m\u001b[38;5;124m'\u001b[39m,\u001b[38;5;124m'\u001b[39m\u001b[38;5;124m2\u001b[39m\u001b[38;5;124m'\u001b[39m)\n",
      "\u001b[1;31mTypeError\u001b[0m: 'int' object is not iterable"
     ]
    }
   ],
   "source": [
    "#4.함수의 인자로 시작과 끝 숫자가 주어질 때 시작부터 끝까지의 모든 정수값의 합을 리턴하는 함수를 작성하세요\n",
    "#(시작값과 끝값 포함).\n",
    "#def mysum(fRom, end):\n",
    "def mysum(fRom,end):\n",
    "    return sum(int(fRom),int(end))\n",
    "mysum = lambda fRom, end : sum(int(fRom), int(end))\n"
   ]
  },
  {
   "cell_type": "code",
   "execution_count": 25,
   "id": "197cc056",
   "metadata": {},
   "outputs": [
    {
     "data": {
      "text/plain": [
       "['Seo', 'Dae', 'Kwa', 'Jej']"
      ]
     },
     "execution_count": 25,
     "metadata": {},
     "output_type": "execute_result"
    }
   ],
   "source": [
    "# #5.함수의인자로 문자열을 포함하는 리스트가 입력될 때 각 문자열의 첫 세글자로만 구성된 리스트를 리턴하는 \n",
    "# 함수와 람다식을 작성하세요. 예를 들어 함수의 입력으로 [‘Seoul’, ‘Daegu’, ‘Kwangju’, ‘Jeju’]가\n",
    "# 입력될 때 함수의 리턴값은 [‘Seo’, ‘Dae’, ‘Kwa’,’Jej’]\n",
    "lst = ['Seoul', 'Daegu', 'Kwangju', 'Jeju']\n",
    "list(map(lambda x : str(x[:3]), lst))"
   ]
  },
  {
   "cell_type": "code",
   "execution_count": 26,
   "id": "73a002c3",
   "metadata": {},
   "outputs": [
    {
     "data": {
      "text/plain": [
       "['Seo', 'Dae', 'Kwa', 'Jej']"
      ]
     },
     "execution_count": 26,
     "metadata": {},
     "output_type": "execute_result"
    }
   ],
   "source": [
    "def get_abbrs(lst):\n",
    "    result = []\n",
    "    for x in lst:\n",
    "        result.append(str(x[:3]))\n",
    "    return result\n",
    "get_abbrs(['Seoul', 'Daegu', 'Kwangju', 'Jeju'])"
   ]
  },
  {
   "cell_type": "code",
   "execution_count": 28,
   "id": "13a4bb0c",
   "metadata": {},
   "outputs": [],
   "source": [
    "# 6. 다음 코드를 람다 함수 형태로 수정할 때 알맞은 코드를 작성하시오\n",
    "f = lambda x,y : x**y"
   ]
  },
  {
   "cell_type": "code",
   "execution_count": 30,
   "id": "739d4a7c",
   "metadata": {},
   "outputs": [
    {
     "data": {
      "text/plain": [
       "[1, 4, 9, 16, 25]"
      ]
     },
     "execution_count": 30,
     "metadata": {},
     "output_type": "execute_result"
    }
   ],
   "source": [
    "# 7. ex = [1,2,3,4,5]를 [1,4,9,16,25]의 결과를 얻을 수 있도록 람다함수와 map()함수를 사용하여 구현과 리스트 컴프리헨션으로 구현하시오\n",
    "ex = [1,2,3,4,5]\n",
    "list(map(lambda x : x**2, ex))"
   ]
  },
  {
   "cell_type": "code",
   "execution_count": 31,
   "id": "8727582d",
   "metadata": {},
   "outputs": [
    {
     "data": {
      "text/plain": [
       "[1, 4, 9, 16, 25]"
      ]
     },
     "execution_count": 31,
     "metadata": {},
     "output_type": "execute_result"
    }
   ],
   "source": [
    "[x**2 for x in ex]"
   ]
  },
  {
   "cell_type": "code",
   "execution_count": 32,
   "id": "4e3ea782",
   "metadata": {},
   "outputs": [],
   "source": [
    "#8. 다음코드를 각각 실행하면 서로 다른 결과가 나온다. 이런 결과가 나오는 이유를 서술하시오\n",
    "#매개변수 앞에 *을 붙임으로서 언패킹 하였기 때문"
   ]
  },
  {
   "cell_type": "code",
   "execution_count": 33,
   "id": "cc1a678f",
   "metadata": {},
   "outputs": [],
   "source": [
    "#9. 다음 코드의 실행 결과는?\n",
    "#2024-9-6"
   ]
  },
  {
   "cell_type": "code",
   "execution_count": 34,
   "id": "23711464",
   "metadata": {},
   "outputs": [],
   "source": [
    "#10. n개의 벡터(리스트나 튜플, 셋등)의 크기들이 같은지 여부를 reutrn하는\n",
    "#vector_size_check(*vector _var) 를 한 줄의 코드(리스트 컴프리헨션 이용)로 작성하시오.\n"
   ]
  },
  {
   "cell_type": "code",
   "execution_count": null,
   "id": "39d7fcb1",
   "metadata": {},
   "outputs": [],
   "source": [
    "#11. 다음과 같은 결과를 얻기 위해 하나의 스칼라값을 리스트나 튜플, 셋등 벡터에 곱하는 코드를 작성하시오.\n",
    "#(단 입력되는 벡터의 크기는 일정하지 않음)"
   ]
  }
 ],
 "metadata": {
  "kernelspec": {
   "display_name": "Python 3 (ipykernel)",
   "language": "python",
   "name": "python3"
  },
  "language_info": {
   "codemirror_mode": {
    "name": "ipython",
    "version": 3
   },
   "file_extension": ".py",
   "mimetype": "text/x-python",
   "name": "python",
   "nbconvert_exporter": "python",
   "pygments_lexer": "ipython3",
   "version": "3.10.9"
  },
  "toc": {
   "base_numbering": 1,
   "nav_menu": {},
   "number_sections": false,
   "sideBar": true,
   "skip_h1_title": false,
   "title_cell": "Table of Contents",
   "title_sidebar": "Contents",
   "toc_cell": false,
   "toc_position": {
    "height": "calc(100% - 180px)",
    "left": "10px",
    "top": "150px",
    "width": "305.6px"
   },
   "toc_section_display": true,
   "toc_window_display": false
  }
 },
 "nbformat": 4,
 "nbformat_minor": 5
}
