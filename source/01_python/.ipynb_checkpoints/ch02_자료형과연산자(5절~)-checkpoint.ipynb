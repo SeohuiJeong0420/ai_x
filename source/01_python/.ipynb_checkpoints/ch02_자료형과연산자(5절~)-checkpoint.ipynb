{
 "cells": [
  {
   "cell_type": "code",
   "execution_count": 1,
   "id": "f4fdf881",
   "metadata": {},
   "outputs": [
    {
     "data": {
      "text/html": [
       "\n",
       "<style>\n",
       "div.container{width:86% !important;}\n",
       "div.cell.code_cell.rendered{width:100%;}\n",
       "div.CodeMirror {font-family:Consolas; font-size:15pt;}\n",
       "div.output {font-size:15pt; font-weight:bold;}\n",
       "div.input {font-family:Consolas; font-size:15pt;}\n",
       "div.prompt {min-width:70px;}\n",
       "div#toc-wrapper{padding-top:120px;}\n",
       "div.text_cell_render ul li{font-size:12pt;padding:5px;}\n",
       "table.dataframe{font-size:15px;}\n",
       "</style>\n"
      ],
      "text/plain": [
       "<IPython.core.display.HTML object>"
      ]
     },
     "metadata": {},
     "output_type": "display_data"
    }
   ],
   "source": [
    "from IPython.display import display, HTML\n",
    "display(HTML(\"\"\"\n",
    "<style>\n",
    "div.container{width:86% !important;}\n",
    "div.cell.code_cell.rendered{width:100%;}\n",
    "div.CodeMirror {font-family:Consolas; font-size:15pt;}\n",
    "div.output {font-size:15pt; font-weight:bold;}\n",
    "div.input {font-family:Consolas; font-size:15pt;}\n",
    "div.prompt {min-width:70px;}\n",
    "div#toc-wrapper{padding-top:120px;}\n",
    "div.text_cell_render ul li{font-size:12pt;padding:5px;}\n",
    "table.dataframe{font-size:15px;}\n",
    "</style>\n",
    "\"\"\"))"
   ]
  },
  {
   "cell_type": "markdown",
   "id": "88cc637f",
   "metadata": {},
   "source": [
    "<font size=\"5\" color=\"red\">ch02 자료형과연산자</font>\n",
    "# 5절. 연산자\n",
    "\n",
    "## 5.1 산술연산자: +,-,*,/,//,(몫연산자),%,**(제곱)"
   ]
  },
  {
   "cell_type": "code",
   "execution_count": 4,
   "id": "de3735ca",
   "metadata": {},
   "outputs": [
    {
     "name": "stdout",
     "output_type": "stream",
     "text": [
      "100000\n",
      "4/2의 결과:  2.0\n",
      "4//2의 몫:  2\n",
      "0\n"
     ]
    }
   ],
   "source": [
    "print(10**5)\n",
    "print(\"4/2의 결과: \", 4/2)\n",
    "print(\"4//2의 몫: \", 4//2)\n",
    "print(4%2)"
   ]
  },
  {
   "cell_type": "code",
   "execution_count": 5,
   "id": "847caf6e",
   "metadata": {},
   "outputs": [
    {
     "name": "stdout",
     "output_type": "stream",
     "text": [
      "정수를 입력하세요: 9\n",
      "입력하신 수는 9, 2로 나눈 나머지는 1, 그래서 홀수를 입력하셨군요\n"
     ]
    }
   ],
   "source": [
    "# quiz: 1. 정수를 입력받아 짝수인지 홀수인지 여부 출력\n",
    "num = int(input('정수를 입력하세요: '))\n",
    "result = num%2\n",
    "if result:\n",
    "    temp = '홀수'\n",
    "else:\n",
    "    temp = '짝수'\n",
    "print(f'입력하신 수는 {num}, 2로 나눈 나머지는 {result}, 그래서 {temp}를 입력하셨군요')"
   ]
  },
  {
   "cell_type": "code",
   "execution_count": 7,
   "id": "8f0ea036",
   "metadata": {},
   "outputs": [
    {
     "name": "stdout",
     "output_type": "stream",
     "text": [
      "정수를 입력하세요: 15\n",
      "입력하신 수는15, 나머지는 0이므로 5의 배수입니다\n"
     ]
    }
   ],
   "source": [
    "#quiz: 2. 정수를 입력받아 5의 배수인지 여부를 출력\n",
    "num = int(input('정수를 입력하세요: '))\n",
    "result = num%5\n",
    "if result == 0:\n",
    "    temp = '5의 배수입니다'\n",
    "else:\n",
    "    temp = '5의 배수가 아닙니다'\n",
    "print(f'입력하신 수는{num}, 나머지는 {result}이므로 {temp}')"
   ]
  },
  {
   "cell_type": "code",
   "execution_count": 24,
   "id": "a716dbac",
   "metadata": {},
   "outputs": [
    {
     "name": "stdout",
     "output_type": "stream",
     "text": [
      "국어: 90\n",
      "영어: 100\n",
      "수학: 80\n",
      "국어:  90\t영어: 100\t수학:  80\n",
      "총점: 270\t평균:  80.0\n"
     ]
    }
   ],
   "source": [
    "#quiz: 3. 국, 영, 수 점수를 입력받아 다음셀에서 다음과 같이 출력하도록 구현하시오\n",
    "#국어: 99, 영어: 98, 수학: 99, 총점: 296, 평균: 98.7\n",
    "kor = int(input('국어: '))\n",
    "eng = int(input('영어: '))\n",
    "mat = int(input('수학: '))\n",
    "sum = kor + eng + mat\n",
    "ave = all/3\n",
    "print(\"국어: {:3d}\\t영어: {:3d}\\t수학: {:3d}\\n총점: {:3d}\\t평균: {:5.1f}\".format(kor, eng, mat, sum, ave))"
   ]
  },
  {
   "cell_type": "markdown",
   "id": "e8809bd7",
   "metadata": {},
   "source": [
    "## 5.2 할당연산자: =, +=, -=, *=, /=, //=, %="
   ]
  },
  {
   "cell_type": "code",
   "execution_count": 26,
   "id": "b4f52605",
   "metadata": {},
   "outputs": [
    {
     "name": "stdout",
     "output_type": "stream",
     "text": [
      "5더하기:  15\n"
     ]
    }
   ],
   "source": [
    "a=10\n",
    "a += 5 #a=a+5\n",
    "print('5더하기: ',a)"
   ]
  },
  {
   "cell_type": "markdown",
   "id": "0515bb81",
   "metadata": {},
   "source": [
    "## 5.3논리연산자: &, and,       |, or, not"
   ]
  },
  {
   "cell_type": "code",
   "execution_count": 28,
   "id": "2379c412",
   "metadata": {},
   "outputs": [
    {
     "name": "stdout",
     "output_type": "stream",
     "text": [
      "True\n",
      "0\n"
     ]
    }
   ],
   "source": [
    "# & 논리연산자, 비트연산자\n",
    "print((10>3)&(10>5))\n",
    "print(12&1) #비트연산 12: 0000 1100\n",
    "            #         1: 0000 0001\n",
    "            #      12&1: 0000 0000"
   ]
  },
  {
   "cell_type": "code",
   "execution_count": 32,
   "id": "d31491ee",
   "metadata": {},
   "outputs": [
    {
     "name": "stdout",
     "output_type": "stream",
     "text": [
      "3\n"
     ]
    }
   ],
   "source": [
    "#and: 논리연산만 가능. False로 판별되는  첫번째 항의 결과 반환. 모든 항이 참이면 마지막 항을 반환\n",
    "print(True and 1 and 3)"
   ]
  },
  {
   "cell_type": "code",
   "execution_count": 36,
   "id": "e1c4dc9c",
   "metadata": {},
   "outputs": [
    {
     "name": "stdout",
     "output_type": "stream",
     "text": [
      "논리연산(연산자 앞뒤에 논리형일때):  True\n",
      "비트연산(연산자 앞이나 뒤에 숫자일때):  3\n"
     ]
    }
   ],
   "source": [
    "# |: 논리연산, 비트연산\n",
    "result = False | True\n",
    "print('논리연산(연산자 앞뒤에 논리형일때): ', result)\n",
    "result = False | 3     # 0000 0000 (False)\n",
    "                       # 0000 0011(3)\n",
    "print('비트연산(연산자 앞이나 뒤에 숫자일때): ', result)"
   ]
  },
  {
   "cell_type": "code",
   "execution_count": 39,
   "id": "6c07e17f",
   "metadata": {},
   "outputs": [
    {
     "name": "stdout",
     "output_type": "stream",
     "text": [
      "None\n",
      "Hong\n",
      "False\n"
     ]
    }
   ],
   "source": [
    "# or: 논리연산만 가능. 참으로 판별되는 첫번째 항의 결과 반환. 모든 항이 거짓이면 마지막 항을 반환\n",
    "print(False or False or None)\n",
    "print('Hong' or ' ' or False)\n",
    "print(not True)"
   ]
  },
  {
   "cell_type": "markdown",
   "id": "6abdddd8",
   "metadata": {},
   "source": [
    "## 5.4 비교연산자: >, <, >=, <=, ==, !="
   ]
  },
  {
   "cell_type": "code",
   "execution_count": 44,
   "id": "c89596e1",
   "metadata": {},
   "outputs": [
    {
     "name": "stdout",
     "output_type": "stream",
     "text": [
      "True\n",
      "False\n",
      "True\n"
     ]
    }
   ],
   "source": [
    "#비교연산자는 이항, 삼항, 사항... 다항연산자\n",
    "#비교연산자(<)의 우선순위가 논리연산(&)의 우선순위보다 낮다\n",
    "print((10>5)&(10>7))\n",
    "print(10>5 & 10>7)\n",
    "print(10>5 and 10>7)"
   ]
  },
  {
   "cell_type": "code",
   "execution_count": 47,
   "id": "28d13bfb",
   "metadata": {},
   "outputs": [
    {
     "name": "stdout",
     "output_type": "stream",
     "text": [
      "False\n",
      "False\n"
     ]
    }
   ],
   "source": [
    "address = '서울'\n",
    "age = 29\n",
    "print((address == '서울') & (age>=30))\n",
    "print((address != '서울') & (age>=30))"
   ]
  },
  {
   "cell_type": "code",
   "execution_count": 50,
   "id": "f9201ed8",
   "metadata": {},
   "outputs": [
    {
     "data": {
      "text/plain": [
       "True"
      ]
     },
     "execution_count": 50,
     "metadata": {},
     "output_type": "execute_result"
    }
   ],
   "source": [
    "#문자 비교: 아스키 코드 순으로 비교 가능 : 특수문자 < 숫자 < 대문자 < 소문자\n",
    "'scott'<'tiger'"
   ]
  },
  {
   "cell_type": "code",
   "execution_count": 51,
   "id": "09b9eeae",
   "metadata": {},
   "outputs": [
    {
     "data": {
      "text/plain": [
       "True"
      ]
     },
     "execution_count": 51,
     "metadata": {},
     "output_type": "execute_result"
    }
   ],
   "source": [
    "'9' > '10'"
   ]
  },
  {
   "cell_type": "code",
   "execution_count": 52,
   "id": "c21d93d8",
   "metadata": {},
   "outputs": [
    {
     "data": {
      "text/plain": [
       "True"
      ]
     },
     "execution_count": 52,
     "metadata": {},
     "output_type": "execute_result"
    }
   ],
   "source": [
    "'김길동' < '홍길동'"
   ]
  },
  {
   "cell_type": "markdown",
   "id": "7b037c3d",
   "metadata": {},
   "source": [
    "## 5.5 비트연산자 :&, |, ^(XOR), ~"
   ]
  },
  {
   "cell_type": "code",
   "execution_count": 53,
   "id": "3eeee6b1",
   "metadata": {},
   "outputs": [
    {
     "name": "stdout",
     "output_type": "stream",
     "text": [
      "a = 15:1111\n",
      "a =  2:0010\n",
      "a^b = 13:1101\n"
     ]
    }
   ],
   "source": [
    "# ^ : 데이터가 같으면 0, 다르면 1\n",
    "a = 15 #1111\n",
    "b = 2  #0010\n",
    "print(\"a = {0:2}:{0:04b}\".format(a))\n",
    "print(\"a = {0:2}:{0:04b}\".format(b))\n",
    "print(\"a^b = {0:2}:{0:04b}\".format(a^b))"
   ]
  },
  {
   "cell_type": "markdown",
   "id": "bd2f2041",
   "metadata": {},
   "source": [
    "- 연산자\n",
    " - 산술연산 : + - * / // % **\n",
    " - 할당연산 : = += -= *= /= //= %=\n",
    " - 논리연산 : & and | or not\n",
    " - 비교연산 : > >= < <= == !=\n",
    " - 비트연산 : & | ^ ~\n",
    " - &와 |은 비교연산자보다 우선순위가 높다.\n"
   ]
  },
  {
   "cell_type": "markdown",
   "id": "884d14d6",
   "metadata": {},
   "source": [
    "# 6절. 문자열 다루기\n",
    "- 문자열 슬라이싱 변수[from:stop:step]\n",
    "- len(문자열변수) :문자개수\n",
    "- upper() : 대문자로\n",
    "- lower() : 소문자로\n",
    "- title() : 각 어절의 첫글자만 대문자로\n",
    "- capitalize() : 첫문자만 대문자로\n",
    "- count('찾을문자열') : 찾을 문자열이 몇개 들어있는지 개수 변환\n",
    "- find('찾을문자열') : 찾을 문자열이 왼쪽부터 시작하여 몇번째에 있는지 인덱스 반환\n",
    "- rfind('찾을문자열') : 찾을문자열이 오른쪽부터 시작하여 몇번째에 있는지 인덱스를 반환\n",
    "       **찾을 문자열이 없으면 -1반환**\n",
    "       cf) index('찾을문자열'): 찾을문자열의 인덱스를 반환. 찾을 문자열이 없으면 오류\n",
    "- startswith('특정문자열') : 특정문자열로 시작하는지 여부\n",
    "- endwith('특정문자열')  :특정문자열로 끝나는지 여부\n",
    "- strip(): 좌우 공백 제거\n",
    "- rstrip() : 오른쪽 공백 제거\n",
    "- lstrip() : 왼쪽 공백 제거\n",
    "- isdigit(): 문자열이 숫자문자열인지 여부\n",
    "- islower(): 소문자 문자열인지 여부\n",
    "- isupper(): 대문자 문자열인지 여부\n",
    "- replace(oldStr, newStr) : oldStr을 newStr로 변경"
   ]
  },
  {
   "cell_type": "code",
   "execution_count": 65,
   "id": "20bf6950",
   "metadata": {},
   "outputs": [
    {
     "name": "stdout",
     "output_type": "stream",
     "text": [
      "1. 글자수 39\n",
      "2. 대문자로:  PYTHON IS EASY. PYTHON IS SMART. PYTHON\n",
      "3. 소문자로:  python is easy. python is smart. python\n",
      "4. title:  Python Is Easy. Python Is Smart. Python\n",
      "5. capitalize():  Python is easy. python is smart. python\n",
      "6. python이 몇번 나오는지:  3\n",
      "7. 대소문자구분없이 python이 몇번 나오는지:  3\n",
      "7. 대소문자구분없이 python이 몇번 나오는지:  3\n",
      "7. 대소문자구분없이 python이 몇번 나오는지:  3\n",
      "8. python이 나오는 첫 인덱스 위치:  0\n",
      "8. python이 나오는 마지막 인덱스 위치:  33\n",
      "8. java이 나오는 마지막 인덱스 위치:  -1\n",
      "8. python이 나오는 첫 인덱스 위치:  0\n",
      "9. python으로 시작하는지 여부:  True\n",
      "10. python으로 끝나는지 여부:  False\n",
      "10. 대소문자 구분없이 python으로 끝나는지 여부:  True\n"
     ]
    }
   ],
   "source": [
    "temp = 'python is easy. python is smart. python'\n",
    "print('1. 글자수', len(temp))\n",
    "print('2. 대문자로: ', temp.upper())\n",
    "print('3. 소문자로: ', temp.lower())\n",
    "print('4. title: ', temp.title())\n",
    "print('5. capitalize(): ', temp.capitalize())\n",
    "print('6. python이 몇번 나오는지: ', temp.count('python'))\n",
    "print('7. 대소문자구분없이 python이 몇번 나오는지: ', temp.lower().count('python'))\n",
    "print('7. 대소문자구분없이 python이 몇번 나오는지: ', temp.upper().count('PYTHON'))\n",
    "print('7. 대소문자구분없이 python이 몇번 나오는지: ', temp.title().count('Python'))\n",
    "print('8. python이 나오는 첫 인덱스 위치: ', temp.find('python'))\n",
    "print('8. python이 나오는 마지막 인덱스 위치: ', temp.rfind('python'))\n",
    "print('8. java이 나오는 마지막 인덱스 위치: ', temp.rfind('java'))\n",
    "print('8. python이 나오는 첫 인덱스 위치: ', temp.index('python'))\n",
    "# print('8. java이 나오는 첫 인덱스 위치: ', temp.index('java'))\n",
    "print('9. python으로 시작하는지 여부: ', temp.startswith('python'))\n",
    "print('10. python으로 끝나는지 여부: ', temp.endswith('PYTHON'))\n",
    "print('10. 대소문자 구분없이 python으로 끝나는지 여부: ', temp.upper().endswith('PYTHON'))"
   ]
  },
  {
   "cell_type": "code",
   "execution_count": 75,
   "id": "f174277f",
   "metadata": {},
   "outputs": [
    {
     "name": "stdout",
     "output_type": "stream",
     "text": [
      "11. 좌우공백제거: [python is easy.]\n",
      "11. 좌측공백제거: [python is easy.      ]\n",
      "11. 우측공백제거: [       python is easy.]\n",
      "12. 숫자문자열인지:  False\n",
      "13. 소문자문자열인지:  True\n",
      "13. 대문자문자열인지:  False\n",
      "14. ,제거:  1000000\n",
      "14. ,제거:  1000\n"
     ]
    }
   ],
   "source": [
    "temp = '       python is easy.      '\n",
    "notdisit = '1,000,000'\n",
    "num_str = '1000'\n",
    "print('11. 좌우공백제거: [{}]'.format(temp.strip()))\n",
    "print('11. 좌측공백제거: [{}]'.format(temp.lstrip()))\n",
    "print('11. 우측공백제거: [{}]'.format(temp.rstrip()))\n",
    "print('12. 숫자문자열인지: ', notdisit.isdigit())\n",
    "print('13. 소문자문자열인지: ', temp.islower())\n",
    "print('13. 대문자문자열인지: ', temp.isupper())\n",
    "print('14. ,제거: ', notdisit.replace(',',''))\n",
    "print('14. ,제거: ', num_str.replace(',',''))"
   ]
  },
  {
   "cell_type": "code",
   "execution_count": 79,
   "id": "86b6a7e1",
   "metadata": {},
   "outputs": [
    {
     "name": "stdout",
     "output_type": "stream",
     "text": [
      "space단위로 temp분리:  ['홍길동', '김길동', '신길동', '유길동']\n"
     ]
    }
   ],
   "source": [
    "temp = '홍길동 김길동 신길동 유길동'\n",
    "print('space단위로 temp분리: ', temp.split()) #기본이 space단위로 분리"
   ]
  },
  {
   "cell_type": "code",
   "execution_count": 92,
   "id": "817da313",
   "metadata": {},
   "outputs": [
    {
     "name": "stdout",
     "output_type": "stream",
     "text": [
      "-단위로 data분리(결과 : list)\n",
      "['2025', '04', '10']\n",
      "년:  2025\n",
      "월:  04\n",
      "일:  10\n",
      "원 데이터:  Python - HTML/CSS - JavaScript - DBMS\n",
      "분리된 데이터:  ['Python', 'HTML/CSS', 'JavaScript', 'DBMS']\n",
      "join된 데이터:  Python/HTML/CSS/JavaScript/DBMS\n"
     ]
    }
   ],
   "source": [
    "data = '2025-04-10'\n",
    "print('-단위로 data분리(결과 : list)')\n",
    "data_list = data.split('-')\n",
    "print(data_list)\n",
    "print(\"년: \", data_list[0])\n",
    "print(\"월: \", data_list[1])\n",
    "print(\"일: \", data_list[2])\n",
    "\n",
    "#'-'을 '/'로 바꾸기\n",
    "temp = \"Python - HTML/CSS - JavaScript - DBMS\"\n",
    "# temp.replace(' - ', ' / ')\n",
    "print('원 데이터: ', temp)\n",
    "splited_temp = temp.split(' - ')\n",
    "print('분리된 데이터: ', splited_temp)\n",
    "joined_temp = '/'.join(splited_temp)\n",
    "print('join된 데이터: ', joined_temp)"
   ]
  },
  {
   "cell_type": "code",
   "execution_count": 93,
   "id": "1cfe01a3",
   "metadata": {},
   "outputs": [],
   "source": [
    "str_ = 'ABC'\n",
    "# str_ = ['A', 'B', 'C']"
   ]
  },
  {
   "cell_type": "code",
   "execution_count": 94,
   "id": "a27d3f8b",
   "metadata": {
    "collapsed": true
   },
   "outputs": [
    {
     "data": {
      "text/plain": [
       "['__add__',\n",
       " '__class__',\n",
       " '__contains__',\n",
       " '__delattr__',\n",
       " '__dir__',\n",
       " '__doc__',\n",
       " '__eq__',\n",
       " '__format__',\n",
       " '__ge__',\n",
       " '__getattribute__',\n",
       " '__getitem__',\n",
       " '__getnewargs__',\n",
       " '__gt__',\n",
       " '__hash__',\n",
       " '__init__',\n",
       " '__init_subclass__',\n",
       " '__iter__',\n",
       " '__le__',\n",
       " '__len__',\n",
       " '__lt__',\n",
       " '__mod__',\n",
       " '__mul__',\n",
       " '__ne__',\n",
       " '__new__',\n",
       " '__reduce__',\n",
       " '__reduce_ex__',\n",
       " '__repr__',\n",
       " '__rmod__',\n",
       " '__rmul__',\n",
       " '__setattr__',\n",
       " '__sizeof__',\n",
       " '__str__',\n",
       " '__subclasshook__',\n",
       " 'capitalize',\n",
       " 'casefold',\n",
       " 'center',\n",
       " 'count',\n",
       " 'encode',\n",
       " 'endswith',\n",
       " 'expandtabs',\n",
       " 'find',\n",
       " 'format',\n",
       " 'format_map',\n",
       " 'index',\n",
       " 'isalnum',\n",
       " 'isalpha',\n",
       " 'isascii',\n",
       " 'isdecimal',\n",
       " 'isdigit',\n",
       " 'isidentifier',\n",
       " 'islower',\n",
       " 'isnumeric',\n",
       " 'isprintable',\n",
       " 'isspace',\n",
       " 'istitle',\n",
       " 'isupper',\n",
       " 'join',\n",
       " 'ljust',\n",
       " 'lower',\n",
       " 'lstrip',\n",
       " 'maketrans',\n",
       " 'partition',\n",
       " 'removeprefix',\n",
       " 'removesuffix',\n",
       " 'replace',\n",
       " 'rfind',\n",
       " 'rindex',\n",
       " 'rjust',\n",
       " 'rpartition',\n",
       " 'rsplit',\n",
       " 'rstrip',\n",
       " 'split',\n",
       " 'splitlines',\n",
       " 'startswith',\n",
       " 'strip',\n",
       " 'swapcase',\n",
       " 'title',\n",
       " 'translate',\n",
       " 'upper',\n",
       " 'zfill']"
      ]
     },
     "execution_count": 94,
     "metadata": {},
     "output_type": "execute_result"
    }
   ],
   "source": [
    "# 문자열이 다룰 수 있는 함수들과 변수들 목록\n",
    "dir(str)"
   ]
  },
  {
   "cell_type": "markdown",
   "id": "6f2d2690",
   "metadata": {},
   "source": [
    "# 7절 시간, 날짜, 날짜시간 다루기"
   ]
  },
  {
   "cell_type": "code",
   "execution_count": null,
   "id": "0e68852e",
   "metadata": {},
   "outputs": [],
   "source": []
  },
  {
   "cell_type": "markdown",
   "id": "dbf416b8",
   "metadata": {},
   "source": [
    "# 8절. 연습문제"
   ]
  },
  {
   "cell_type": "code",
   "execution_count": 100,
   "id": "d93dc3db",
   "metadata": {},
   "outputs": [
    {
     "name": "stdout",
     "output_type": "stream",
     "text": [
      "홍길동\n",
      "23\n",
      "[출력형식:홍길동님의 나이는 23살입니다]\n"
     ]
    }
   ],
   "source": [
    "#1. 이름과 나이 변수를 다음 형식으로 출력하도록 format()함수를 이용해 형식화하세요.\n",
    "#[출력형식: 홍길동님의 나이는 23살입니다]\n",
    "name = str(input())\n",
    "age = int(input())\n",
    "print('[출력형식:{}님의 나이는 {}살입니다]'.format(name,age))"
   ]
  },
  {
   "cell_type": "code",
   "execution_count": 101,
   "id": "968590ee",
   "metadata": {},
   "outputs": [
    {
     "name": "stdout",
     "output_type": "stream",
     "text": [
      "45\n",
      "12\n",
      "덧셈:  57 뺄셈:  33 곱셈:  540 나눗셈:  3.75 몫:  3 나머지:  9\n"
     ]
    }
   ],
   "source": [
    "#2. 두 정수를 입력받아 두 수의 덧셈, 뺄셈, 곱셈, 나눗셈, 몫, 나머지를 출력하세요\n",
    "num1 = int(input())\n",
    "num2 = int(input())\n",
    "sum = num1 + num2\n",
    "sub = num1 - num2\n",
    "mul = num1 * num2\n",
    "div = num1 / num2\n",
    "quot = num1 // num2\n",
    "remain = num1 % num2\n",
    "print('덧셈: ', sum ,'뺄셈: ', sub ,'곱셈: ', mul ,'나눗셈: ', div, '몫: ', quot, '나머지: ', remain)"
   ]
  },
  {
   "cell_type": "code",
   "execution_count": 106,
   "id": "9c238656",
   "metadata": {},
   "outputs": [
    {
     "name": "stdout",
     "output_type": "stream",
     "text": [
      "World Hello\n"
     ]
    }
   ],
   "source": [
    "#3. 문자열의 분리하기와 합치기 기능을 이용하여 'Hello World'가 할당된 변수를 이용하여 'World Hello'로 출력하세요.\n",
    "temp = 'Hello World'\n",
    "temp_list = temp.split(' ')\n",
    "print(temp_list[1], temp_list[0])"
   ]
  },
  {
   "cell_type": "code",
   "execution_count": 148,
   "id": "4ab80232",
   "metadata": {},
   "outputs": [
    {
     "name": "stdout",
     "output_type": "stream",
     "text": [
      "bcdefa\n"
     ]
    }
   ],
   "source": [
    "#4. x = 'abcdef'를 이용하여 'bcdefa'로 출력하세요(문자 슬라이싱이용)\n",
    "x = 'abcdef'\n",
    "print(x[1::1]+x[0])"
   ]
  },
  {
   "cell_type": "code",
   "execution_count": 140,
   "id": "065ef50f",
   "metadata": {},
   "outputs": [
    {
     "name": "stdout",
     "output_type": "stream",
     "text": [
      "fedcba\n"
     ]
    }
   ],
   "source": [
    "#5. x = 'abcdef'를 이용하여 'fedcba'로 출력하세요\n",
    "x = 'abcdef'\n",
    "print(x[::-1])"
   ]
  },
  {
   "cell_type": "code",
   "execution_count": 156,
   "id": "069f4be4",
   "metadata": {},
   "outputs": [
    {
     "name": "stdout",
     "output_type": "stream",
     "text": [
      "40\n",
      "화씨:104도\n"
     ]
    }
   ],
   "source": [
    "#6. 오늘의 온도를 섭씨온도로 입력받아 화씨 온도로 변환하는 프로그램을 작성하세요 . \n",
    "#화씨 온도는 소수점이 있을 경우만 두번째 자리까지 출력되고 , \n",
    "#소수점이하 값이 없는 경우 소수점을 출력하지 않도록 합니다 \n",
    "#다음은 섭씨와 화씨의 변환 공식입니다 . C 는 섭씨 ,F 는 화씨\n",
    "#C = (F-32) / 1.8\n",
    "#F = (C*1.8) + 32\n",
    "\n",
    "c = float(input())\n",
    "f = c*1.8 + 32\n",
    "if not f.is_integer():\n",
    "    print('화씨:{:.2f}도'.format(f))\n",
    "else:\n",
    "    print('화씨:{:.0f}도'.format(f))"
   ]
  },
  {
   "cell_type": "code",
   "execution_count": 146,
   "id": "b0700132",
   "metadata": {},
   "outputs": [],
   "source": [
    "#7. 다음 중 변수 선언으로 잘못된 것을 모두 고르시오. 1. for 2. 10th 3. Student.name 4. _1234\n",
    "#답: 1, 2"
   ]
  },
  {
   "cell_type": "code",
   "execution_count": 147,
   "id": "3cdced59",
   "metadata": {},
   "outputs": [
    {
     "name": "stdout",
     "output_type": "stream",
     "text": [
      "SeounSeoul\n",
      "Seou n Seoul\n"
     ]
    }
   ],
   "source": [
    "#8. 다음 코드의 실행결과는?\n",
    "text = \"Seoul A001 - programming with python\"\n",
    "print(text[:4]+text[-1]+text.split()[0])\n",
    "print(text[:4], text[-1], text.split()[0])"
   ]
  },
  {
   "cell_type": "code",
   "execution_count": 149,
   "id": "046ccdea",
   "metadata": {},
   "outputs": [],
   "source": [
    "#9. 다음 중 파이썬 3.x버전에서 연산식과 그 결과의 출력이 잘못된 것은?\n",
    "#1. 수식8//2결과 4  2. 수식 8/2 결과 4  3. 수식 8**결과 64\n",
    "#답: 2"
   ]
  },
  {
   "cell_type": "code",
   "execution_count": 150,
   "id": "af2eab87",
   "metadata": {
    "collapsed": true
   },
   "outputs": [
    {
     "ename": "TypeError",
     "evalue": "unsupported operand type(s) for +: 'int' and 'str'",
     "output_type": "error",
     "traceback": [
      "\u001b[1;31m---------------------------------------------------------------------------\u001b[0m",
      "\u001b[1;31mTypeError\u001b[0m                                 Traceback (most recent call last)",
      "Cell \u001b[1;32mIn[150], line 4\u001b[0m\n\u001b[0;32m      2\u001b[0m x \u001b[38;5;241m=\u001b[39m \u001b[38;5;241m5\u001b[39m\n\u001b[0;32m      3\u001b[0m y \u001b[38;5;241m=\u001b[39m \u001b[38;5;124m\"\u001b[39m\u001b[38;5;124mJohn\u001b[39m\u001b[38;5;124m\"\u001b[39m\n\u001b[1;32m----> 4\u001b[0m \u001b[38;5;28mprint\u001b[39m(\u001b[43mx\u001b[49m\u001b[43m \u001b[49m\u001b[38;5;241;43m+\u001b[39;49m\u001b[43m \u001b[49m\u001b[43my\u001b[49m)\n",
      "\u001b[1;31mTypeError\u001b[0m: unsupported operand type(s) for +: 'int' and 'str'"
     ]
    }
   ],
   "source": [
    "#10. 아래 프로그램의 결과는?\n",
    "x = 5\n",
    "y = \"John\"\n",
    "print(x + y)\n",
    "# 에러 발생"
   ]
  },
  {
   "cell_type": "code",
   "execution_count": 152,
   "id": "dec6de2d",
   "metadata": {},
   "outputs": [
    {
     "name": "stdout",
     "output_type": "stream",
     "text": [
      "나라\n"
     ]
    }
   ],
   "source": [
    "#11. split()함수를 이용하여 str_의 값 중 \"나라\"를 출력하는 프로그램을 완성하시오\n",
    "str_ = \"우리 나라 대한 민국\"\n",
    "str_list = str_.split(' ')\n",
    "print(str_list[1])"
   ]
  },
  {
   "cell_type": "code",
   "execution_count": null,
   "id": "cbb5b485",
   "metadata": {},
   "outputs": [],
   "source": []
  }
 ],
 "metadata": {
  "kernelspec": {
   "display_name": "Python 3 (ipykernel)",
   "language": "python",
   "name": "python3"
  },
  "language_info": {
   "codemirror_mode": {
    "name": "ipython",
    "version": 3
   },
   "file_extension": ".py",
   "mimetype": "text/x-python",
   "name": "python",
   "nbconvert_exporter": "python",
   "pygments_lexer": "ipython3",
   "version": "3.10.9"
  },
  "toc": {
   "base_numbering": 1,
   "nav_menu": {},
   "number_sections": false,
   "sideBar": true,
   "skip_h1_title": false,
   "title_cell": "Table of Contents",
   "title_sidebar": "Contents",
   "toc_cell": false,
   "toc_position": {},
   "toc_section_display": true,
   "toc_window_display": false
  }
 },
 "nbformat": 4,
 "nbformat_minor": 5
}
